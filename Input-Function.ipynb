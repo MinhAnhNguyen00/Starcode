{
 "cells": [
  {
   "cell_type": "markdown",
   "id": "8c21302bfd284b07",
   "metadata": {},
   "source": [
    "# starcode<sup>*</sup> WiSe 24/25"
   ]
  },
  {
   "cell_type": "markdown",
   "id": "56ffb9c5-0516-4807-b19d-7ee65ddc07c9",
   "metadata": {},
   "source": [
    "Eingabe von Werten und Buchstaben in eine Funktion"
   ]
  },
  {
   "cell_type": "markdown",
   "id": "31539726-d2e7-4d42-9f0d-6ee4d6d07459",
   "metadata": {},
   "source": [
    "Für das Galgenmännchenspiel müssen wir der Spielerin die Möglichkeit Buchstaben zu raten. Hierzu soll jeweils ein Buchstabe eingegeben werden, der dann von unserem Programm geprüft wird. Dazu verwenden wir die Funktion input() von Python. Sie erlaubt uns Text oder andere Eingaben, den wir in die Kommandozeile tippen zu speichern und damit weiter zu arbeiten. Zum besseren Verständnis hier erstmal ein Beispiel."
   ]
  },
  {
   "cell_type": "code",
   "execution_count": 8,
   "id": "65002b99-3a42-4372-86b2-1c479ca2e4dc",
   "metadata": {},
   "outputs": [
    {
     "name": "stdin",
     "output_type": "stream",
     "text": [
      "Bitte ein Wort eingeben aöskjhdfa\n"
     ]
    },
    {
     "data": {
      "text/plain": [
       "'aöskjhdfa'"
      ]
     },
     "execution_count": 8,
     "metadata": {},
     "output_type": "execute_result"
    }
   ],
   "source": [
    "input('Bitte ein Wort eingeben')"
   ]
  },
  {
   "cell_type": "markdown",
   "id": "45d2f0c2-4d30-43b6-bcd7-e8d4662bc36f",
   "metadata": {},
   "source": [
    "Wir können also in die Klammern des input() Befehls eine Anweisung schreiben, die dann vor dem Textfeld erscheint. Beachte, dass Text, wie immer in Python in Anführungsstrichen geschrieben werden muss. Um den eingegebenen Wert zu verarbeiten können wir uns die Eingabe als Variable speichern."
   ]
  },
  {
   "cell_type": "code",
   "execution_count": 9,
   "id": "06dae1bc-1b28-4775-9e23-971ca86fe45b",
   "metadata": {},
   "outputs": [
    {
     "name": "stdin",
     "output_type": "stream",
     "text": [
      "Bitte gib deinen Namen ein. Johanna\n"
     ]
    }
   ],
   "source": [
    "name = input('Bitte gib deinen Namen ein.')"
   ]
  },
  {
   "cell_type": "markdown",
   "id": "233256c3-7b37-4b88-a40d-00a4f0322bfe",
   "metadata": {},
   "source": [
    "Nun können wir den eingegebenen Namen wieder aufrufen. Zum Beispiel mit dem print() Befehl von oben:"
   ]
  },
  {
   "cell_type": "code",
   "execution_count": 12,
   "id": "25a3c82e-0020-4fc7-a69a-b292ae24487b",
   "metadata": {},
   "outputs": [
    {
     "name": "stdout",
     "output_type": "stream",
     "text": [
      "Johanna ist dein Name\n"
     ]
    }
   ],
   "source": [
    "print('Dein Name ist'+ name)"
   ]
  },
  {
   "cell_type": "markdown",
   "id": "f8eeaffd-9b16-434f-bef3-f5a60b66adc4",
   "metadata": {},
   "source": [
    "Versuche nun selber ein Inputfeld zu erstellen, was nach dem Lieblingstier fragt. Gib mit dem Printbefehl das Lieblingstier zurück."
   ]
  },
  {
   "cell_type": "code",
   "execution_count": null,
   "id": "bed30217-36ea-4916-b491-0e8137030d08",
   "metadata": {},
   "outputs": [],
   "source": []
  },
  {
   "cell_type": "markdown",
   "id": "8f45c36a-b51b-4776-944b-0e55e78ccfaa",
   "metadata": {},
   "source": [
    "Unser nächstes Ziel ist es, zu prüfen, ob ein bestimmter Buchstabe in einem Wort enthalten ist. Das funktioniert folgendermaßen: Wir definieren uns zunächst ein Wort, was wir als Variable speichern:"
   ]
  },
  {
   "cell_type": "code",
   "execution_count": 2,
   "id": "7a88622e-fcec-4d75-a2d4-e7096019a5f4",
   "metadata": {},
   "outputs": [],
   "source": [
    "word = 'Hase'"
   ]
  },
  {
   "cell_type": "markdown",
   "id": "de1f1d1c-9888-47ce-b90f-73b52845dd71",
   "metadata": {},
   "source": [
    "Wenn wir nun prüfen wollen, ob ein Buchstabe in unserem Wort enthalten ist, geben wir folgendes ein:"
   ]
  },
  {
   "cell_type": "code",
   "execution_count": 3,
   "id": "3c0865f4-680f-4ec2-81d7-2f6a86921350",
   "metadata": {},
   "outputs": [
    {
     "data": {
      "text/plain": [
       "True"
      ]
     },
     "execution_count": 3,
     "metadata": {},
     "output_type": "execute_result"
    }
   ],
   "source": [
    "'a' in word"
   ]
  },
  {
   "cell_type": "markdown",
   "id": "d9a24deb-9c3b-4c11-98e6-625d48041861",
   "metadata": {},
   "source": [
    "Wir sehen, dass uns der Wert True, als wahr zurückgegeben wird. Das sollte ja auch so sein. Wenn wir nun"
   ]
  },
  {
   "cell_type": "code",
   "execution_count": 4,
   "id": "c62ce281-068d-4439-9bb7-bfa1d5f19944",
   "metadata": {},
   "outputs": [
    {
     "data": {
      "text/plain": [
       "False"
      ]
     },
     "execution_count": 4,
     "metadata": {},
     "output_type": "execute_result"
    }
   ],
   "source": [
    "'p' in word"
   ]
  },
  {
   "cell_type": "markdown",
   "id": "0d86d0fa-8f38-4704-b650-ea15d1ef076c",
   "metadata": {},
   "source": [
    "ausprobieren, wird wie erwartet False, also falsch zurückgegeben. Probiere einmal selbst aus, was passiert, wenn du ein paar Buchstaben testest. Spiele insbesondere mal mit Groß- und Kleinschreibung herum."
   ]
  },
  {
   "cell_type": "code",
   "execution_count": null,
   "id": "3db3cce2-8fc2-431e-81dd-04a85dd5194c",
   "metadata": {},
   "outputs": [],
   "source": []
  },
  {
   "cell_type": "markdown",
   "id": "41d15dae-2b11-4230-99d7-524efdfdc6e3",
   "metadata": {},
   "source": [
    "Du wirst feststellen, dass Python den Buchstaben 'w' nicht im Wort wiederfindet, sondern nur 'W'. Ebenso wird für 'A' False zurückgegeben, für 'a' allerdings True. Um dieses Problem zu umgehen wollen wir alle Wörter und Buchstaben mit denen wir hantieren großschreiben oder alle kleinschreiben. Dazu gibt es die folgenden Befehle:"
   ]
  },
  {
   "cell_type": "code",
   "execution_count": 5,
   "id": "62795f00-ce65-4ec1-994f-82e3519761bb",
   "metadata": {},
   "outputs": [
    {
     "name": "stdout",
     "output_type": "stream",
     "text": [
      "Maus MAUS maus\n"
     ]
    }
   ],
   "source": [
    "a = 'Maus'\n",
    "a_upper=a.upper()\n",
    "a_lower=a.lower()\n",
    "print(a, a_upper, a_lower)"
   ]
  },
  {
   "cell_type": "markdown",
   "id": "a4d60544-ece2-43ee-b6bc-af07c7cda699",
   "metadata": {},
   "source": [
    "Nun haben wir alle Werkzeuge zusammen, um eine Funktion zu schreiben, die prüft, ob ein Buchstabe in einem Wort vorkommt. Aber dazu müssen wir erstmal verstehen, was eine Funktion in Python überhaupt ist. "
   ]
  },
  {
   "cell_type": "markdown",
   "id": "6259ae45-5571-41ab-b62c-8edbdeabd50c",
   "metadata": {},
   "source": [
    "Funktionen"
   ]
  },
  {
   "cell_type": "markdown",
   "id": "6c8bf6b3-cc28-4d20-8f3d-66e7b3944fff",
   "metadata": {},
   "source": [
    "Eine Funktion ist ein Baustein, der eine bestimmte Aufgabe erfüllt. Man kann sie immer wieder aufrufen und an verschiedenen Stellen verwenden. Eine Fu"
   ]
  },
  {
   "cell_type": "code",
   "execution_count": null,
   "id": "a74be03c-6ab3-401c-885b-0251f5df7daf",
   "metadata": {},
   "outputs": [],
   "source": [
    "B=input('Bitte einen Buchstaben raten jetzt').upper()\n",
    "Buchstabe_in_Wort(B,W)"
   ]
  },
  {
   "cell_type": "code",
   "execution_count": null,
   "id": "a630b514-fe6e-4f33-bcd2-1677b37782d7",
   "metadata": {},
   "outputs": [],
   "source": [
    "Buchstabe_in_Wort(B,W)"
   ]
  },
  {
   "cell_type": "code",
   "execution_count": null,
   "id": "7b57f97f-20af-41db-8f55-30ee42874c97",
   "metadata": {},
   "outputs": [],
   "source": []
  },
  {
   "cell_type": "code",
   "execution_count": null,
   "id": "c3d05d98-f7c9-4430-ac7d-97cc47930d81",
   "metadata": {},
   "outputs": [],
   "source": [
    "def Buchstabe_in_Wort(B,W):\n",
    "    return B in W"
   ]
  },
  {
   "cell_type": "code",
   "execution_count": null,
   "id": "e9b6dd8c-bfc5-4214-8eb6-442f206ca722",
   "metadata": {},
   "outputs": [],
   "source": []
  }
 ],
 "metadata": {
  "kernelspec": {
   "display_name": "Python 3 (ipykernel)",
   "language": "python",
   "name": "python3"
  },
  "language_info": {
   "codemirror_mode": {
    "name": "ipython",
    "version": 3
   },
   "file_extension": ".py",
   "mimetype": "text/x-python",
   "name": "python",
   "nbconvert_exporter": "python",
   "pygments_lexer": "ipython3",
   "version": "3.11.7"
  }
 },
 "nbformat": 4,
 "nbformat_minor": 5
}
