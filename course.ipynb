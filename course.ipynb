{
 "cells": [
  {
   "metadata": {},
   "cell_type": "markdown",
   "source": "# starcode<sup>*</sup> WiSe 24/25\n",
   "id": "1ce713da46c5d873"
  },
  {
   "metadata": {},
   "cell_type": "markdown",
   "source": "## Prerequisites",
   "id": "85bd4efb50147498"
  },
  {
   "cell_type": "code",
   "execution_count": null,
   "id": "initial_id",
   "metadata": {
    "collapsed": true
   },
   "outputs": [],
   "source": "!pip install -r requirements.txt"
  },
  {
   "metadata": {
    "ExecuteTime": {
     "end_time": "2024-11-16T15:12:02.562858Z",
     "start_time": "2024-11-16T15:12:02.552498Z"
    }
   },
   "cell_type": "code",
   "source": [
    "from lib.classes.controller.controller import GameController\n",
    "from lib.classes.model.game import HangmanGame\n",
    "from lib.classes.model.game_type import GameType\n",
    "\n",
    "controller = GameController()"
   ],
   "id": "f702c51a107aaaec",
   "outputs": [],
   "execution_count": 1
  },
  {
   "metadata": {},
   "cell_type": "markdown",
   "source": "## Hangman Game",
   "id": "2e1343a1a22a1235"
  },
  {
   "metadata": {},
   "cell_type": "markdown",
   "source": "First let's start the game.",
   "id": "7f756b1ccdc17a5c"
  },
  {
   "metadata": {
    "ExecuteTime": {
     "end_time": "2024-11-16T15:12:04.245914Z",
     "start_time": "2024-11-16T15:12:04.242203Z"
    }
   },
   "cell_type": "code",
   "source": "controller.start_game(GameType.HANGMAN)",
   "id": "4a36c34851bf557d",
   "outputs": [
    {
     "name": "stdout",
     "output_type": "stream",
     "text": [
      "Created game instance with type: Hangman Game\n",
      "Created gui instance with corresponding game type: Hangman Game\n"
     ]
    }
   ],
   "execution_count": 2
  },
  {
   "metadata": {},
   "cell_type": "markdown",
   "source": "Demonstrate how the students can modify backend functions during class:",
   "id": "e2929aa06eddf0d8"
  },
  {
   "metadata": {},
   "cell_type": "markdown",
   "source": "Let's call the original backend implementation:",
   "id": "813fa3cd31817d90"
  },
  {
   "metadata": {
    "ExecuteTime": {
     "end_time": "2024-11-16T15:12:07.214219Z",
     "start_time": "2024-11-16T15:12:07.205985Z"
    }
   },
   "cell_type": "code",
   "source": "controller.get_game_instance_by_type(GameType.HANGMAN).play_move('C')",
   "id": "b18f2c997c9a6a49",
   "outputs": [
    {
     "name": "stdout",
     "output_type": "stream",
     "text": [
      "This is the original backend implementation...\n"
     ]
    },
    {
     "data": {
      "text/plain": [
       "False"
      ]
     },
     "execution_count": 3,
     "metadata": {},
     "output_type": "execute_result"
    }
   ],
   "execution_count": 3
  },
  {
   "metadata": {},
   "cell_type": "markdown",
   "source": "Let's modify the original implementation and execute it:",
   "id": "4397d79146555f0b"
  },
  {
   "metadata": {
    "ExecuteTime": {
     "end_time": "2024-11-16T15:12:09.917380Z",
     "start_time": "2024-11-16T15:12:09.911884Z"
    }
   },
   "cell_type": "code",
   "source": [
    "def play_move(self, move: str) -> bool:\n",
    "    if move.isalpha():\n",
    "        print(f\"That's a valid move: {move}\")\n",
    "        return True\n",
    "    else:\n",
    "        print(\"Oops! That's not a valid move\")\n",
    "        return False\n",
    "    \n",
    "HangmanGame.play_move = play_move\n",
    "controller.get_game_instance_by_type(GameType.HANGMAN).play_move('C')"
   ],
   "id": "2314798867a64a37",
   "outputs": [
    {
     "name": "stdout",
     "output_type": "stream",
     "text": [
      "That's a valid move\n"
     ]
    },
    {
     "data": {
      "text/plain": [
       "True"
      ]
     },
     "execution_count": 4,
     "metadata": {},
     "output_type": "execute_result"
    }
   ],
   "execution_count": 4
  }
 ],
 "metadata": {
  "kernelspec": {
   "display_name": "Python 3",
   "language": "python",
   "name": "python3"
  },
  "language_info": {
   "codemirror_mode": {
    "name": "ipython",
    "version": 2
   },
   "file_extension": ".py",
   "mimetype": "text/x-python",
   "name": "python",
   "nbconvert_exporter": "python",
   "pygments_lexer": "ipython2",
   "version": "2.7.6"
  }
 },
 "nbformat": 4,
 "nbformat_minor": 5
}
