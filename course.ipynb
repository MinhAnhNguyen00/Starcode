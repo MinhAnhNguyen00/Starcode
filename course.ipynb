{
 "cells": [
  {
   "metadata": {},
   "cell_type": "markdown",
   "source": "# starcode<sup>*</sup> WiSe 24/25\n",
   "id": "1ce713da46c5d873"
  },
  {
   "metadata": {},
   "cell_type": "markdown",
   "source": "## Prerequisites",
   "id": "85bd4efb50147498"
  },
  {
   "metadata": {
    "ExecuteTime": {
     "end_time": "2024-11-17T00:11:37.423693Z",
     "start_time": "2024-11-17T00:11:37.405215Z"
    }
   },
   "cell_type": "code",
   "source": [
    "# TODO: remove after dev cycle --> it auto-reloads the project sources during development\n",
    "%load_ext autoreload\n",
    "%autoreload 2"
   ],
   "id": "1fe96733d4c817d7",
   "outputs": [
    {
     "name": "stdout",
     "output_type": "stream",
     "text": [
      "The autoreload extension is already loaded. To reload it, use:\n",
      "  %reload_ext autoreload\n"
     ]
    }
   ],
   "execution_count": 7
  },
  {
   "cell_type": "code",
   "execution_count": null,
   "id": "initial_id",
   "metadata": {
    "collapsed": true
   },
   "outputs": [],
   "source": "!pip install -r requirements.txt"
  },
  {
   "metadata": {
    "ExecuteTime": {
     "end_time": "2024-11-17T00:08:43.917705Z",
     "start_time": "2024-11-17T00:08:43.215357Z"
    }
   },
   "cell_type": "code",
   "source": [
    "from lib.classes.controller.controller import GameController\n",
    "from lib.classes.model.game import HangmanGame\n",
    "from lib.classes.model.game_type import GameType\n",
    "\n",
    "controller = GameController()"
   ],
   "id": "f702c51a107aaaec",
   "outputs": [],
   "execution_count": 2
  },
  {
   "metadata": {},
   "cell_type": "markdown",
   "source": "## Hangman Game",
   "id": "2e1343a1a22a1235"
  },
  {
   "metadata": {},
   "cell_type": "markdown",
   "source": "First let's start the game.",
   "id": "7f756b1ccdc17a5c"
  },
  {
   "metadata": {
    "ExecuteTime": {
     "end_time": "2024-11-16T15:12:04.245914Z",
     "start_time": "2024-11-16T15:12:04.242203Z"
    }
   },
   "cell_type": "code",
   "source": "controller.start_game(GameType.HANGMAN)",
   "id": "4a36c34851bf557d",
   "outputs": [
    {
     "name": "stdout",
     "output_type": "stream",
     "text": [
      "Created game instance with type: Hangman Game\n",
      "Created gui instance with corresponding game type: Hangman Game\n"
     ]
    }
   ],
   "execution_count": 2
  },
  {
   "metadata": {},
   "cell_type": "markdown",
   "source": "Demonstrate how the students can modify backend functions during class:",
   "id": "e2929aa06eddf0d8"
  },
  {
   "metadata": {},
   "cell_type": "markdown",
   "source": "Let's call the original backend implementation:",
   "id": "813fa3cd31817d90"
  },
  {
   "metadata": {
    "ExecuteTime": {
     "end_time": "2024-11-16T15:12:07.214219Z",
     "start_time": "2024-11-16T15:12:07.205985Z"
    }
   },
   "cell_type": "code",
   "source": "controller.get_game_instance_by_type(GameType.HANGMAN).play_move('C')",
   "id": "b18f2c997c9a6a49",
   "outputs": [
    {
     "name": "stdout",
     "output_type": "stream",
     "text": [
      "This is the original backend implementation...\n"
     ]
    },
    {
     "data": {
      "text/plain": [
       "False"
      ]
     },
     "execution_count": 3,
     "metadata": {},
     "output_type": "execute_result"
    }
   ],
   "execution_count": 3
  },
  {
   "metadata": {},
   "cell_type": "markdown",
   "source": "Let's modify the original implementation and execute it:",
   "id": "4397d79146555f0b"
  },
  {
   "metadata": {
    "ExecuteTime": {
     "end_time": "2024-11-16T15:12:09.917380Z",
     "start_time": "2024-11-16T15:12:09.911884Z"
    }
   },
   "cell_type": "code",
   "source": [
    "def play_move(self, move: str) -> bool:\n",
    "    if move.isalpha():\n",
    "        print(f\"That's a valid move: {move}\")\n",
    "        return True\n",
    "    else:\n",
    "        print(f\"Oops! That's not a valid move: {move}\")\n",
    "        return False\n",
    "    \n",
    "HangmanGame.play_move = play_move\n",
    "controller.get_game_instance_by_type(GameType.HANGMAN).play_move('C')"
   ],
   "id": "2314798867a64a37",
   "outputs": [
    {
     "name": "stdout",
     "output_type": "stream",
     "text": [
      "That's a valid move\n"
     ]
    },
    {
     "data": {
      "text/plain": [
       "True"
      ]
     },
     "execution_count": 4,
     "metadata": {},
     "output_type": "execute_result"
    }
   ],
   "execution_count": 4
  },
  {
   "metadata": {},
   "cell_type": "markdown",
   "source": "## Snake Game",
   "id": "4d85b9718a8d5480"
  },
  {
   "metadata": {},
   "cell_type": "code",
   "source": "controller.start_game(GameType.SNAKE)",
   "id": "1ed2ab5f54cc6d73",
   "execution_count": 17,
   "outputs": [
    {
     "ename": "KeyboardInterrupt",
     "evalue": "",
     "output_type": "error",
     "traceback": [
      "\u001B[0;31m---------------------------------------------------------------------------\u001B[0m",
      "\u001B[0;31mKeyboardInterrupt\u001B[0m                         Traceback (most recent call last)",
      "Cell \u001B[0;32mIn[17], line 1\u001B[0m\n\u001B[0;32m----> 1\u001B[0m \u001B[43mcontroller\u001B[49m\u001B[38;5;241;43m.\u001B[39;49m\u001B[43mstart_game\u001B[49m\u001B[43m(\u001B[49m\u001B[43mGameType\u001B[49m\u001B[38;5;241;43m.\u001B[39;49m\u001B[43mSNAKE\u001B[49m\u001B[43m)\u001B[49m\n",
      "File \u001B[0;32m~/PycharmProjects/starcode_course/lib/classes/controller/controller.py:35\u001B[0m, in \u001B[0;36mGameController.start_game\u001B[0;34m(self, g_type)\u001B[0m\n\u001B[1;32m     32\u001B[0m \u001B[38;5;28mself\u001B[39m\u001B[38;5;241m.\u001B[39mguis\u001B[38;5;241m.\u001B[39mappend(gui_instance)\n\u001B[1;32m     34\u001B[0m \u001B[38;5;28;01mif\u001B[39;00m g_type \u001B[38;5;241m==\u001B[39m GameType\u001B[38;5;241m.\u001B[39mSNAKE:\n\u001B[0;32m---> 35\u001B[0m     \u001B[38;5;28;43mself\u001B[39;49m\u001B[38;5;241;43m.\u001B[39;49m\u001B[43mrun_snake_game_loop\u001B[49m\u001B[43m(\u001B[49m\u001B[43mgame_instance\u001B[49m\u001B[43m,\u001B[49m\u001B[43m \u001B[49m\u001B[43mgui_instance\u001B[49m\u001B[43m)\u001B[49m\n\u001B[1;32m     36\u001B[0m \u001B[38;5;28;01melif\u001B[39;00m g_type \u001B[38;5;241m==\u001B[39m GameType\u001B[38;5;241m.\u001B[39mHANGMAN:\n\u001B[1;32m     37\u001B[0m     \u001B[38;5;28mself\u001B[39m\u001B[38;5;241m.\u001B[39mrun_hangman_game_loop()\n",
      "File \u001B[0;32m~/PycharmProjects/starcode_course/lib/classes/controller/controller.py:62\u001B[0m, in \u001B[0;36mGameController.run_snake_game_loop\u001B[0;34m(self, game, gui)\u001B[0m\n\u001B[1;32m     60\u001B[0m gui\u001B[38;5;241m.\u001B[39mvisualize_game_state()\n\u001B[1;32m     61\u001B[0m \u001B[38;5;66;03m# wait until next game state update\u001B[39;00m\n\u001B[0;32m---> 62\u001B[0m \u001B[43mtime\u001B[49m\u001B[38;5;241;43m.\u001B[39;49m\u001B[43msleep\u001B[49m\u001B[43m(\u001B[49m\u001B[38;5;241;43m1\u001B[39;49m\u001B[43m)\u001B[49m\n",
      "\u001B[0;31mKeyboardInterrupt\u001B[0m: "
     ]
    }
   ]
  }
 ],
 "metadata": {
  "kernelspec": {
   "display_name": "Python 3",
   "language": "python",
   "name": "python3"
  },
  "language_info": {
   "codemirror_mode": {
    "name": "ipython",
    "version": 2
   },
   "file_extension": ".py",
   "mimetype": "text/x-python",
   "name": "python",
   "nbconvert_exporter": "python",
   "pygments_lexer": "ipython2",
   "version": "2.7.6"
  }
 },
 "nbformat": 4,
 "nbformat_minor": 5
}
