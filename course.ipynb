{
 "cells": [
  {
   "metadata": {},
   "cell_type": "markdown",
   "source": "# starcode<sup>*</sup> WiSe 24/25\n",
   "id": "1ce713da46c5d873"
  },
  {
   "metadata": {},
   "cell_type": "markdown",
   "source": "## Prerequisites",
   "id": "85bd4efb50147498"
  },
  {
   "metadata": {
    "ExecuteTime": {
     "end_time": "2024-11-16T21:54:41.911787Z",
     "start_time": "2024-11-16T21:54:41.899073Z"
    }
   },
   "cell_type": "code",
   "source": [
    "# TODO: remove after dev cycle --> it auto-reloads the project sources during development\n",
    "%load_ext autoreload\n",
    "%autoreload 2"
   ],
   "id": "1fe96733d4c817d7",
   "outputs": [],
   "execution_count": 1
  },
  {
   "cell_type": "code",
   "execution_count": null,
   "id": "initial_id",
   "metadata": {
    "collapsed": true
   },
   "outputs": [],
   "source": "!pip install -r requirements.txt"
  },
  {
   "metadata": {
    "ExecuteTime": {
     "end_time": "2024-11-16T21:54:43.313101Z",
     "start_time": "2024-11-16T21:54:42.882850Z"
    }
   },
   "cell_type": "code",
   "source": [
    "from lib.classes.controller.controller import GameController\n",
    "from lib.classes.model.game import HangmanGame\n",
    "from lib.classes.model.game_type import GameType\n",
    "\n",
    "controller = GameController()"
   ],
   "id": "f702c51a107aaaec",
   "outputs": [],
   "execution_count": 2
  },
  {
   "metadata": {},
   "cell_type": "markdown",
   "source": "## Hangman Game",
   "id": "2e1343a1a22a1235"
  },
  {
   "metadata": {},
   "cell_type": "markdown",
   "source": "First let's start the game.",
   "id": "7f756b1ccdc17a5c"
  },
  {
   "metadata": {
    "ExecuteTime": {
     "end_time": "2024-11-16T15:12:04.245914Z",
     "start_time": "2024-11-16T15:12:04.242203Z"
    }
   },
   "cell_type": "code",
   "source": "controller.start_game(GameType.HANGMAN)",
   "id": "4a36c34851bf557d",
   "outputs": [
    {
     "name": "stdout",
     "output_type": "stream",
     "text": [
      "Created game instance with type: Hangman Game\n",
      "Created gui instance with corresponding game type: Hangman Game\n"
     ]
    }
   ],
   "execution_count": 2
  },
  {
   "metadata": {},
   "cell_type": "markdown",
   "source": "Demonstrate how the students can modify backend functions during class:",
   "id": "e2929aa06eddf0d8"
  },
  {
   "metadata": {},
   "cell_type": "markdown",
   "source": "Let's call the original backend implementation:",
   "id": "813fa3cd31817d90"
  },
  {
   "metadata": {
    "ExecuteTime": {
     "end_time": "2024-11-16T15:12:07.214219Z",
     "start_time": "2024-11-16T15:12:07.205985Z"
    }
   },
   "cell_type": "code",
   "source": "controller.get_game_instance_by_type(GameType.HANGMAN).play_move('C')",
   "id": "b18f2c997c9a6a49",
   "outputs": [
    {
     "name": "stdout",
     "output_type": "stream",
     "text": [
      "This is the original backend implementation...\n"
     ]
    },
    {
     "data": {
      "text/plain": [
       "False"
      ]
     },
     "execution_count": 3,
     "metadata": {},
     "output_type": "execute_result"
    }
   ],
   "execution_count": 3
  },
  {
   "metadata": {},
   "cell_type": "markdown",
   "source": "Let's modify the original implementation and execute it:",
   "id": "4397d79146555f0b"
  },
  {
   "metadata": {
    "ExecuteTime": {
     "end_time": "2024-11-16T15:12:09.917380Z",
     "start_time": "2024-11-16T15:12:09.911884Z"
    }
   },
   "cell_type": "code",
   "source": [
    "def play_move(self, move: str) -> bool:\n",
    "    if move.isalpha():\n",
    "        print(f\"That's a valid move: {move}\")\n",
    "        return True\n",
    "    else:\n",
    "        print(f\"Oops! That's not a valid move: {move}\")\n",
    "        return False\n",
    "    \n",
    "HangmanGame.play_move = play_move\n",
    "controller.get_game_instance_by_type(GameType.HANGMAN).play_move('C')"
   ],
   "id": "2314798867a64a37",
   "outputs": [
    {
     "name": "stdout",
     "output_type": "stream",
     "text": [
      "That's a valid move\n"
     ]
    },
    {
     "data": {
      "text/plain": [
       "True"
      ]
     },
     "execution_count": 4,
     "metadata": {},
     "output_type": "execute_result"
    }
   ],
   "execution_count": 4
  },
  {
   "metadata": {},
   "cell_type": "markdown",
   "source": "## Snake Game",
   "id": "4d85b9718a8d5480"
  },
  {
   "metadata": {
    "ExecuteTime": {
     "end_time": "2024-11-16T21:54:47.822731Z",
     "start_time": "2024-11-16T21:54:47.805630Z"
    }
   },
   "cell_type": "code",
   "source": [
    "controller.start_game(GameType.SNAKE)\n",
    "snake_game = controller.get_game_instance_by_type(GameType.SNAKE)\n",
    "snake_gui = controller.get_gui_instance_by_game(snake_game)"
   ],
   "id": "68d82720b910901e",
   "outputs": [
    {
     "name": "stdout",
     "output_type": "stream",
     "text": [
      "Created game instance with type: Snake Game\n",
      "Created gui instance with corresponding game type: Snake Game\n"
     ]
    }
   ],
   "execution_count": 3
  },
  {
   "metadata": {
    "ExecuteTime": {
     "end_time": "2024-11-16T21:54:50.753857Z",
     "start_time": "2024-11-16T21:54:50.664044Z"
    }
   },
   "cell_type": "code",
   "source": "snake_gui.visualize_game_state()",
   "id": "a77a413909a090ce",
   "outputs": [
    {
     "data": {
      "text/plain": [
       "<Figure size 600x600 with 1 Axes>"
      ],
      "image/png": "[encoded data removed]"
     },
     "metadata": {},
     "output_type": "display_data"
    }
   ],
   "execution_count": 4
  },
  {
   "metadata": {},
   "cell_type": "markdown",
   "source": "",
   "id": "4b5cc6e504d9a5fb"
  },
  {
   "metadata": {
    "ExecuteTime": {
     "end_time": "2024-11-16T19:15:59.698571Z",
     "start_time": "2024-11-16T19:15:26.272728Z"
    }
   },
   "cell_type": "code",
   "source": "print(\"DBG\")",
   "id": "1ed2ab5f54cc6d73",
   "outputs": [
    {
     "ename": "KeyboardInterrupt",
     "evalue": "",
     "output_type": "error",
     "traceback": [
      "\u001B[0;31m---------------------------------------------------------------------------\u001B[0m",
      "\u001B[0;31mKeyboardInterrupt\u001B[0m                         Traceback (most recent call last)",
      "Cell \u001B[0;32mIn[4], line 1\u001B[0m\n\u001B[0;32m----> 1\u001B[0m \u001B[38;5;28mprint\u001B[39m(\u001B[38;5;124m\"\u001B[39m\u001B[38;5;124mDBG\u001B[39m\u001B[38;5;124m\"\u001B[39m)\n",
      "File \u001B[0;32m_pydevd_bundle/pydevd_cython_darwin_312_64.pyx:1187\u001B[0m, in \u001B[0;36m_pydevd_bundle.pydevd_cython_darwin_312_64.SafeCallWrapper.__call__\u001B[0;34m()\u001B[0m\n",
      "File \u001B[0;32m_pydevd_bundle/pydevd_cython_darwin_312_64.pyx:627\u001B[0m, in \u001B[0;36m_pydevd_bundle.pydevd_cython_darwin_312_64.PyDBFrame.trace_dispatch\u001B[0;34m()\u001B[0m\n",
      "File \u001B[0;32m_pydevd_bundle/pydevd_cython_darwin_312_64.pyx:937\u001B[0m, in \u001B[0;36m_pydevd_bundle.pydevd_cython_darwin_312_64.PyDBFrame.trace_dispatch\u001B[0;34m()\u001B[0m\n",
      "File \u001B[0;32m_pydevd_bundle/pydevd_cython_darwin_312_64.pyx:928\u001B[0m, in \u001B[0;36m_pydevd_bundle.pydevd_cython_darwin_312_64.PyDBFrame.trace_dispatch\u001B[0;34m()\u001B[0m\n",
      "File \u001B[0;32m_pydevd_bundle/pydevd_cython_darwin_312_64.pyx:585\u001B[0m, in \u001B[0;36m_pydevd_bundle.pydevd_cython_darwin_312_64.PyDBFrame.do_wait_suspend\u001B[0;34m()\u001B[0m\n",
      "File \u001B[0;32m~/Applications/PyCharm Professional Edition.app/Contents/plugins/python/helpers/pydev/pydevd.py:1185\u001B[0m, in \u001B[0;36mPyDB.do_wait_suspend\u001B[0;34m(self, thread, frame, event, arg, send_suspend_message, is_unhandled_exception)\u001B[0m\n\u001B[1;32m   1182\u001B[0m         from_this_thread\u001B[38;5;241m.\u001B[39mappend(frame_id)\n\u001B[1;32m   1184\u001B[0m \u001B[38;5;28;01mwith\u001B[39;00m \u001B[38;5;28mself\u001B[39m\u001B[38;5;241m.\u001B[39m_threads_suspended_single_notification\u001B[38;5;241m.\u001B[39mnotify_thread_suspended(thread_id, stop_reason):\n\u001B[0;32m-> 1185\u001B[0m     \u001B[38;5;28;43mself\u001B[39;49m\u001B[38;5;241;43m.\u001B[39;49m\u001B[43m_do_wait_suspend\u001B[49m\u001B[43m(\u001B[49m\u001B[43mthread\u001B[49m\u001B[43m,\u001B[49m\u001B[43m \u001B[49m\u001B[43mframe\u001B[49m\u001B[43m,\u001B[49m\u001B[43m \u001B[49m\u001B[43mevent\u001B[49m\u001B[43m,\u001B[49m\u001B[43m \u001B[49m\u001B[43marg\u001B[49m\u001B[43m,\u001B[49m\u001B[43m \u001B[49m\u001B[43msuspend_type\u001B[49m\u001B[43m,\u001B[49m\u001B[43m \u001B[49m\u001B[43mfrom_this_thread\u001B[49m\u001B[43m)\u001B[49m\n",
      "File \u001B[0;32m~/Applications/PyCharm Professional Edition.app/Contents/plugins/python/helpers/pydev/pydevd.py:1200\u001B[0m, in \u001B[0;36mPyDB._do_wait_suspend\u001B[0;34m(self, thread, frame, event, arg, suspend_type, from_this_thread)\u001B[0m\n\u001B[1;32m   1197\u001B[0m             \u001B[38;5;28mself\u001B[39m\u001B[38;5;241m.\u001B[39m_call_mpl_hook()\n\u001B[1;32m   1199\u001B[0m         \u001B[38;5;28mself\u001B[39m\u001B[38;5;241m.\u001B[39mprocess_internal_commands()\n\u001B[0;32m-> 1200\u001B[0m         \u001B[43mtime\u001B[49m\u001B[38;5;241;43m.\u001B[39;49m\u001B[43msleep\u001B[49m\u001B[43m(\u001B[49m\u001B[38;5;241;43m0.01\u001B[39;49m\u001B[43m)\u001B[49m\n\u001B[1;32m   1202\u001B[0m \u001B[38;5;28mself\u001B[39m\u001B[38;5;241m.\u001B[39mcancel_async_evaluation(get_current_thread_id(thread), \u001B[38;5;28mstr\u001B[39m(\u001B[38;5;28mid\u001B[39m(frame)))\n\u001B[1;32m   1204\u001B[0m \u001B[38;5;66;03m# process any stepping instructions\u001B[39;00m\n",
      "\u001B[0;31mKeyboardInterrupt\u001B[0m: "
     ]
    }
   ],
   "execution_count": 4
  }
 ],
 "metadata": {
  "kernelspec": {
   "display_name": "Python 3",
   "language": "python",
   "name": "python3"
  },
  "language_info": {
   "codemirror_mode": {
    "name": "ipython",
    "version": 2
   },
   "file_extension": ".py",
   "mimetype": "text/x-python",
   "name": "python",
   "nbconvert_exporter": "python",
   "pygments_lexer": "ipython2",
   "version": "2.7.6"
  }
 },
 "nbformat": 4,
 "nbformat_minor": 5
}
