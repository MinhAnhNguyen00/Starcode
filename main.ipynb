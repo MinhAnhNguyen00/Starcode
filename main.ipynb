{
 "cells": [
  {
   "metadata": {},
   "cell_type": "markdown",
   "source": "# starcode<sup>*</sup> WiSe 24/25",
   "id": "8c21302bfd284b07"
  },
  {
   "cell_type": "code",
   "id": "initial_id",
   "metadata": {
    "collapsed": true,
    "ExecuteTime": {
     "end_time": "2024-11-20T17:45:30.463033Z",
     "start_time": "2024-11-20T17:45:03.183479Z"
    }
   },
   "source": [
    "from ipywidgets import interact\n",
    "\n",
    "from lib.hangman import hangman\n",
    "\n",
    "hangman(vs_cpu=True)"
   ],
   "outputs": [
    {
     "name": "stdout",
     "output_type": "stream",
     "text": [
      "Welcome to Hangman!\n",
      "Please Enter your name:\n",
      "Hello, chris! Nice to meet you!\n",
      "Let's play...\n",
      "Enter a guess please: \n",
      "Wrong guess, you lost a live!\n",
      "You have 4 lives remaining.\n",
      "Enter a guess please: \n",
      "Please guess only one alphabetical letter!\n",
      "Enter a guess please: \n",
      "Wrong guess, you lost a live!\n",
      "You have 3 lives remaining.\n",
      "Enter a guess please: \n",
      "Wrong guess, you lost a live!\n",
      "You have 2 lives remaining.\n",
      "Enter a guess please: \n",
      "Wrong guess, you lost a live!\n",
      "You have 1 lives remaining.\n",
      "Enter a guess please: \n",
      "Wrong guess, you lost a live!\n",
      "You have 0 lives remaining.\n",
      "Oh no, you lost the game!\n",
      "You lost!\n"
     ]
    }
   ],
   "execution_count": 2
  }
 ],
 "metadata": {
  "kernelspec": {
   "display_name": "Python 3",
   "language": "python",
   "name": "python3"
  },
  "language_info": {
   "codemirror_mode": {
    "name": "ipython",
    "version": 2
   },
   "file_extension": ".py",
   "mimetype": "text/x-python",
   "name": "python",
   "nbconvert_exporter": "python",
   "pygments_lexer": "ipython2",
   "version": "2.7.6"
  }
 },
 "nbformat": 4,
 "nbformat_minor": 5
}
