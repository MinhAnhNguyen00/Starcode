{
 "cells": [
  {
   "cell_type": "markdown",
   "id": "8c21302bfd284b07",
   "metadata": {},
   "source": [
    "# starcode<sup>*</sup> WiSe 24/25"
   ]
  },
  {
   "cell_type": "code",
   "execution_count": 2,
   "id": "initial_id",
   "metadata": {
    "ExecuteTime": {
     "end_time": "2024-11-20T17:45:30.463033Z",
     "start_time": "2024-11-20T17:45:03.183479Z"
    },
    "collapsed": true
   },
   "outputs": [
    {
     "name": "stdout",
     "output_type": "stream",
     "text": [
      "Welcome to Hangman!\n",
      "Please Enter your name:\n",
      "Hello, chris! Nice to meet you!\n",
      "Let's play...\n",
      "Enter a guess please: \n",
      "Wrong guess, you lost a live!\n",
      "You have 4 lives remaining.\n",
      "Enter a guess please: \n",
      "Please guess only one alphabetical letter!\n",
      "Enter a guess please: \n",
      "Wrong guess, you lost a live!\n",
      "You have 3 lives remaining.\n",
      "Enter a guess please: \n",
      "Wrong guess, you lost a live!\n",
      "You have 2 lives remaining.\n",
      "Enter a guess please: \n",
      "Wrong guess, you lost a live!\n",
      "You have 1 lives remaining.\n",
      "Enter a guess please: \n",
      "Wrong guess, you lost a live!\n",
      "You have 0 lives remaining.\n",
      "Oh no, you lost the game!\n",
      "You lost!\n"
     ]
    }
   ],
   "source": [
    "from ipywidgets import interact\n",
    "\n",
    "from lib.hangman import hangman\n",
    "\n",
    "hangman(vs_cpu=True)"
   ]
  },
  {
   "cell_type": "markdown",
   "id": "9c4a323b",
   "metadata": {},
   "source": [
    "## Kontrollfluss in Programmen\n",
    "\n",
    "Wie im echten Leben treffen wir auch in Programmen Entscheidungen basierend auf bestimmten Bedingungen oder Beobachtungen. \n",
    "\n",
    "In Python verwenden wir die Schlüsselwörter `if` und `else`, um solche Entscheidungen umzusetzen. Dabei prüfen wir eine Bedingung und führen abhängig von ihrem Ergebnis unterschiedliche Aktionen aus.\n",
    "\n",
    "Wir können uns das Konzept in natürlicher Sprache so vorstellen:\n",
    "\n",
    "- **Wenn es regnet**, dann nehme ich einen Regenschirm.\n",
    "- **Wenn es nicht regnet**, dann brauche ich keinen Regenschirm.\n",
    "\n",
    "Das folgende Beispiel zeigt, wie wir diese Logik in Python umsetzen können:"
   ]
  },
  {
   "cell_type": "code",
   "execution_count": null,
   "id": "8367ee5d",
   "metadata": {},
   "outputs": [
    {
     "name": "stdout",
     "output_type": "stream",
     "text": [
      "Es regnet heute, du brauchst einen Regenschirm!\n"
     ]
    }
   ],
   "source": [
    "# Wir nehmen an, dass es heute regnet. Du kannst die Variable auch auf \"False\" setzen, um zu testen, wie das Programm auf trockenes Wetter reagiert.\n",
    "regen = True\n",
    "\n",
    "# Mit IF und ELSE prüfen wir die Bedingung:\n",
    "# \"Wenn es regnet, tue das ...\" \"Sonst tue etwas anderes ...\"\n",
    "if regen:\n",
    "    print(\"Es regnet heute, du brauchst einen Regenschirm!\")\n",
    "else:\n",
    "    print(\"Heute ist es trocken, du brauchst keinen Regenschirm!\")"
   ]
  },
  {
   "cell_type": "markdown",
   "id": "efef856d",
   "metadata": {},
   "source": [
    "### Vergleichsoperatoren und Bedingungen\n",
    "\n",
    "Bisher haben wir `if` und `else` verwendet, um einfache Bedingungen zu prüfen, z. B. ob eine Variable `True` oder `False` ist. Oft müssen wir jedoch **Vergleiche** zwischen Werten anstellen, um Entscheidungen zu treffen.\n",
    "\n",
    "Mit **Vergleichsoperatoren** kannst du überprüfen, wie zwei Werte zueinander stehen. Die häufigsten Vergleichsoperatoren in Python sind:\n",
    "\n",
    "- `>` (größer als)\n",
    "- `<` (kleiner als)\n",
    "- `>=` (größer oder gleich)\n",
    "- `<=` (kleiner oder gleich)\n",
    "- `==` (gleich)\n",
    "- `!=` (ungleich)\n",
    "\n",
    "#### Beispiel:\n",
    "Stell dir vor, wir möchten prüfen, ob es draußen so kalt ist, dass eine Jacke notwendig ist:\n",
    "- **Frage:** Ist die Temperatur unter 15 Grad?\n",
    "- **Antwort:** Das wird mit dem Vergleich `temperatur < 15` geprüft.\n",
    "\n",
    "#### Aufgabe:\n",
    "Schreibe ein Programm, das die Nutzer:in fragt, wie viel Grad es draußen hat, und eine passende Nachricht ausgibt:\n",
    "\n",
    "1. Wenn die Temperatur unter 15 Grad liegt, soll das Programm ausgeben: `\"Es ist kalt, zieh eine Jacke an!\"`.\n",
    "2. Andernfalls soll es ausgeben: `\"Es ist warm genug, du brauchst keine Jacke.\"`.\n",
    "\n",
    "#### Bonus:\n",
    "Füge eine Eingabeaufforderung hinzu, damit die Nutzer:in selbst die Temperatur eingeben kann.\n",
    "\n",
    "#### Beispiel für die Ausgabe:\n",
    "```plaintext\n",
    "Wie viel Grad hat es draußen? 10\n",
    "Es ist kalt, zieh eine Jacke an!\n"
   ]
  },
  {
   "cell_type": "code",
   "execution_count": null,
   "id": "7a4070ab",
   "metadata": {},
   "outputs": [],
   "source": [
    "# TODO: Zunächst müssen wir eine Variable definieren, um dem Programm mitzuteilen, wie warm es gerade draußen ist.\n",
    "# Tipp: Du kannst die Temperatur direkt setzen oder die Nutzer:in fragen, sie einzugeben.\n",
    "\n",
    "# TODO: Als nächstes müssen wir anhand der Temperatur entscheiden, ob eine Jacke benötigt wird. \n",
    "# Ersetze dazu \"_\" mit der entsprechenden Bedingung.\n",
    "\n",
    "if _:  # Ersetze \"_\" mit der richtigen Bedingung, z. B. \"temperatur < 15\"\n",
    "    print(\"Bitte trage hier eine Nachricht an den Nutzer ein...\")  # Passe die Nachricht an\n",
    "else:\n",
    "    print(\"Bitte trage hier eine Nachricht an den Nutzer ein...\")  # Passe die Nachricht an\n"
   ]
  }
 ],
 "metadata": {
  "kernelspec": {
   "display_name": ".venv",
   "language": "python",
   "name": "python3"
  },
  "language_info": {
   "codemirror_mode": {
    "name": "ipython",
    "version": 3
   },
   "file_extension": ".py",
   "mimetype": "text/x-python",
   "name": "python",
   "nbconvert_exporter": "python",
   "pygments_lexer": "ipython3",
   "version": "3.12.0"
  }
 },
 "nbformat": 4,
 "nbformat_minor": 5
}
