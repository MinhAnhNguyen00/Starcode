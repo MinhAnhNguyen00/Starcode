{
 "cells": [
  {
   "cell_type": "markdown",
   "id": "8c21302bfd284b07",
   "metadata": {},
   "source": [
    "# starcode<sup>*</sup> WiSe 24/25"
   ]
  },
  {
   "cell_type": "markdown",
   "id": "672ff63a",
   "metadata": {},
   "source": [
    "# DEV STUFF\n",
    "\n",
    "THIS IS ONLY USED DURING DEV CYCLE! THESE COMMANDS LOAD THE JUPYTER EXETENSION FOR HOT-RELOADING PROJECT SOURCES!"
   ]
  },
  {
   "cell_type": "code",
   "execution_count": 3,
   "id": "6a03c04dc48e9127",
   "metadata": {
    "ExecuteTime": {
     "end_time": "2025-02-05T13:20:45.251589Z",
     "start_time": "2025-02-05T13:20:45.247784Z"
    }
   },
   "outputs": [
    {
     "data": {
      "text/plain": [
       "['custom.css']"
      ]
     },
     "execution_count": 3,
     "metadata": {},
     "output_type": "execute_result"
    }
   ],
   "source": [
    "import os\n",
    "os.listdir(\".binder/custom/\")"
   ]
  },
  {
   "cell_type": "code",
   "execution_count": 6,
   "id": "e8413912d15a40ba",
   "metadata": {
    "ExecuteTime": {
     "end_time": "2025-02-05T13:31:41.380729Z",
     "start_time": "2025-02-05T13:31:41.377353Z"
    }
   },
   "outputs": [
    {
     "data": {
      "text/html": [
       "<style>/* custom.css */\n",
       ".highlight {\n",
       "    background-color: blue;\n",
       "    font-family: \"Comic Sans MS\";\n",
       "    font-weight: bold;\n",
       "    padding: 5px;\n",
       "    border-radius: 5px;\n",
       "}\n",
       "\n",
       "</style>"
      ],
      "text/plain": [
       "<IPython.core.display.HTML object>"
      ]
     },
     "metadata": {},
     "output_type": "display_data"
    }
   ],
   "source": [
    "with open(\".binder/custom/custom.css\", \"r\") as f:\n",
    "    custom_css = f.read()\n",
    "\n",
    "from IPython.display import display, HTML\n",
    "display(HTML(f\"<style>{custom_css}</style>\"))\n"
   ]
  },
  {
   "cell_type": "markdown",
   "id": "cb38972173f72439",
   "metadata": {},
   "source": [
    "<div class=\"highlight\">\n",
    "    Dieser Text sollte gestylt sein.\n",
    "</div>\n"
   ]
  },
  {
   "cell_type": "code",
   "execution_count": 2,
   "id": "3bb5a446",
   "metadata": {
    "ExecuteTime": {
     "end_time": "2025-01-03T09:34:08.939715Z",
     "start_time": "2025-01-03T09:34:08.930534Z"
    },
    "jupyter": {
     "source_hidden": true
    },
    "scrolled": true
   },
   "outputs": [
    {
     "name": "stdout",
     "output_type": "stream",
     "text": [
      "The autoreload extension is already loaded. To reload it, use:\n",
      "  %reload_ext autoreload\n"
     ]
    }
   ],
   "source": [
    "%load_ext autoreload\n",
    "%autoreload 2\n"
   ]
  },
  {
   "cell_type": "markdown",
   "id": "79dd8129-7ddf-437d-9489-15d243cafd0c",
   "metadata": {},
   "source": [
    "## Was ist ein Programm? (15min)\n"
   ]
  },
  {
   "cell_type": "markdown",
   "id": "88b8efd9-5d7e-424b-b465-b927a237d71f",
   "metadata": {
    "jp-MarkdownHeadingCollapsed": true
   },
   "source": [
    "\n",
    "<div style=\"background-color: khaki; padding: 10px; border-radius: 5px; overflow: hidden;\">\n",
    "    <img src=\"msc/img/gesamtes_flussdiagramm.jpg\" style=\"width:400px; margin: 20px; float: right\"/>\n",
    "    Im Folgenden erarbeiten wir zusammen die <b>Grundlagen des Programmierens</b> mit der Programmiersprache Python.<br>\n",
    "    Anhand von <b>Erklärungen, Beispielen und Aufgaben</b> programmieren wir gemeinsam ein <b>Hangman-Spiel</b>. Dazu wollen wir erstmal verstehen, was <b>ein Programm eigentlich ist.</b><br>\n",
    "    <br>\n",
    "    <b>Ein Programm ist eine Menge von hintereinander ausgeführten Anweisungen.</b><br>\n",
    "    Das mag sich jetzt etwas abstrakt anhören, aber tatsächlich kennt ihr Programme schon aus eurem Alltag.<br>\n",
    "    <b>Anleitungen zum Aufbauen von Möbelstücken</b> oder <b>Kochrezepte</b> kann man sich als Programme vorstellen.<br>\n",
    "    <img src=\"msc/img/Bauanleitung_Vogelhaus.jpg\" style=\"width:200px; margin: 20px\" />\n",
    "    <img src=\"msc/img/Kochrezept.jpg\" style=\"width:200px; margin: 20px\"/>\n",
    "    <br>\n",
    "    Im Unterschied dazu beinhalten Programme in Computern <b>Code-Anweisungen</b>, die <b>vom Computer ausgeführt werden</b>. \n",
    "    Hier ein sehr einfaches erstes Programm:\n",
    "</div>\n",
    "\n",
    "\n"
   ]
  },
  {
   "cell_type": "code",
   "execution_count": 3,
   "id": "d4970143",
   "metadata": {},
   "outputs": [
    {
     "name": "stdout",
     "output_type": "stream",
     "text": [
      "Hello World!\n"
     ]
    }
   ],
   "source": [
    "print(\"Hello World!\")"
   ]
  },
  {
   "cell_type": "markdown",
   "id": "f45f236f",
   "metadata": {},
   "source": [
    "<div style=\"background-color: khaki; padding: 10px; border-radius: 5px; overflow: hidden;\">\n",
    "    Du kannst das Programm gerne zum <b>Ausführen bringen</b>, um zu sehen, was es macht. \n",
    "Klick dafür auf die folgende Zelle mit dem Code und tippe dann gleichzeitig <b>SHIFT + ENTER</b> (⇧ + ↵ ).<br>\n",
    "    <img src=\"msc/img/Tastatur_Farbig.jpg\" style=\"width:200px; margin: 20px\"/><br>\n",
    "    <b>Unter der Zelle</b> ist der folgende Ausdruck erschienen:\n",
    "</div>\n",
    "\n",
    "```python\n",
    "    Hello World!\n",
    "```\n",
    "\n",
    "<div style=\"background-color: khaki; padding: 10px; border-radius: 5px; overflow: hidden;\">\n",
    "Das 'Hello World' nennen wir <b>Ausgabe</b>. Der Bereich unter der Code-Zelle heißt <b>Konsole</b>.\n",
    "</div>"
   ]
  },
  {
   "cell_type": "markdown",
   "id": "63cc0019",
   "metadata": {
    "jp-MarkdownHeadingCollapsed": true
   },
   "source": [
    "## Der `print`-Befehl (10min)"
   ]
  },
  {
   "cell_type": "markdown",
   "id": "d98f6ce0",
   "metadata": {},
   "source": [
    "<div style=\"background-color: khaki; padding: 10px; border-radius: 5px; overflow: hidden;\">\n",
    "    Wir wollen uns nun den <b>print</b> Befehl genauer anschauen.<br> \n",
    "    Wie oben gesehen, gibt dieser Befehl den Text, den wir in Klammern eingeben, in der Konsole zurück. <br>\n",
    "    Beachte hier, dass Text (sogenannte <b>strings</b>) in Python in Anführungsstrichen geschrieben werden muss. \n",
    "</div>"
   ]
  },
  {
   "cell_type": "code",
   "execution_count": 3,
   "id": "7d233ca8",
   "metadata": {},
   "outputs": [
    {
     "name": "stdout",
     "output_type": "stream",
     "text": [
      "Hallo\n",
      "HalloWorld\n"
     ]
    }
   ],
   "source": [
    "#Hier ein einfacher print-Befehl\n",
    "print('Hallo')\n",
    "\n",
    "# Wir könnnen übrigens verschiedene Textbausteine, also strings auch mit einem + ganz einfach verbinden:\n",
    "print('Hallo'+'World')"
   ]
  },
  {
   "cell_type": "markdown",
   "id": "e304d7a4",
   "metadata": {},
   "source": [
    "<div style=\"background-color: khaki; padding: 10px; border-radius: 5px; overflow: hidden;\">\n",
    "    Beachte, dass hier das Leerzeichen fehlt. <br> Du kannst es am Ende von 'Hallo' oder am Anfang von 'World' einfügen und schauen, ob dann die richtige Ausgabe in der Konsole erscheint. <br> \n",
    "    Nachdem du etwas geändert hast, musst du den Code erneut ausführen, also <b>SHIFT + ENTER** (⇧ + ↵ )</b> drücken. <br>\n",
    "    Natürlich können wir auch wie oben, einfach einen ganzen Satz in Anführungszeichen schreiben. Aber die Methode zwei Strings mit einem + zu verbinden wird später noch nützlich sein.\n",
    "</div>\n",
    "<div style=\"background-color: lightgreen; padding: 10px; border-radius: 5px; overflow: hidden;\">\n",
    "    <img src=\"msc/img/Starte_hangman1.png\" style=\"width:200px; margin: 20px; float: right\"/>\n",
    "    <b>KONTEXT:</b> Wenn das Spiel beginnt, wollen wir in der Konsole eine Begrüßung ausgeben. Aus dieser soll hervorgehen, dass es sich hier um ein Hangman-Spiel handelt. Es können auch kurz und knapp die Spielregeln erklärt werden. <br>\n",
    "</div>\n",
    "<div style=\"background-color: lightblue; padding: 10px; border-radius: 5px; overflow: hidden;\">\n",
    "    <b>Aufgabe:</b> Überlege dir eine Begrüßung für das Hangman Spiel und benutze den <b>print</b> Befehl um diese in der Konsole ausgeben zu lassen. \n",
    "\n",
    "</div>\n"
   ]
  },
  {
   "cell_type": "code",
   "execution_count": 21,
   "id": "b9067fc3",
   "metadata": {},
   "outputs": [],
   "source": [
    "# Hier kannst du die Begrüßung für das Spiel schreiben\n",
    "\n"
   ]
  },
  {
   "cell_type": "markdown",
   "id": "935cdbf5",
   "metadata": {
    "jp-MarkdownHeadingCollapsed": true
   },
   "source": [
    "## Kommentare (5min)"
   ]
  },
  {
   "cell_type": "markdown",
   "id": "07fed2e8",
   "metadata": {},
   "source": [
    "<div style=\"background-color: khaki; padding: 10px; border-radius: 5px; overflow: hidden;\">\n",
    "    Sicherlich sind dir im vorherigen Code-Schnipsel die <b>grünen Ausdrücke mit vorangegangenen #</b> aufgefallen.<br>\n",
    "Dabei handelt es sich um <b>Kommentare</b>, die <b>nicht vom Computer als Anweisung verstanden</b> werden. Sie werden also vom Computer ignoriert und <b>dienen der Leserin als ergänzende Info</b>.\n",
    "</div>\n"
   ]
  },
  {
   "cell_type": "code",
   "execution_count": 4,
   "id": "60ee0e01",
   "metadata": {},
   "outputs": [
    {
     "ename": "NameError",
     "evalue": "name 'x' is not defined",
     "output_type": "error",
     "traceback": [
      "\u001b[0;31m---------------------------------------------------------------------------\u001b[0m",
      "\u001b[0;31mNameError\u001b[0m                                 Traceback (most recent call last)",
      "Cell \u001b[0;32mIn[4], line 4\u001b[0m\n\u001b[1;32m      1\u001b[0m \u001b[38;5;66;03m# Dies ist ein Kommentar.\u001b[39;00m\n\u001b[1;32m      2\u001b[0m \u001b[38;5;66;03m# x=5 \u001b[39;00m\n\u001b[1;32m      3\u001b[0m \u001b[38;5;66;03m# Dies wird ignoriert, das heißt der Computer kennt x nicht. Folgendes führt also zu einem Fehler:\u001b[39;00m\n\u001b[0;32m----> 4\u001b[0m \u001b[38;5;28mprint\u001b[39m(\u001b[43mx\u001b[49m)\n",
      "\u001b[0;31mNameError\u001b[0m: name 'x' is not defined"
     ]
    }
   ],
   "source": [
    "# Dies ist ein Kommentar.\n",
    "# x=5 \n",
    "# Dies wird ignoriert, das heißt der Computer kennt x nicht. Folgendes führt also zu einem Fehler:\n",
    "print(x)"
   ]
  },
  {
   "cell_type": "markdown",
   "id": "bb6268b8",
   "metadata": {
    "jp-MarkdownHeadingCollapsed": true
   },
   "source": [
    "## Variablen (10min)\n"
   ]
  },
  {
   "cell_type": "markdown",
   "id": "3e270868",
   "metadata": {},
   "source": [
    "<div style=\"background-color: khaki; padding: 10px; border-radius: 5px; overflow: hidden;\">\n",
    "    In <b>Variablen</b> können wir Werte abspeichern. <br> \n",
    "    Du kennst höchstwahrscheinlich schon Variablen aus der Mathematik oder Physik, in denen Zahlen gespeichert sind. <br> \n",
    "    In Python können <b>Werte</b> Zahlen, Strings (Text) oder sogenannte Booleans sein. Ein <b>Boolean</b> ist ein Wahrheitswert. Er kann einer der beiden Werte <b>True</b> (wahr) oder <b>False</b> (falsch) sein.\n",
    "\n",
    "Hier ein paar Beispiele:\n",
    "</div>\n"
   ]
  },
  {
   "cell_type": "code",
   "execution_count": 5,
   "id": "9d05d891",
   "metadata": {},
   "outputs": [],
   "source": [
    "a = 7\n",
    "b = 9\n",
    "string = 'Text'\n",
    "c = True"
   ]
  },
  {
   "cell_type": "markdown",
   "id": "c615bd87",
   "metadata": {},
   "source": [
    "<div style=\"background-color: khaki; padding: 10px; border-radius: 5px; overflow: hidden;\">\n",
    "    Und jetzt kannst du die Werte der Variablen weiterverwenden und zum Beispiel mit dem <b>print</b>-Befehl ausgeben lassen.\n",
    "</div>"
   ]
  },
  {
   "cell_type": "code",
   "execution_count": 6,
   "id": "f7ecf8db",
   "metadata": {},
   "outputs": [
    {
     "name": "stdout",
     "output_type": "stream",
     "text": [
      "Text\n",
      "16\n"
     ]
    }
   ],
   "source": [
    "print(string)\n",
    "print(a+b)"
   ]
  },
  {
   "cell_type": "markdown",
   "id": "2dd7ff7b",
   "metadata": {},
   "source": [
    "<div style=\"background-color: lightblue; padding: 10px; border-radius: 5px; overflow: hidden;\">\n",
    "    <b>Aufgabe:</b> Probiere selber aus Variablen zu definieren und auszugeben. \n",
    "</div>"
   ]
  },
  {
   "cell_type": "code",
   "execution_count": 22,
   "id": "2441e6a1",
   "metadata": {},
   "outputs": [],
   "source": [
    "# Hier hast du selber Platz zum Ausprobieren. Du kannst natürlich auch die Zellen oben verwenden.\n",
    "\n"
   ]
  },
  {
   "cell_type": "markdown",
   "id": "fd75f6d2",
   "metadata": {
    "jp-MarkdownHeadingCollapsed": true
   },
   "source": [
    "## Zusatz (Datentypen)"
   ]
  },
  {
   "cell_type": "markdown",
   "id": "5fe5ef59",
   "metadata": {},
   "source": [
    "\n",
    "Die folgende Tabelle gibt einen Einsteiger-Überblick zu Datentypen. \n",
    "\n",
    "| Datentyp | Wertebereich | Beispiel |\n",
    "|----------|----------|----------|\n",
    "| `int` | Ganze Zahlen | `11` |\n",
    "| `float` | Reelle Zahlen | `3.14` |\n",
    "| `str` | Zeichenfolgen | `\"Katze\"`, `\"starcode*\"` |\n",
    "| `boolean` | `True`, `False` | `True` |\n",
    "\n",
    "Tatsächlich gibt es zwei Unterarten von Zahlen und zwar `int` und `float`. Dies kann für gewisse Operationen, wie die Division, wichtig sein. (Darauf werden wir hier nicht eingehen.)"
   ]
  },
  {
   "cell_type": "markdown",
   "id": "a866427d",
   "metadata": {
    "jp-MarkdownHeadingCollapsed": true
   },
   "source": [
    "## `Input` (15min)"
   ]
  },
  {
   "cell_type": "markdown",
   "id": "460312b7",
   "metadata": {},
   "source": [
    "<div style=\"background-color: lightgreen; padding: 10px; border-radius: 5px; overflow: hidden;\">\n",
    "    <img src=\"msc/img/Rate_buchstaben1.png\" style=\"width:200px; margin: 20px; float: right\"/>\n",
    "    <b>KONTEXT:</b> Für das Galgenmännchenspiel müssen wir der Spielerin die Möglichkeit geben Buchstaben zu raten. <br>\n",
    "    Hierzu soll jeweils ein Buchstabe eingegeben werden, der dann von unserem Programm geprüft wird.\n",
    "</div>\n",
    "<div style=\"background-color: khaki; padding: 10px; border-radius: 5px; overflow: hidden;\">\n",
    "    Hierzu verwenden wir die Funktion <b>input()</b> von Python. <br> Sie erlaubt uns Text oder andere Eingaben, den wir in die Kommandozeile tippen zu speichern und damit weiter zu arbeiten. Zum besseren Verständnis hier erstmal ein Beispiel.\n",
    "</div>"
   ]
  },
  {
   "cell_type": "code",
   "execution_count": 1,
   "id": "d18e32e3",
   "metadata": {},
   "outputs": [
    {
     "name": "stdin",
     "output_type": "stream",
     "text": [
      "Bitte ein Wort eingeben sfa\n"
     ]
    },
    {
     "data": {
      "text/plain": [
       "'sfa'"
      ]
     },
     "execution_count": 1,
     "metadata": {},
     "output_type": "execute_result"
    }
   ],
   "source": [
    "# Der Befehl Input lässt ein Textfeld erscheinen, in den die Benutzerin etwas eingeben kann\n",
    "input('Bitte ein Wort eingeben')"
   ]
  },
  {
   "cell_type": "markdown",
   "id": "935ce3b2",
   "metadata": {},
   "source": [
    "<div style=\"background-color: khaki; padding: 10px; border-radius: 5px; overflow: hidden;\">\n",
    "    Wir können also in die Klammern des <b>input()</b> Befehls eine Anweisung schreiben, die dann vor dem Textfeld erscheint. <br> \n",
    "    Beachte, dass Strings, wie immer in Python in Anführungsstrichen geschrieben werden müssen. <br> \n",
    "    Um den eingegebenen Wert zu verarbeiten können wir uns die Eingabe als Variable speichern.\n",
    "</div>"
   ]
  },
  {
   "cell_type": "code",
   "execution_count": 20,
   "id": "6f3a4972",
   "metadata": {},
   "outputs": [],
   "source": [
    "#Wir speichern die Eingabe unter der Variable name. Somit können wir später wieder darauf zugreifen und der eingegebene Wert geht nicht verloren.\n",
    "name = input('Bitte gib deinen Namen ein.')"
   ]
  },
  {
   "cell_type": "markdown",
   "id": "4c6508d0",
   "metadata": {},
   "source": [
    "<div style=\"background-color: khaki; padding: 10px; border-radius: 5px; overflow: hidden;\">\n",
    "    Nun können wir den eingegebenen Namen wieder aufrufen. Zum Beispiel mit dem <b>print()</b>-Befehl von oben:\n",
    "</div>\n"
   ]
  },
  {
   "cell_type": "code",
   "execution_count": 21,
   "id": "436c06c8",
   "metadata": {},
   "outputs": [
    {
     "name": "stdout",
     "output_type": "stream",
     "text": [
      "Dein Name ist jkhb.\n"
     ]
    }
   ],
   "source": [
    "# Hier verbinden wir nun verschiedene Strings mit einem +, wie oben gelernt.\n",
    "print('Dein Name ist '+ name +'.')"
   ]
  },
  {
   "cell_type": "markdown",
   "id": "852c539d",
   "metadata": {},
   "source": [
    "<div style=\"background-color: lightblue; padding: 10px; border-radius: 5px; overflow: hidden;\">\n",
    "    <b>Aufgabe:</b> Versuche nun selber ein Inputfeld zu erstellen, was eine personalisierte Begrüßung für das Spiel erstellt. Du kannst die Begrüßung von oben gerne kopieren und erweitern.\n",
    "</div>\n",
    "\n"
   ]
  },
  {
   "cell_type": "code",
   "execution_count": null,
   "id": "e08c9865",
   "metadata": {},
   "outputs": [],
   "source": [
    "# TODO Nimm zunächst die Eingabe der Nutzerin entgegen. Nutze dazu, was wir oben gelernt haben.\n",
    "# Speicher die Eingabe gleich unter einem sinnvollen Variablennamen.\n",
    "\n",
    "\n",
    "# TODO Nun begrüße die Person mit ihrem Namen zum Hangman Spiel."
   ]
  },
  {
   "cell_type": "markdown",
   "id": "f81d5a36",
   "metadata": {
    "jp-MarkdownHeadingCollapsed": true
   },
   "source": [
    "## Funktionen (45min)"
   ]
  },
  {
   "cell_type": "markdown",
   "id": "bbc549be",
   "metadata": {},
   "source": [
    "<div style=\"background-color: khaki; padding: 10px; border-radius: 5px; overflow: hidden;\">\n",
    "    Eine <b>Funktion</b> ist ein Baustein, der eine bestimmte Aufgabe erfüllt. <br>\n",
    "    Man kann sie immer wieder aufrufen und an verschiedenen Stellen verwenden. Eine Funktion hat bestimmte Bestandteile, die wir immer verwenden müssen. <br>\n",
    "    Wir können uns das Prinzip einer Funktion, wie in der Mathematik vorstellen. Die Funktion bekommt dabei eine Eingabe (Input) und verarbeitet diese. Am Ende gibt sie ein Ergebnis (Output) zurück. <br>\n",
    "    Hier erstmal ein Beispiel. Du musst noch nicht genau verstehen, was hier passiert. Der Name verrät aber schon die Aufgabe \n",
    "</div>\n",
    "\n"
   ]
  },
  {
   "cell_type": "code",
   "execution_count": null,
   "id": "b3b209f4",
   "metadata": {},
   "outputs": [],
   "source": [
    "def addition(zahl1, zahl2):\n",
    "        ergebnis=zahl1+zahl2\n",
    "        return ergebnis"
   ]
  },
  {
   "cell_type": "markdown",
   "id": "756f9cda",
   "metadata": {},
   "source": [
    "<div style=\"background-color: khaki; padding: 10px; border-radius: 5px; overflow: hidden;\">\n",
    "    In der folgenden Grafik sind die Elemente einer Funktion einmal benannt und erklärt:\n",
    "    <img src=\"msc/img/Erklärung_Funktionen.png\" style=\"width:800px; margin: 20px\"/> <br>\n",
    "    Hier ein paar Beispiele für Funktionsnamen und die sinnvolle Benennung der Input-Variablen:\n",
    "</div>"
   ]
  },
  {
   "cell_type": "markdown",
   "id": "4cc3a792",
   "metadata": {},
   "source": [
    "\n",
    "```python\n",
    "def Wetter_morgen(Wetterdaten):\n",
    "\n",
    "def Gewicht(Körpergröße, Alter):\n",
    "\n",
    "def Reisezeit(Standort, Zielort):\n",
    "```"
   ]
  },
  {
   "cell_type": "markdown",
   "id": "66baed12",
   "metadata": {},
   "source": [
    "<div style=\"background-color: khaki; padding: 10px; border-radius: 5px; overflow: hidden;\">\n",
    "    Wir sehen also, dass die Namen der Funktionen und deren Input, also die Werte in Klammern, genau aussagen, was dahintersteckt. <br>\n",
    "    Die erste Funktion würde zum Beispiel anhand der Wetterdaten (dem Input) das Wetter vorhersagen. <br> Dagegen kann man von einer Funktion, die wie folgt aussieht\n",
    "</div>\n"
   ]
  },
  {
   "cell_type": "markdown",
   "id": "24781169",
   "metadata": {},
   "source": [
    "```python\n",
    "    def Funktion1(x):\n",
    "```"
   ]
  },
  {
   "cell_type": "markdown",
   "id": "9769d5c5",
   "metadata": {},
   "source": [
    "<div style=\"background-color: khaki; padding: 10px; border-radius: 5px; overflow: hidden;\">\n",
    "    nicht ablesen, was diese tut. Genau, wie wir oben Variablen immer sinnvoll und aussagekräftig benannt haben, tun wir das auch mit Funktionen. <br>\n",
    "    Nun wollen wir die Funktion einmal ausprobieren. Dazu schreiben wir den Namen der Funktion hin, mit den jeweiligen Werten als Input, die wir ausprobieren wollen.\n",
    "</div>\n"
   ]
  },
  {
   "cell_type": "code",
   "execution_count": 28,
   "id": "1f023e26",
   "metadata": {},
   "outputs": [
    {
     "data": {
      "text/plain": [
       "17"
      ]
     },
     "execution_count": 28,
     "metadata": {},
     "output_type": "execute_result"
    }
   ],
   "source": [
    "# Hier testen wir die Funktion, jeweils an die Stelle der oben definierten Variablen kommen unsere Eingabewerte in der richtigen Reihenfolge.\n",
    "addition(9, 8)"
   ]
  },
  {
   "cell_type": "markdown",
   "id": "3477f58b",
   "metadata": {},
   "source": [
    "<div style=\"background-color: khaki; padding: 10px; border-radius: 5px; overflow: hidden;\">\n",
    "    Nicht jede Funktion muss einen <b>Input</b> oder <b>Output</b> haben. <br>\n",
    "    Das heißt die Klammern in der ersten Zeile können auch leer bleiben, wenn es keinen Input gibt. <br> \n",
    "    Ebenso können wir die Zeile mit dem `return` weglassen, wenn es keinen Output gibt. Es folgen nun Beispiele für alle möglichen Fälle die dabei auftreten können.\n",
    "</div>\n",
    "\n"
   ]
  },
  {
   "cell_type": "markdown",
   "id": "12656eaf",
   "metadata": {},
   "source": [
    "### Input und Output"
   ]
  },
  {
   "cell_type": "markdown",
   "id": "7cbd6741",
   "metadata": {},
   "source": [
    "<img src=\"msc/img/Input_Output.png\" style=\"width:800px; margin: 20px\"/>"
   ]
  },
  {
   "cell_type": "code",
   "execution_count": null,
   "id": "1e65f4af",
   "metadata": {},
   "outputs": [
    {
     "name": "stdout",
     "output_type": "stream",
     "text": [
      "21\n"
     ]
    }
   ],
   "source": [
    "# Hier sehen wir die dazugehörige Funktion\n",
    "def multiplikation(zahl1, zahl2):\n",
    "    return zahl1* zahl2\n",
    "\n",
    "#Hier testen wir die Funktion:\n",
    "print(multiplikation(3,7))"
   ]
  },
  {
   "cell_type": "markdown",
   "id": "d9fe05d3",
   "metadata": {},
   "source": [
    "### nur Output"
   ]
  },
  {
   "cell_type": "markdown",
   "id": "59b0a282",
   "metadata": {},
   "source": [
    "<img src=\"msc/img/Output.png\" style=\"width:800px; margin: 20px\"/>"
   ]
  },
  {
   "cell_type": "code",
   "execution_count": 6,
   "id": "7728dab7",
   "metadata": {},
   "outputs": [
    {
     "name": "stdout",
     "output_type": "stream",
     "text": [
      "True\n"
     ]
    }
   ],
   "source": [
    "#Diese Funktion hat keinen Input und gibt als Output immer den Wert True\n",
    "def immer_wahr():\n",
    "    return True\n",
    "\n",
    "# Wir testen die Funktion wieder:\n",
    "print(immer_wahr())"
   ]
  },
  {
   "cell_type": "markdown",
   "id": "b8f970e0",
   "metadata": {},
   "source": [
    "### nur Input"
   ]
  },
  {
   "cell_type": "markdown",
   "id": "45e21550",
   "metadata": {},
   "source": [
    "<img src=\"msc/img/Input.png\" style=\"width:800px; margin: 20px\"/>"
   ]
  },
  {
   "cell_type": "code",
   "execution_count": 10,
   "id": "a2a05c36",
   "metadata": {},
   "outputs": [
    {
     "name": "stdout",
     "output_type": "stream",
     "text": [
      "Auf Wiedersehen Weihnachtsmann!\n"
     ]
    }
   ],
   "source": [
    "# Diese Funktion bekommt als Input zwei Strings, jedoch keinen Output.\n",
    "# Beachte, dass die Funktion zwar mit dem print-Befehl Werte in der Konsole ausgibt, dies jedoch kein Output der Funktion ist.\n",
    "# Für einen Output müssten wir das Schlüsselwort return verwenden.\n",
    "def verabschieden(name):\n",
    "    print('Auf Wiedersehen ' + name + '!')\n",
    "\n",
    "# Wir testen die Funktion\n",
    "verabschieden('Weihnachtsmann')"
   ]
  },
  {
   "cell_type": "markdown",
   "id": "a15bdfad",
   "metadata": {},
   "source": [
    "### weder Input noch Output\n"
   ]
  },
  {
   "cell_type": "markdown",
   "id": "af4c25f6",
   "metadata": {},
   "source": [
    "<img src=\"msc/img/nix.png\" style=\"width:800px; margin: 20px\"/>"
   ]
  },
  {
   "cell_type": "code",
   "execution_count": 13,
   "id": "164ad33a",
   "metadata": {},
   "outputs": [
    {
     "name": "stdout",
     "output_type": "stream",
     "text": [
      "Hello world!\n"
     ]
    }
   ],
   "source": [
    "# Hier die einfachste Funktion überhaupt, die wir ganz am Anfang schon kennengelernt haben. Sie hat weder Input, noch Output\n",
    "def hello_world():\n",
    "    print('Hello world!')\n",
    "\n",
    "# Führen wir die Funktion also einmal aus:\n",
    "hello_world()"
   ]
  },
  {
   "cell_type": "markdown",
   "id": "864c4a22",
   "metadata": {},
   "source": [
    "<div style=\"background-color: lightgreen; padding: 10px; border-radius: 5px; overflow: hidden;\">\n",
    "    <b>KONTEXT:</b> Wie oben bereits erwähnt, sind Funktionen, wie Werkzeuge, die wir immer wieder an verschiedenen Stellen verwenden können. Unser Hangman-Spiel wollen wir aus einer Reihe von Funktionen zusammenbauen, die jeweils eine einzelne kleine Aufgabe erfüllen. Wir haben uns bereits erarbeitet, wie die Spielerin im Spiel begrüßt wird und wie sie Buchstaben raten kann, indem sie diese mithilfe des <b>input</b>-Befehls eingibt. Diese Funktionalitäten und auch alles weitere, was wir für das Spiel noch brauchen, wollen wir in einzelne Funktionen 'verpacken'. Erst ganz am Ende werden wir dann alles zusammenführen in einer übergreifenden Funktion, die nach und nach all unsere Funktionen aufruft. \n",
    "Damit das alles am Ende reibungslos funktioniert, haben wir die Namen für die Funktionen schon vorgegeben. <b>Ändere die Namen der Funktionen also bitte nicht!</b>\n",
    "</div>\n",
    "<div style=\"background-color: lightblue; padding: 10px; border-radius: 5px; overflow: hidden;\">\n",
    "    <b>Aufgabe:</b> Schreibe folgende zwei Funktionen: <br>\n",
    "\n",
    "1. Eine Funktion, die von einer Zahl eins abzieht. Zum Beispiel soll für den Input 5 die Zahl 4 zurückgegeben werden.\n",
    "</div>\n",
    "<div style=\"background-color: lightgreen; padding: 10px; border-radius: 5px; overflow: hidden;\">\n",
    "        <img src=\"msc/img/Leben_verringern2.png\" style=\"width:200px; margin: 20px; float: right\"/>\n",
    "        <img src=\"msc/img/Leben_verringern1.png\" style=\"width:200px; margin: 20px; float: right\"/>\n",
    "    <b>KONTEXT:</b> Diese Funktion wollen wir später Verwenden, um von der Variable, unter der wir die Anzahl der 'Leben', also der Versuche gespeichert haben, eins abzuziehen. Natürlich nur, wenn falsch geraten wurde.\n",
    "</div>\n",
    "\n"
   ]
  },
  {
   "cell_type": "code",
   "execution_count": null,
   "id": "8d9812d8",
   "metadata": {},
   "outputs": [],
   "source": [
    "# Hier haben wir den Namen bereits vorgegeben, da wir diese Funktion spöter nochmal verwenden wollen.\n",
    "# Ändere den Namen also bitte nicht!\n",
    "\n",
    "# TODO: schreibe den Inhalt der Funktion.\n",
    "\n",
    "def verringere_um_Eins(zahl):\n",
    "    #schreibe hier deine Funktion"
   ]
  },
  {
   "cell_type": "markdown",
   "id": "37193c8f",
   "metadata": {},
   "source": [
    "<div style=\"background-color: khaki; padding: 10px; border-radius: 5px; overflow: hidden;\">\n",
    "    Im folgenden Feld kannst du deine Funktion einmal ausführen. Denke daran vorher das Feld oben, in dem Du deine Funktion geschrieben hast mit <b>SHIFT +  ENTER</b> (⇧ + ↵ ) einmal zu speichern.\n",
    "</div>\n"
   ]
  },
  {
   "cell_type": "code",
   "execution_count": null,
   "id": "3cdbc53a",
   "metadata": {},
   "outputs": [],
   "source": [
    "verringere_um_Eins(7)"
   ]
  },
  {
   "cell_type": "markdown",
   "id": "2c1a91d6",
   "metadata": {},
   "source": [
    "<div style=\"background-color: lightblue; padding: 10px; border-radius: 5px; overflow: hidden;\">\n",
    "\n",
    "    2. Schreibe eine Funktion, die das Hangman Spiel eröffnet, indem du mit <b>print</b>-Befehlen eine Begrüßung ausgibst. Stell Dir vor das Spiel wird gestartet.\n",
    "Was soll die Spielerin dann sehen und lesen? Vielleicht kannst du die Begrüßung sogar personalisieren, indem du den Namen erfragst und mit Hilfe von <b>input</b> einbindest.\n",
    "</div>\n",
    "<div style=\"background-color: lightgreen; padding: 10px; border-radius: 5px; overflow: hidden;\">\n",
    "                <img src=\"msc/img/Starte_hangman3.png\" style=\"width:200px; margin: 20px; float: right\"/>\n",
    "            <img src=\"msc/img/Starte_hangman1.png\" style=\"width:200px; margin: 20px; float: right\"/>\n",
    "    <b>KONTEXT:</b> Begrüßung am Anfang des Spiels soll nun in eine Funktion verpackt werden. Alles Wissen dazu haben wir uns oben schon angeeignet.\n",
    "</div>\n",
    "\n",
    "\n"
   ]
  },
  {
   "cell_type": "code",
   "execution_count": null,
   "id": "6bc552db",
   "metadata": {},
   "outputs": [],
   "source": [
    "# TODO: Schreibe eine Funktion, die am Anfang des Spieles die Spielerin begrüßt\n",
    "# Merke: Diese Funktion braucht keinen Output.\n",
    "\n",
    "def kündige_Spieleröffnung_an():\n",
    "    # schreibe hier mit Hilfe von print-Befehlen deine Begrüßung"
   ]
  },
  {
   "cell_type": "markdown",
   "id": "b185e9b7",
   "metadata": {},
   "source": [
    "<div style=\"background-color: khaki; padding: 10px; border-radius: 5px; overflow: hidden;\">\n",
    "    Wir wollen einmal testen, ob alles so läuft, wie Du es dir vorgestellt hast.\n",
    "</div>\n"
   ]
  },
  {
   "cell_type": "code",
   "execution_count": null,
   "id": "753f981e",
   "metadata": {},
   "outputs": [],
   "source": [
    "kündige_Spieleröffnung_an()"
   ]
  },
  {
   "cell_type": "markdown",
   "id": "ab6ff50b",
   "metadata": {
    "jp-MarkdownHeadingCollapsed": true
   },
   "source": [
    "## Zusatz (Funktionen)\n",
    "Zusatz: Eine Funktion, die als Input zwei Zahlen bekommt und deren Summe zurückgibt. Für 3 und 7 als Input soll sie also 10 zurückgeben.\n"
   ]
  },
  {
   "cell_type": "code",
   "execution_count": null,
   "id": "4b5b43ad",
   "metadata": {},
   "outputs": [],
   "source": [
    "# TODO: Denke dir einen sinnvollen Namen aus für die Funktion, die zwei Werte multipliziert. Schaue gerne nochmal oben die Beispiele an.\n",
    "# TODO: Welche und wie viele Variablen soll die Funktion entgegennehmen? Wie willst du diese nennen?\n",
    "# TODO: Was ist die Ausgabe der Funktion und wie erhalten wir diese?\n",
    "\n",
    "\n",
    "### schreibe hier deine Funktion"
   ]
  },
  {
   "cell_type": "markdown",
   "id": "d719396a",
   "metadata": {},
   "source": [
    "Auch diese Funktion wollen wir einmal testen."
   ]
  },
  {
   "cell_type": "code",
   "execution_count": null,
   "id": "0e1156bb",
   "metadata": {},
   "outputs": [],
   "source": [
    "# TODO: Teste hier deine Funktion. Schreibe dazu den Namen der Funktion mit konkreten Zahlen als Input hierhin."
   ]
  },
  {
   "cell_type": "markdown",
   "id": "dbd0a38f",
   "metadata": {
    "jp-MarkdownHeadingCollapsed": true
   },
   "source": [
    "## `if` und `else` (25min)"
   ]
  },
  {
   "cell_type": "markdown",
   "id": "fad63cfc",
   "metadata": {},
   "source": [
    "<div style=\"background-color: lightgreen; padding: 10px; border-radius: 5px; overflow: hidden;\">\n",
    "    <img src=\"msc/img/Bewerte_buchstaben1.png\" style=\"width:400px; margin: 20px; float: right\"/>\n",
    "    <b>KONTEXT:</b> In unserem Programm müssen wir an verschiedenen Stellen Entscheidungen treffen. Zum Beispiel, muss nach jedem Zug geprüft werden, ob ein Buchstabe richtig geraten wurde. Oder ob wir noch Versuche übrig haben. Diese Entscheidungen basieren auf Bedingungen.\n",
    "</div>\n",
    "<div style=\"background-color: khaki; padding: 10px; border-radius: 5px; overflow: hidden;\">\n",
    "    In Python verwenden wir die Schlüsselwörter <b>if</b> und <b>else</b>, um solche Entscheidungen umzusetzen. Dabei prüfen wir eine Bedingung und führen abhängig von ihrem Ergebnis unterschiedliche Aktionen aus. Zum besseren Verständnis betrachten wir das ganze an Hand eines Beispiels.\n",
    "\n",
    "Wir können uns das Konzept in natürlicher Sprache so vorstellen:\n",
    "\n",
    "- **Wenn es regnet**, dann nehme ich einen Regenschirm.\n",
    "- **Wenn es nicht regnet**, dann brauche ich keinen Regenschirm.\n",
    "\n",
    "Wir können auch noch mehr Bedingungen auf einmal haben:\n",
    "\n",
    "- **Wenn es jetzt regnet**, dann nehme ich einen Regenschirm mit.\n",
    "- **Wenn es im Verlaufe des Tages zu regnen beginnen soll**, dann nehme ich einen Regenschirm mit.\n",
    "- **Wenn es nicht regnet und nicht regnen soll**, dann brauche ich keinen Regenschirm.\n",
    "\n",
    "Das folgende Beispiel zeigt, wie wir diese Logik in Python umsetzen können:\n",
    "</div>\n",
    "\n"
   ]
  },
  {
   "cell_type": "code",
   "execution_count": 13,
   "id": "8367ee5d",
   "metadata": {},
   "outputs": [
    {
     "name": "stdout",
     "output_type": "stream",
     "text": [
      "Es regnet gerade, du brauchst einen Regenschirm!\n"
     ]
    }
   ],
   "source": [
    "# Wir nehmen an, dass es gerade regnet, aber später trocken ist.\n",
    "# Du kannst die Werte der Variablen auch auf andere Booleans setzen, um zu testen, wie das Programm auf anderes Wetter reagiert.\n",
    "regen_jetzt = True\n",
    "regen_spaeter = False\n",
    "\n",
    "# Mit IF, ELIF und ELSE prüfen wir die Bedingung:\n",
    "# \"Wenn es regnet, tue das ...\", \"Wenn es später regnet, tue das...\" und \"Sonst tue etwas anderes ...\"\n",
    "# ELIF lässt uns mehrere Fälle auflisten, die Auftreten können. Erst wenn all diese geprüft wurden wird ausgeführt, was hinter ELSE steht.\n",
    "if regen_jetzt == True:\n",
    "    print(\"Es regnet gerade, du brauchst einen Regenschirm!\")\n",
    "elif regen_spaeter == True:\n",
    "    print(\"Es soll später noch regnen, nimm also lieber einen Regenschirm mit!\")\n",
    "else:\n",
    "    print(\"Heute ist es trocken, du brauchst keinen Regenschirm!\")"
   ]
  },
  {
   "cell_type": "markdown",
   "id": "efef856d",
   "metadata": {},
   "source": [
    "### Vergleichsoperatoren und Bedingungen\n",
    "\n",
    "<div style=\"background-color: khaki; padding: 10px; border-radius: 5px; overflow: hidden;\">\n",
    "Bisher haben wir <b>if</b> und <b>else</b> verwendet, um einfache Bedingungen zu prüfen, z. B. ob eine Variable <b>True</b> oder <b>False</b> ist. Oft müssen wir jedoch <b>Vergleiche</b> zwischen Werten anstellen, um Entscheidungen zu treffen.\n",
    "\n",
    "Mit **Vergleichsoperatoren** kannst du überprüfen, wie zwei Werte zueinander stehen. Die häufigsten Vergleichsoperatoren in Python sind:\n",
    "\n",
    "- `>` (größer als)\n",
    "- `<` (kleiner als)\n",
    "- `>=` (größer oder gleich)\n",
    "- `<=` (kleiner oder gleich)\n",
    "- `==` (gleich)\n",
    "- `!=` (ungleich) <br>\n",
    "\n",
    "Hier noch ein Beispiel dazu:\n",
    "</div>\n",
    "\n",
    "\n"
   ]
  },
  {
   "cell_type": "code",
   "execution_count": 17,
   "id": "3efee40f",
   "metadata": {},
   "outputs": [
    {
     "name": "stdout",
     "output_type": "stream",
     "text": [
      "Du bist minderjährig.\n"
     ]
    }
   ],
   "source": [
    "# Beachte, dass wir in Python, um zwei Werte zu vergleichen ==, statt nur einem Gleichheitszeichen verwenden müssen.\n",
    "# Probiere aus, was passiert, wenn Du das Alter änderst.\n",
    "alter=11\n",
    "if alter==18:\n",
    "    print('Du bist 18 Jahre alt.')\n",
    "elif alter<18:\n",
    "    print('Du bist minderjährig.')\n",
    "else:\n",
    "    print('Du bist eine ausgewachsene Person.')"
   ]
  },
  {
   "cell_type": "markdown",
   "id": "c855279f",
   "metadata": {},
   "source": [
    "<div style=\"background-color: lightgreen; padding: 10px; border-radius: 5px; overflow: hidden;\">\n",
    "    <img src=\"msc/img/Noch_im_spiel2.png\" style=\"width:200px; margin: 20px; float: right\"/>\n",
    "    <img src=\"msc/img/Noch_im_spiel1.png\" style=\"width:200px; margin: 20px; float: right\"/>\n",
    "   <b>KONTEXT:</b Zurück zur Anwendung in unserem Hangman Spiel:\n",
    "\n",
    "Nach jedem Zug in unserem Hangman-Spiel müssen wir prüfen, ob das Spiel nun beendet ist. Dazu prüfen wir folgende Bedingungen:\n",
    "\n",
    "- **Wenn das Wort im vergangenen Zug vollständing erraten wurde**, dann hat die Spielerin gewonnen.\n",
    "\n",
    "- **Wenn der Hangman vollständig gezeichnet ist, wir also keine Versuche mehr übrig haben**, dann ist das Spiel verloren.\n",
    "\n",
    "Ist keine der Bedingungen erfüllt, geht das Spiel einfach weiter.\n",
    "\n",
    "Wir sehen also, dass unsere Anwendung genau die gleiche Struktur hat, wie das Wetter-Beispiel von oben. Wir wollen die oben gelernte Methode also nun für unser Spiel verwenden.\n",
    "</div>\n",
    "<div style=\"background-color: lightblue; padding: 10px; border-radius: 5px; overflow: hidden;\">\n",
    "    <b>Aufgabe:</b> Vervollständige die folgende Funktion, die obige Bedingungen prüft:\n",
    "Dabei benutzen wir folgende Inputs:\n",
    "- erratenesTeilwort: hat diese Form `['H', '_', 'L', 'L', '_']`, falls im Wort 'Hallo' schon die Buchstaben H und L erraten wurden. Es ist also eine Liste aus Strings. Was eine Liste ist und wie wir damit arbeiten lernen wir gleich. Hier ist alles was wir brauchen schon vorgegeben.\n",
    "</div>\n",
    "\n",
    "\n"
   ]
  },
  {
   "cell_type": "code",
   "execution_count": 15,
   "id": "dd380a91",
   "metadata": {},
   "outputs": [
    {
     "ename": "SyntaxError",
     "evalue": "invalid syntax (1508282181.py, line 10)",
     "output_type": "error",
     "traceback": [
      "\u001b[0;36m  Cell \u001b[0;32mIn[15], line 10\u001b[0;36m\u001b[0m\n\u001b[0;31m    elif # prüfe hier ob noch Versuche übrig sind. Die Variable erlaubteFehlversuche ist eine normale Zahl\u001b[0m\n\u001b[0m         ^\u001b[0m\n\u001b[0;31mSyntaxError\u001b[0m\u001b[0;31m:\u001b[0m invalid syntax\n"
     ]
    }
   ],
   "source": [
    "# Die Funktion soll TRUE zurückgeben, wenn das Spiel nach dem eben gemachten Zug noch weitergehen kann\n",
    "# Ist das Spiel nach dem vergangenen Zug gewonnen oder verloren, soll FALSE zurückgegeben werden\n",
    "\n",
    "\n",
    "def ist_das_Spiel_noch_am_laufen(erratenesTeilwort, erlaubteFehlversuche):\n",
    "    if (not (\"_\" in erratenesTeilwort)): #die Unterstriche sind Platzhalter für noch nicht erratene Buchstaben \n",
    "        # füge hier einen print-Befehl ein, der eine diesem Fall entsprechende Ausgabe ausgibt\n",
    "        return #True oder False?\n",
    "\n",
    "    elif # prüfe hier ob noch Versuche übrig sind. Die Variable erlaubteFehlversuche ist eine normale Zahl\n",
    "        # füge hier einen print-Befehl ein, der eine diesem Fall entsprechende Ausgabe ausgibt\n",
    "        return #True oder False?\n",
    "\n",
    "    else:\n",
    "        return #True oder False?"
   ]
  },
  {
   "cell_type": "markdown",
   "id": "48075be3",
   "metadata": {
    "jp-MarkdownHeadingCollapsed": true
   },
   "source": [
    "## Listen (20min)"
   ]
  },
  {
   "cell_type": "markdown",
   "id": "dfaf7042",
   "metadata": {},
   "source": [
    "<div style=\"background-color: lightgreen; padding: 10px; border-radius: 5px; overflow: hidden;\">\n",
    "    <img src=\"msc/img/Starte_hangman1.png\" style=\"width:200px; margin: 20px; float: right\"/>\n",
    "    <b>KONTEXT:</b> Für unser Hangman-Spiel müssen wir uns merken, welche Teile des Wortes wir schon erraten haben und welche noch nicht, wie machen wir das?\n",
    "</div>\n",
    "<div style=\"background-color: khaki; padding: 10px; border-radius: 5px; overflow: hidden;\">\n",
    "    Wir können natürlich für jeden Buchstaben eine neue Variable nutzen, aber wie merken wir uns dann die Reihenfolge? Und was würden wir machen, wenn sich die Länge des Wortes ändert? Dann müssten wir noch mehr Variablen einführen... <br>\n",
    "    Das wird sehr schnell unübersichtlich, deswegen gibt es in Python <b>Listen</b>. <br> \n",
    "Listen schreibt man in Python mit eckigen Klammern. Zum Beispiel ist <b>erratenesTeilwort = [\"H\", \"_\", \"L\", \"L\", \"_\"]</b> eine Liste, die an der ersten Stelle ein H enthält, dann einen Unterstrich, dann zwei Ls und dann noch einen Unterstrich (das könnte ein Zwischenstand von unserem Hangman-Spiel sein).<br><br>\n",
    "        Das, was man in die Liste gepackt hat, kann man sich auch wieder einzeln anschauen. Dafür schreibt man den Namen der Liste und danach in eckigen Klammern die Position in der Liste, die man haben möchte, also zum Beispiel <b>erratenesTeilwort[0]</b>.\n",
    "\n",
    "***ACHTUNG:*** Python fängt bei `0`an zu zählen! <br>\n",
    "Probier es einfach mal selbst aus:\n",
    "</div>\n",
    "\n",
    "\n"
   ]
  },
  {
   "cell_type": "code",
   "execution_count": 2,
   "id": "ab9b7404",
   "metadata": {},
   "outputs": [
    {
     "name": "stdout",
     "output_type": "stream",
     "text": [
      "H\n"
     ]
    }
   ],
   "source": [
    "# wir erstellen hier die Liste mit Buchstaben drin\n",
    "erratenesTeilwort = [\"H\", \"_\", \"L\", \"L\", \"_\"] \n",
    "\n",
    "# wir lassen uns den \"nullten\" (also ersten) Buchstaben aus der Liste ausgeben\n",
    "# TODO: verändere die Zahl und schau, was passiert.\n",
    "#  Was passiert, wenn man eine Zahl eingibt, die länger ist als die Liste?\n",
    "print(erratenesTeilwort[0])"
   ]
  },
  {
   "cell_type": "markdown",
   "id": "4508f8b9",
   "metadata": {},
   "source": [
    "<div style=\"background-color: khaki; padding: 10px; border-radius: 5px; overflow: hidden;\">\n",
    "    Wir können die Liste auch verändern. Dafür schreiben wir wie beim Anschauen der Elemente den Namen der Liste, dahinter in eckigen Klammern die Position, die man verändern möchte und dann ein <b>=</b> mit dem Wert dahinter, durch den wir das Element ersetzen wollen. \n",
    "</div>\n"
   ]
  },
  {
   "cell_type": "code",
   "execution_count": 3,
   "id": "07410aed",
   "metadata": {},
   "outputs": [
    {
     "name": "stdout",
     "output_type": "stream",
     "text": [
      "['H', 'A', 'L', 'L', '_']\n"
     ]
    }
   ],
   "source": [
    "# wir ändern den ersten Buchstaben in der Liste \"erratenesTeilwort\" zu einem \"b\"\n",
    "erratenesTeilwort[1] = \"A\"\n",
    "print(erratenesTeilwort)\n",
    "\n",
    "# TODO: spiel ruhig etwas damit herum und \n",
    "# versucht z.B. \"hallo\" zu printen, indem du Buchstaben aus der Liste benutzt"
   ]
  },
  {
   "cell_type": "markdown",
   "id": "62485db1",
   "metadata": {},
   "source": [
    "<div style=\"background-color: khaki; padding: 10px; border-radius: 5px; overflow: hidden;\">\n",
    "    Manchmal wollen wir auch wissen, wie lang eine Liste gerade ist. Dafür können wir <b>len(name_der_liste)</b> nutzen.\n",
    "</div>\n"
   ]
  },
  {
   "cell_type": "code",
   "execution_count": 4,
   "id": "8f68eac3",
   "metadata": {},
   "outputs": [
    {
     "name": "stdout",
     "output_type": "stream",
     "text": [
      "5\n"
     ]
    }
   ],
   "source": [
    "# wir lassen uns die Länge der Liste \"erratenesTeilwort\" ausgeben\n",
    "print(len(erratenesTeilwort))"
   ]
  },
  {
   "cell_type": "markdown",
   "id": "40c6ba47",
   "metadata": {},
   "source": [
    "<div style=\"background-color: khaki; padding: 10px; border-radius: 5px; overflow: hidden;\">\n",
    "    Vielleicht ist dir gerade aufgefallen, dass die Liste \"erratenesTeilwort\" gerade immer die Länge 5 hat. Wir können deswegen auch nur fünf verschiedene Buchstaben dort hineinpacken.\n",
    "\n",
    "Wenn wir die Liste länger machen wollen, müssten wir Python direkt sagen, dass neue Elemente an die Liste angehängt werden sollen.\n",
    "Dafür nutzen wir <b>.append()</b> (Englisch für anhängen). \n",
    "</div>\n",
    "\n"
   ]
  },
  {
   "cell_type": "code",
   "execution_count": null,
   "id": "93706dea",
   "metadata": {},
   "outputs": [],
   "source": [
    "# wir hängen ein \"!\" an die Liste \"erratenesTeilwort\"\n",
    "erratenesTeilwort.append(\"!\")\n",
    "print(erratenesTeilwort)\n",
    "\n",
    "# TODO: Wie lang ist die Liste jetzt?\n",
    "\n",
    "# TODO: versuche die Liste so zu verändern, dass du damit \n",
    "# deinen eigenen Namen schreiben kannst \n",
    "\n"
   ]
  },
  {
   "cell_type": "markdown",
   "id": "fcb95ae5",
   "metadata": {},
   "source": [
    "<div style=\"background-color: khaki; padding: 10px; border-radius: 5px; overflow: hidden;\">\n",
    "    Wir können außerdem nicht nur Buchstaben in Listen packen, sondern alles mögliche (z.B. Zahlen) und sogar andere Listen.\n",
    "</div>\n"
   ]
  },
  {
   "cell_type": "code",
   "execution_count": null,
   "id": "10887f87",
   "metadata": {},
   "outputs": [],
   "source": [
    "# hier ein Paar Beispiel-Listen\n",
    "zahlenliste = [2,5,6,12,14]\n",
    "listenliste = [[0,2,3], [4,2,16]]\n",
    "print(zahlenliste)\n",
    "print(listenliste[0][1])"
   ]
  },
  {
   "cell_type": "markdown",
   "id": "90ed9bc29ead71b4",
   "metadata": {
    "jp-MarkdownHeadingCollapsed": true
   },
   "source": [
    "## `for`-Schleifen (45min)\n"
   ]
  },
  {
   "cell_type": "markdown",
   "id": "9a1b2abe",
   "metadata": {},
   "source": [
    "<div style=\"background-color: khaki; padding: 10px; border-radius: 5px; overflow: hidden;\">\n",
    "    Stell dir vor, wir möchten uns jeden Buchstaben aus einer Liste <b>wort</b> ausgeben lassen. Eine erste Idee, um das zu tun, wäre vielleicht:\n",
    "</div>\n"
   ]
  },
  {
   "cell_type": "code",
   "execution_count": 2,
   "id": "ababbed2",
   "metadata": {},
   "outputs": [
    {
     "name": "stdout",
     "output_type": "stream",
     "text": [
      "h\n",
      "a\n",
      "l\n",
      "l\n",
      "o\n"
     ]
    }
   ],
   "source": [
    "wort = [\"h\", \"a\", \"l\", \"l\", \"o\"]\n",
    "print(wort[0])\n",
    "print(wort[1])\n",
    "print(wort[2])\n",
    "print(wort[3])\n",
    "print(wort[4])"
   ]
  },
  {
   "cell_type": "markdown",
   "id": "b02ce444",
   "metadata": {},
   "source": [
    "<div style=\"background-color: khaki; padding: 10px; border-radius: 5px; overflow: hidden;\">\n",
    "    Das ist allerdings sehr viel Schreibaufwand und die Länge der Liste muss bekannt sein und sollte sich nicht ändern, deswegen ist das nicht die beste Lösung. <br>\n",
    "    Stattdessen gibt es die <b>for</b>-Schleife, um Befehle mehrmals hintereinander auszuführen. Das Beispiel oben können wir damit so umschreiben:\n",
    "</div>\n"
   ]
  },
  {
   "cell_type": "code",
   "execution_count": 10,
   "id": "a0b5af70",
   "metadata": {},
   "outputs": [
    {
     "name": "stdout",
     "output_type": "stream",
     "text": [
      "0 . Buchstabe:  h\n",
      "1 . Buchstabe:  a\n",
      "2 . Buchstabe:  l\n",
      "3 . Buchstabe:  l\n",
      "4 . Buchstabe:  o\n"
     ]
    }
   ],
   "source": [
    "# wir nutzen eine for-Schleife, um jedes Element der Liste auszugeben\n",
    "for i in range(len(wort)):\n",
    "    print(i, \". Buchstabe: \", wort[i])"
   ]
  },
  {
   "cell_type": "markdown",
   "id": "c4d3cc09",
   "metadata": {},
   "source": [
    "<div style=\"background-color: khaki; padding: 10px; border-radius: 5px; overflow: hidden;\">\n",
    "    Durch <b>for i in range(len(wort))</b>   sorgen wir dabei dafür, dass <b>i</b> bei jeder Wiederholung der Schleife um eins erhöht wird, bis <b>i</b> die Länge von <b>wort</b> erreicht hat. Danach hören die Wiederholungen auf. Das <b>i</b> nutzen wir dabei als <b>Index</b>, also als Nummerierung der Elemente in der Liste.<br>\n",
    "    Wir können in Listen und Strings auch direkt auf die Elemente zugreifen, brauchen dann also nicht mehr explizit den  Index aufschreiben. Dafür nutzen wir die Form <b>for Element in String</b>:\n",
    "</div>\n"
   ]
  },
  {
   "cell_type": "code",
   "execution_count": 11,
   "id": "220a0f92",
   "metadata": {},
   "outputs": [
    {
     "name": "stdout",
     "output_type": "stream",
     "text": [
      "h\n",
      "a\n",
      "n\n",
      "g\n",
      "m\n",
      "a\n",
      "n\n"
     ]
    }
   ],
   "source": [
    "# wir definieren einen String\n",
    "wort = \"hangman\"\n",
    "\n",
    "# wir gehen mit einer for-Schleife durch den String \"wort\"\n",
    "# und lassen uns jeden Buchstaben ausgeben\n",
    "for buchstabe in wort:\n",
    "    print(buchstabe)\n",
    "\n",
    "# TODO: probiere aus, was passiert, wenn du \"buchstabe\" umbenennst"
   ]
  },
  {
   "cell_type": "markdown",
   "id": "f78b822b",
   "metadata": {},
   "source": [
    "<div style=\"background-color: lightgreen; padding: 10px; border-radius: 5px; overflow: hidden;\">\n",
    "    <img src=\"msc/img/Starte_hangman2.png\" style=\"width:200px; margin: 20px; float: right\"/>\n",
    "    <img src=\"msc/img/Starte_hangman1.png\" style=\"width:200px; margin: 20px; float: right\"/>\n",
    "    <b>KONTEXT</b>: Für unser Spiel wollen wir eine Liste anlegen, die uns speichert, wie lang das Wort ist, das wir suchen. Diese Liste nennen wir <b>verschleiertesWort</b>. Dafür soll sie für jeden Buchstaben in dem gesuchten Wort einen Unterstrich enthalten (so wie wenn man Hangman an der Tafel spielt).\n",
    "</div>\n",
    "<div style=\"background-color: khaki; padding: 10px; border-radius: 5px; overflow: hidden;\">\n",
    "    Später schreiben wir dort auch alle Buchstaben rein, die wir schon gefunden haben.\n",
    "</div>\n",
    "<div style=\"background-color: lightblue; padding: 10px; border-radius: 5px; overflow: hidden;\">\n",
    "    <b>Aufgabe:</b> Vervollständige die Funktion <b>gib_verschleiertes_Wort</b>, so dass sie eine Liste zurückgibt, die einen Unterstrich \"_\" als Platzhalter für jeden Buchstaben im eingegebenen Geheimwort enthält.<br>\n",
    "Der Input <b>geheimwort</b> ist dabei ein String.\n",
    "</div>\n",
    "\n"
   ]
  },
  {
   "cell_type": "code",
   "execution_count": 23,
   "id": "5c7b3a16",
   "metadata": {},
   "outputs": [],
   "source": [
    "# Diese Funktion wandelt ein gegebenes Wort in eine Liste von Unterstrichen um. Als Input bekommt sie ein Wort als String\n",
    "\n",
    "def gib_verschleiertes_Wort(geheimwort):    \n",
    "    verschleiertesWort = []\n",
    "    #TODO: für jeden Buchstaben in \"geheimwort\" soll \n",
    "    # ein \"_\" zu \"verschleiertesWort\" hinzugefügt werden\n",
    "\n",
    "    return verschleiertesWort\n",
    "\n",
    "#Lösung (brauchen wir später)\n",
    "def gib_verschleiertes_Wort(geheimwort):    \n",
    "    verschleiertesWort = []\n",
    "    for buchstabe in geheimwort :\n",
    "        verschleiertesWort.append(\"_ \")\n",
    "\n",
    "    return verschleiertesWort\n",
    "\n"
   ]
  },
  {
   "cell_type": "markdown",
   "id": "654c1541",
   "metadata": {},
   "source": [
    "<div style=\"background-color: khaki; padding: 10px; border-radius: 5px; overflow: hidden;\">\n",
    "    Hier kannst du einmal testen, ob alles so funktioniert, wie du es dir vorgestellt hast:\n",
    "</div>\n"
   ]
  },
  {
   "cell_type": "code",
   "execution_count": null,
   "id": "52be7050",
   "metadata": {},
   "outputs": [
    {
     "data": {
      "text/plain": [
       "['_ ', '_ ', '_ ', '_ ', '_ ', '_ ', '_ ']"
      ]
     },
     "metadata": {},
     "output_type": "display_data"
    }
   ],
   "source": [
    "gib_verschleiertes_Wort(\"hangman\")"
   ]
  },
  {
   "cell_type": "markdown",
   "id": "fd926db0",
   "metadata": {},
   "source": [
    "<div style=\"background-color: lightgreen; padding: 10px; border-radius: 5px; overflow: hidden;\">\n",
    "    <img src=\"msc/img/Bewerte_buchstaben2.png\" style=\"width:200px; margin: 20px; float: right\"/>\n",
    "    <img src=\"msc/img/Bewerte_buchstaben1.png\" style=\"width:400px; margin: 20px; float: right\"/>\n",
    "    <b>KONTEXT:</b> Wir brauchen außerdem eine Funktion, die einen Buchstaben, der wirklich im Lösungswort vorkommt, an der richtigen Stelle einsetzt.</div>\n",
    "<div style=\"background-color: lightblue; padding: 10px; border-radius: 5px; overflow: hidden;\">\n",
    "    <b>Aufgabe:</b> Vervollständige die Funktion <b>entschleiere_Buchstaben</b>. \n",
    "Diese erhält den eingegebenen Buchstaben (<b>eingabebuchstabe</b>), das zu erratene Geheimwort (<b>geheimwort</b>) und das bisher schon erratene Teilwort, in dem für alle nicht erratenen Buchstaben noch ein \"_\" steht.\n",
    "Sie aktualisiert <b>erratenesTeilwort</b>, sodass an den richtigen Stellen der eingegebene Buchstabe geschrieben wird.\n",
    "\n",
    "Tipp: Die Funktion braucht kein <b>return</b>.\n",
    "</div>\n",
    "\n"
   ]
  },
  {
   "cell_type": "code",
   "execution_count": null,
   "id": "568da0bf",
   "metadata": {},
   "outputs": [],
   "source": [
    "def entschleiere_Buchstaben(eingabebuchstabe, geheimwort, erratenesTeilwort):\n",
    "    for i in range(len(geheimwort)):\n",
    "    #TODO: wenn der eingegebene Buchstabe der gleiche Buchstabe \n",
    "    # wie der, der in dem Geheimwort an der Stelle i steht,\n",
    "    # dann soll in erratenesTeilwort an der Stelle i \n",
    "    # auch der eingegebene Buchstabe geschrieben werde\n",
    "        pass\n",
    "\n",
    "# Lösung - find ich schöner ohne enumerate\n",
    "def entschleiere_Buchstaben2(eingabebuchstabe, geheimwort, erratenesTeilwort):\n",
    "    for i in range(len(geheimwort)):\n",
    "        if (eingabebuchstabe == geheimwort[i]):\n",
    "            erratenesTeilwort[i] = eingabebuchstabe"
   ]
  },
  {
   "cell_type": "markdown",
   "id": "930dee93",
   "metadata": {},
   "source": [
    "<div style=\"background-color: khaki; padding: 10px; border-radius: 5px; overflow: hidden;\">\n",
    "    Teste hier ruhig einmal, ob alles funktioniert:\n",
    "</div>\n"
   ]
  },
  {
   "cell_type": "code",
   "execution_count": 8,
   "id": "1d957498",
   "metadata": {},
   "outputs": [
    {
     "name": "stdout",
     "output_type": "stream",
     "text": [
      "N PYTHON ['_', '_', 'T', '_', 'O', 'N']\n"
     ]
    }
   ],
   "source": [
    "geratener_buchstabe = \"N\"\n",
    "zu_erratendes_wort = \"PYTHON\"\n",
    "bereits_erratenes_wort = [\"_\", \"_\", \"T\", \"_\", \"O\", \"_\"]\n",
    "\n",
    "entschleiere_Buchstaben(geratener_buchstabe, zu_erratendes_wort, bereits_erratenes_wort)\n",
    "\n",
    "print(geratener_buchstabe, zu_erratendes_wort, bereits_erratenes_wort)"
   ]
  },
  {
   "cell_type": "markdown",
   "id": "e259d85d-6cf3-43a5-977b-494813411a1a",
   "metadata": {
    "jp-MarkdownHeadingCollapsed": true
   },
   "source": [
    "## `while`-Schleifen"
   ]
  },
  {
   "cell_type": "markdown",
   "id": "75a992efdf4de25b",
   "metadata": {},
   "source": [
    "<div style=\"background-color: khaki; padding: 10px; border-radius: 5px; overflow: hidden;\">\n",
    "    Was aber, wenn wir <b>nicht wissen, wie oft wir etwas wiederholen müssen</b>? Stellen wir uns folgende Situationen vor:\n",
    "\n",
    "- **Wir wollen ein Spiel programmieren**, das keine feste Rundenanzahl hat, sondern so lange läuft, bis der Spieler gewinnt oder verliert.\n",
    "- **Wir suchen nach einer bestimmten Bedingung**, die erfüllt werden muss, bevor die Schleife endet (z. B. ein Passwort wird korrekt eingegeben).\n",
    "\n",
    "In solchen Fällen stoßen **for-Schleifen** an ihre Grenzen, da sie eine feste Anzahl von Wiederholungen erwarten. Stattdessen benötigen wir eine **while-Schleife**, die durch eine (Abbruch-)Bedingung gesteuert wird.\n",
    "\n",
    "**Beispiel:** Wiederholung basierend auf Benutzereingabe\n",
    "\n",
    "In diesem Beispiel wird eine **while**-Schleife verwendet, um den Benutzer so lange nach einer Eingabe zu fragen, bis er eine bestimmte Antwort gibt (in diesem Fall \"ja\").\n",
    "</div>"
   ]
  },
  {
   "cell_type": "code",
   "execution_count": null,
   "id": "2d336ce143b86ee7",
   "metadata": {},
   "outputs": [],
   "source": [
    "# Wiederhole das Programm, bis der Benutzer \"nein\" eingibt\n",
    "\n",
    "antwort = \"\"\n",
    "while antwort != \"nein\":\n",
    "    antwort = input(\"Möchtest du weitermachen? (ja/nein): \")\n",
    "print(\"Du hast 'nein' eingegeben. Das Programm endet.\")"
   ]
  },
  {
   "cell_type": "markdown",
   "id": "13513740",
   "metadata": {},
   "source": [
    "<div style=\"background-color: lightgreen; padding: 10px; border-radius: 5px; overflow: hidden;\">\n",
    "    <b>KONTEXT:</b> Für unser Hangman-Spiel ist das auch nützlich, wenn wir überprüfen wollen, dass die Spielerin nur einen einzelnen Buchstaben eingibt (sonst würde es an anderen Stellen zu Problemen im Programm kommen).\n",
    "</div>\n",
    "<div style=\"background-color: khaki; padding: 10px; border-radius: 5px; overflow: hidden;\">\n",
    "    <h3 style=\"color: black;\"><b>Header</b></h3>\n",
    "</div>\n",
    "\n",
    "\n",
    "Dafür fragen wir solange nach einer Eingabe, bis wir wirklich nur einen Buchstaben bekommen."
   ]
  },
  {
   "cell_type": "markdown",
   "id": "7c5ddd25",
   "metadata": {},
   "source": [
    "<div style=\"background-color: khaki; padding: 10px; border-radius: 5px; overflow: hidden;\">\n",
    "    Weiterhin müssen wir prüfen, ob ein der nun eingegebene Buchstabe im Wort enthalten ist. Das funktioniert folgendermaßen: Wir definieren uns zunächst ein Wort, was wir als Variable speichern:\n",
    "</div>\n"
   ]
  },
  {
   "cell_type": "code",
   "execution_count": 2,
   "id": "c5ff35ae",
   "metadata": {},
   "outputs": [],
   "source": [
    "wort = 'Hase'"
   ]
  },
  {
   "cell_type": "markdown",
   "id": "c5402504",
   "metadata": {},
   "source": [
    "<div style=\"background-color: khaki; padding: 10px; border-radius: 5px; overflow: hidden;\">\n",
    "    Wenn wir nun prüfen wollen, ob ein Buchstabe in unserem Wort enthalten ist, geben wir folgendes ein:\n",
    "</div>"
   ]
  },
  {
   "cell_type": "code",
   "execution_count": 3,
   "id": "aa4d3a4b",
   "metadata": {},
   "outputs": [
    {
     "data": {
      "text/plain": [
       "True"
      ]
     },
     "execution_count": 3,
     "metadata": {},
     "output_type": "execute_result"
    }
   ],
   "source": [
    "# Wenn du diese Zelle abspielst sollte Python eine Boolean (True oder False, siehe oben) zurückgeben.\n",
    "'a' in wort"
   ]
  },
  {
   "cell_type": "markdown",
   "id": "80d9d10f",
   "metadata": {},
   "source": [
    "<div style=\"background-color: khaki; padding: 10px; border-radius: 5px; overflow: hidden;\">\n",
    "    Wir sehen, dass uns der Wert <b>True</b>, also wahr zurückgegeben wird. Das sollte ja auch so sein. Wenn wir nun\n",
    "</div> "
   ]
  },
  {
   "cell_type": "code",
   "execution_count": 4,
   "id": "0343133f",
   "metadata": {},
   "outputs": [
    {
     "data": {
      "text/plain": [
       "False"
      ]
     },
     "execution_count": 4,
     "metadata": {},
     "output_type": "execute_result"
    }
   ],
   "source": [
    "'p' in wort"
   ]
  },
  {
   "cell_type": "markdown",
   "id": "3ca4acb1",
   "metadata": {},
   "source": [
    "<div style=\"background-color: khaki; padding: 10px; border-radius: 5px; overflow: hidden;\">\n",
    "    ausprobieren, wird wie erwartet False, also falsch zurückgegeben. Probiere einmal selbst aus, was passiert, wenn du ein paar Buchstaben testest. <br>\n",
    "    Spiele insbesondere mal mit Groß- und Kleinschreibung herum.\n",
    "</div>\n",
    "\n"
   ]
  },
  {
   "cell_type": "code",
   "execution_count": null,
   "id": "707c0f30",
   "metadata": {},
   "outputs": [],
   "source": [
    "# TODO Probiere hier aus, was bei Groß- und Kleinschreibung funktioniert."
   ]
  },
  {
   "cell_type": "markdown",
   "id": "0ca7d076",
   "metadata": {},
   "source": [
    "<div style=\"background-color: khaki; padding: 10px; border-radius: 5px; overflow: hidden;\">\n",
    "    Du wirst feststellen, dass Python den Buchstaben 'w' nicht im Wort wiederfindet, sondern nur 'W'. Ebenso wird für 'A' False zurückgegeben, für 'a' allerdings True. Dies soll in unserem Hangman Spiel kein Problem darstellen. Um dies also zu umgehen wollen wir alle Wörter und Buchstaben mit denen wir hantieren groß schreiben oder alle klein schreiben. Dazu gibt es die folgenden Befehle:\n",
    "</div>\n",
    "\n"
   ]
  },
  {
   "cell_type": "code",
   "execution_count": 6,
   "id": "66c14e3f",
   "metadata": {},
   "outputs": [
    {
     "name": "stdout",
     "output_type": "stream",
     "text": [
      "Hase HASE hase\n"
     ]
    }
   ],
   "source": [
    "# Wir nehmen uns wieder unser Wort von oben \n",
    "wort = 'Hase'\n",
    "\n",
    "# Mit dem folgenden Befehl können wir das gesamte Word großschreiben:\n",
    "wort_upper=wort.upper()\n",
    "\n",
    "# Und mit diesem Befehl wird das ganze Wort kleingeschrieben:\n",
    "wort_lower=wort.lower()\n",
    "\n",
    "# Wir geben uns die neuen Varianten der Variable wort einmal aus, um zu sehen, was genau passiert ist\n",
    "print(wort, wort_upper, wort_lower)"
   ]
  },
  {
   "cell_type": "markdown",
   "id": "e8455a5c",
   "metadata": {},
   "source": [
    "<div style=\"background-color: lightblue; padding: 10px; border-radius: 5px; overflow: hidden;\">\n",
    "    <img src=\"msc/img/Rate_buchstaben2.png\" style=\"width:200px; margin: 20px; float: right\"/>\n",
    "    <img src=\"msc/img/Rate_buchstaben1.png\" style=\"width:200px; margin: 20px; float: right\"/>\n",
    "    <b>Aufgabe:</b> Vervollständige <b>erhalte_Großbuchstaben()</b>. <br>\n",
    "    Prüfe darin, ob das eingegebene wirklich nur <b>ein</b> Zeichen ist und ob es wirklich aus dem Alphabet kommt (dafür kannst du <b>eingabebuchstabe.isalpha()</b> nutzen, das gibt <b>True</b> zurück, wenn alle Zeichen in <b>eingabebuchstabe</b> aus dem Alphabet kommen). <br>\n",
    "Solange das nicht erfüllt ist, printe eine Nachricht und frag noch mal nach einer Eingabe.<br>\n",
    "Die Funktion soll dann den eingebenen Buchstaben als Großbuchstaben zurückgeben.\n",
    "</div>\n",
    "\n"
   ]
  },
  {
   "cell_type": "code",
   "execution_count": 12,
   "id": "0dc90fe0",
   "metadata": {},
   "outputs": [],
   "source": [
    "def erhalte_Großbuchstaben(): \n",
    "    eingabebuchstabe = input(\"Gib einen einzelnen Buchstaben ein: \")\n",
    "    # TODO: solange wie die Länge der Eingabe nicht 1 ist \n",
    "    # und das eingegebene nicht aus dem Alphabet kommt\n",
    "    # schreib: \"Das war kein einzelner Buchstabe: \" \n",
    "    # und frag noch mal nach der Eingabe eines Buchstabens\n",
    "\n",
    "\n",
    "    # gib den eingegebenen Buchstaben als Großbuchstaben zurück\n",
    "\n",
    "\n",
    "# Lösung (brauchen wir später)\n",
    "def erhalte_Großbuchstaben():   \n",
    "    eingabebuchstabe = input(\"Gib einen Großbuchstaben ein: \")\n",
    "    while (not (len(eingabebuchstabe) == 1 and eingabebuchstabe.isalpha())):\n",
    "        print(\"Das war kein einzelner Buchstabe: \")\n",
    "        eingabebuchstabe = input(\"Gib einen Großbuchstaben ein: \")\n",
    "\n",
    "    return eingabebuchstabe.upper()"
   ]
  },
  {
   "cell_type": "markdown",
   "id": "1773f6ac",
   "metadata": {},
   "source": [
    "<div style=\"background-color: khaki; padding: 10px; border-radius: 5px; overflow: hidden;\">\n",
    "    Hier kannst du wie immer deine Funktion ausprobieren. Teste auch, was passiert, wenn du Zahlen oder mehrere Buchstaben eingibst.\n",
    "</div>\n"
   ]
  },
  {
   "cell_type": "code",
   "execution_count": null,
   "id": "93c626ca",
   "metadata": {},
   "outputs": [
    {
     "name": "stdout",
     "output_type": "stream",
     "text": [
      "P\n"
     ]
    }
   ],
   "source": [
    "geratener_buchstabe = erhalte_Großbuchstaben()\n",
    "print(geratener_buchstabe)"
   ]
  },
  {
   "cell_type": "markdown",
   "id": "a349d75e",
   "metadata": {},
   "source": [
    "## Hangman-Spiel"
   ]
  },
  {
   "cell_type": "markdown",
   "id": "18ae10f1",
   "metadata": {},
   "source": [
    "<div style=\"background-color: lightblue; padding: 10px; border-radius: 5px; overflow: hidden;\">\n",
    "    <img src=\"msc/img/gesamtes_flussdiagramm.jpg\" style=\"width:400px; margin: 20px; float: right\"/>\n",
    "    Wir haben nun fast alle Bausteine zusammen, die wir brauchen, um das Spiel zu vervollständigen. <br>\n",
    "Hier noch mal eine Übersicht:\n",
    "\n",
    "- `verringere_um_Eins`\n",
    "- `kündige_Spieleröffnung_an`\n",
    "- `ist_das_Spiel_noch_am_laufen`\n",
    "- `erhalte_Großbuchstaben`\n",
    "- `gib_verschleiertes_Wort`\n",
    "- `entschleiere_Buchstaben`\n",
    "\n",
    "Außerdem haben wir zwei Funktionen schon mal für euch vorbereitet:\n",
    "</div>\n",
    "\n"
   ]
  },
  {
   "cell_type": "code",
   "execution_count": null,
   "id": "40cf9125",
   "metadata": {},
   "outputs": [],
   "source": [
    "#brauchen wir, um ein Wort zufällig auszuwählen\n",
    "import random\n",
    "\n",
    "# wählt ein zufälliges Wort aus der gegebenen Liste von Strings (\"wortliste\") \n",
    "def wähle_ein_zufälliges_Wort(wörterliste):  \n",
    "    wort = random.choice(wörterliste)\n",
    "    return wort"
   ]
  },
  {
   "cell_type": "markdown",
   "id": "bfb60973",
   "metadata": {},
   "source": [
    "<div style=\"background-color: lightblue; padding: 10px; border-radius: 5px; overflow: hidden;\">\n",
    "     Wir brauchen also nur noch die Funktionen, die wir schon geschrieben haben, an der richtigen Stelle einzufügen.\n",
    "</div>\n"
   ]
  },
  {
   "cell_type": "code",
   "execution_count": null,
   "id": "e1970dd7",
   "metadata": {},
   "outputs": [],
   "source": [
    "def starte_Hangmanspiel(wörterListe):\n",
    "    # TODO: hier könnte eine Begrüßung hin\n",
    "    \n",
    "    geheimwort = _# TODO: hier sollte ein Wort per Zufall aus einer Liste ausgewählt werden\n",
    "    fehlgeschlageneBuchstaben = []\n",
    "    erratenesTeilwort = _# TODO: hier wollen wir am Anfang eine Liste haben mit \"_\" für jeden Buchstaben im Geheimwort\n",
    "    erlaubteFehlversuche = 10 \n",
    "\n",
    "\n",
    "    while(_): #TODO: wenn das Spiel noch nicht beendet ist\n",
    "        eingabebuchstabe = _ # TODO: input von Spielerin, überprüft (nur ein Großuchstabe)\n",
    "\n",
    "        if _: # TODO:füge passende Bedingung ein\n",
    "            print(\"Der Buchstabe ist bereits erraten. Versuche einen anderen Buchstaben.\")\n",
    "            continue\n",
    "            \n",
    "        if _:# TODO: füge passende Bedingung ein\n",
    "            print(\"> Glückwunsch, der Buchstabe ist im Wort enthalten\")\n",
    "            #TODO: der erratene Buchstabe sollte nun im erratenen Teilwort sichtbar werden\n",
    "\n",
    "        if _:# TODO: füge passende Bedingung ein\n",
    "            print(\"Der Buchstabe ist bereits fehlgeschlagenen. Versuche einen anderen Buchstaben.\")\n",
    "            continue\n",
    "        \n",
    "        if _:# TODO: füge passende Bedingung ein\n",
    "            print(\"> Leider ist der Buchstabe nicht im Wort enthalten. Du hast nun einen Fehlversuch weniger.\")\n",
    "            erlaubteFehlversuche = _# TODO: sollten eins weniger werden\n",
    "            fehlgeschlageneBuchstaben.append(eingabebuchstabe)"
   ]
  },
  {
   "cell_type": "code",
   "execution_count": null,
   "id": "9e99ffc70d99f9f7",
   "metadata": {},
   "outputs": [],
   "source": [
    "import random\n",
    "from time import sleep\n",
    "\n",
    "from lib.hangman_gui import HangmanGui\n",
    "\n",
    "\n",
    "# TODO: Wie unterer Kommentar beim Kapseln der Built-In Funktion.\n",
    "#       Weiß nicht, ob es hier sinnvoll ist zu kapseln, wenn das eigentlich eine 1 Zeilen Operation ist...\n",
    "\n",
    "# gekapselte Funktionen\n",
    "def verringere_um_eins(zahl):  # grundlegende Funktion\n",
    "    return zahl - 1\n",
    "\n",
    "\n",
    "def kündige_spieleröffnung_an():\n",
    "# Nutzung bereits gegebener Funktionen wie input\n",
    "    print(\"Willkommen beim Hangman-Spiel\")\n",
    "    name = input(\"Bitte gib deinen Namen ein: \")\n",
    "    print(\"Hallo \" + name + \"! Schön dich kennenzulernen.\")\n",
    "    print(\"-------------------------------------------------\")\n",
    "    print(\"Let's Play Hangman! Du kannst dir 10 Fehlversuche leisten.\")\n",
    "\n",
    "\n",
    "def ist_das_spiel_noch_am_laufen(erratenes_teilwort, erlaubte_fehlversuche):  # if else Funktion\n",
    "    if (not (\"_\" in erratenes_teilwort)):\n",
    "        print(\"CONGRATULATIONS! - YOU WON\")\n",
    "        return False\n",
    "\n",
    "    if (erlaubte_fehlversuche == 0):\n",
    "        print(\"GAME OVER - YOU LOST\")\n",
    "        return False\n",
    "\n",
    "    else:\n",
    "        return True\n",
    "\n",
    "#\n",
    "def erhalte_großbuchstaben():\n",
    "    eingabebuchstabe = input(\"Gib einen Großbuchstaben ein: \")\n",
    "    while (not (len(eingabebuchstabe) == 1 and eingabebuchstabe.isalpha())):\n",
    "        print(\"Das war kein einzelner Buchstabe: \")\n",
    "        eingabebuchstabe = input(\"Gib einen Großbuchstaben ein: \")\n",
    "\n",
    "    return eingabebuchstabe.upper()\n",
    "\n",
    "\n",
    "# TODO: Hier ne eigene Funktion zu machen bietet iwie keinen Mehrwert.\n",
    "#       Ich denke, dass verwirrt eher und bläht den Code auf.\n",
    "def erweitere_fehlgeschlagene_BuchstabenListe(eingabebuchstabe, fehlgeschlagene_buchstaben):  # Listen Funktion 1\n",
    "    fehlgeschlagene_buchstaben.append(eingabebuchstabe)\n",
    "\n",
    "\n",
    "# Spacing entfernen?\n",
    "# Liste-Konzept vor for-Konzept\n",
    "def gib_verdecktes_wort(geheimwort):  # For Funktion\n",
    "    verschleiertesWort = []\n",
    "    for buchstabe in geheimwort:\n",
    "        verschleiertesWort.append(\"_\")\n",
    "\n",
    "    return verschleiertesWort\n",
    "\n",
    "# im Spielcode vorgeben\n",
    "def wähle_ein_zufälliges_wort(wörter_liste):  # Listen Funktion 4\n",
    "    wort = random.choice(wörter_liste)\n",
    "    # TODO: for unified representation i changed that here.\n",
    "    #   I'm considering to force upper case for user inputs as well to un-bloat the code for the students...\n",
    "    return wort.upper()\n",
    "\n",
    "\n",
    "# for i in range ?\n",
    "# Buchstabenposition * 2 -> Buchstaben ?\n",
    "# -> einfache Funktion\n",
    "def buchstaben_aufdecken(eingabebuchstabe, geheimwort, erratenes_teilwort):  # For\n",
    "    for buchstabenposition, buchstabe in enumerate(geheimwort):\n",
    "        if (eingabebuchstabe == buchstabe):\n",
    "            erratenes_teilwort[buchstabenposition] = eingabebuchstabe\n",
    "\n",
    "\n",
    "# Eigentliches Spiel\n",
    "def starte_hangmanspiel(wörter_liste):\n",
    "\n",
    "    kündige_spieleröffnung_an()\n",
    "    geheimwort = wähle_ein_zufälliges_wort(wörter_liste)\n",
    "    fehlgeschlageneBuchstaben = []\n",
    "    erratenesTeilwort = gib_verdecktes_wort(geheimwort)\n",
    "    erlaubteFehlversuche = 10\n",
    "\n",
    "    sleep(0.5)\n",
    "\n",
    "    gui = HangmanGui(geheimwort, erratenesTeilwort, fehlgeschlageneBuchstaben, erlaubteFehlversuche)\n",
    "\n",
    "    #zeige_Zustand(erratenesTeilwort, fehlgeschlageneBuchstaben, erlaubteFehlversuche)\n",
    "\n",
    "    # TODO: Vielleicht würde hier ein einfacher Boolean Abgleich leichter zu verstehen sein.\n",
    "    #       Weiß nicht, ob das für den Anfang zu verkapselt ist.\n",
    "    while (ist_das_spiel_noch_am_laufen(erratenesTeilwort, erlaubteFehlversuche)):\n",
    "        eingabebuchstabe = erhalte_großbuchstaben()\n",
    "\n",
    "        if (eingabebuchstabe in erratenesTeilwort):\n",
    "            nachricht =\"Der Buchstabe ist bereits erraten.\\nVersuche einen anderen Buchstaben.\"\n",
    "\n",
    "        if (eingabebuchstabe in geheimwort):\n",
    "            nachricht = \"Glückwunsch, der Buchstabe ist im Wort enthalten\"\n",
    "            buchstaben_aufdecken(eingabebuchstabe, geheimwort, erratenesTeilwort)\n",
    "\n",
    "        if (eingabebuchstabe in fehlgeschlageneBuchstaben):\n",
    "            nachricht=\"Der Buchstabe ist bereits fehlgeschlagenen.\\nVersuche einen anderen Buchstaben!\"\n",
    "\n",
    "        if (not (eingabebuchstabe in geheimwort)):\n",
    "            erlaubteFehlversuche = verringere_um_eins(erlaubteFehlversuche)\n",
    "            erweitere_fehlgeschlagene_BuchstabenListe(eingabebuchstabe, fehlgeschlageneBuchstaben)\n",
    "            nachricht=\"Leider ist der Buchstabe nicht im Wort enthalten.\\nDu hast nun einen Fehlversuch weniger.\"\n",
    "\n",
    "        gui.cycle(erratenesTeilwort, erlaubteFehlversuche, fehlgeschlageneBuchstaben, message=nachricht)\n",
    "\n"
   ]
  },
  {
   "cell_type": "code",
   "execution_count": 3,
   "id": "d54eb00bb6cbd895",
   "metadata": {},
   "outputs": [
    {
     "data": {
      "image/png": "[encoded data removed]",
      "text/plain": [
       "<Figure size 640x480 with 1 Axes>"
      ]
     },
     "metadata": {},
     "output_type": "display_data"
    },
    {
     "ename": "TypeError",
     "evalue": "HangmanGui.cycle() missing 2 required positional arguments: 'player_lives' and 'failed_chars'",
     "output_type": "error",
     "traceback": [
      "\u001b[1;31m---------------------------------------------------------------------------\u001b[0m",
      "\u001b[1;31mTypeError\u001b[0m                                 Traceback (most recent call last)",
      "Cell \u001b[1;32mIn[3], line 3\u001b[0m\n\u001b[0;32m      1\u001b[0m \u001b[38;5;28;01mfrom\u001b[39;00m\u001b[38;5;250m \u001b[39m\u001b[38;5;21;01mlib\u001b[39;00m\u001b[38;5;21;01m.\u001b[39;00m\u001b[38;5;21;01mhangman\u001b[39;00m\u001b[38;5;250m \u001b[39m\u001b[38;5;28;01mimport\u001b[39;00m starte_hangmanspiel\n\u001b[1;32m----> 3\u001b[0m \u001b[43mstarte_hangmanspiel\u001b[49m\u001b[43m(\u001b[49m\u001b[43m[\u001b[49m\u001b[38;5;124;43m'\u001b[39;49m\u001b[38;5;124;43mmoin\u001b[39;49m\u001b[38;5;124;43m'\u001b[39;49m\u001b[43m]\u001b[49m\u001b[43m)\u001b[49m\n",
      "File \u001b[1;32m~\\PycharmProjects\\Starcode\\lib\\hangman.py:89\u001b[0m, in \u001b[0;36mstarte_hangmanspiel\u001b[1;34m(wörter_liste)\u001b[0m\n\u001b[0;32m     85\u001b[0m erlaubteFehlversuche \u001b[38;5;241m=\u001b[39m \u001b[38;5;241m10\u001b[39m\n\u001b[0;32m     87\u001b[0m sleep(\u001b[38;5;241m0.5\u001b[39m)\n\u001b[1;32m---> 89\u001b[0m gui \u001b[38;5;241m=\u001b[39m \u001b[43mHangmanGui\u001b[49m\u001b[43m(\u001b[49m\u001b[43mgeheimwort\u001b[49m\u001b[43m,\u001b[49m\u001b[43m \u001b[49m\u001b[43merratenesTeilwort\u001b[49m\u001b[43m,\u001b[49m\u001b[43m \u001b[49m\u001b[43mfehlgeschlageneBuchstaben\u001b[49m\u001b[43m,\u001b[49m\u001b[43m \u001b[49m\u001b[43merlaubteFehlversuche\u001b[49m\u001b[43m)\u001b[49m\n\u001b[0;32m     91\u001b[0m \u001b[38;5;66;03m#zeige_Zustand(erratenesTeilwort, fehlgeschlageneBuchstaben, erlaubteFehlversuche)\u001b[39;00m\n\u001b[0;32m     92\u001b[0m \n\u001b[0;32m     93\u001b[0m \u001b[38;5;66;03m# TODO: Vielleicht würde hier ein einfacher Boolean Abgleich leichter zu verstehen sein.\u001b[39;00m\n\u001b[0;32m     94\u001b[0m \u001b[38;5;66;03m#       Weiß nicht, ob das für den Anfang zu verkapselt ist.\u001b[39;00m\n\u001b[0;32m     95\u001b[0m \u001b[38;5;28;01mwhile\u001b[39;00m (ist_das_spiel_noch_am_laufen(erratenesTeilwort, erlaubteFehlversuche)):\n",
      "File \u001b[1;32m~\\PycharmProjects\\Starcode\\lib\\hangman_gui.py:46\u001b[0m, in \u001b[0;36mHangmanGui.__init__\u001b[1;34m(self, target, masked_target, failed_chars, player_lives)\u001b[0m\n\u001b[0;32m     43\u001b[0m \u001b[38;5;28mself\u001b[39m\u001b[38;5;241m.\u001b[39max\u001b[38;5;241m.\u001b[39maxis(\u001b[38;5;124m'\u001b[39m\u001b[38;5;124moff\u001b[39m\u001b[38;5;124m'\u001b[39m)\n\u001b[0;32m     44\u001b[0m \u001b[38;5;28mself\u001b[39m\u001b[38;5;241m.\u001b[39max\u001b[38;5;241m.\u001b[39mset_aspect(\u001b[38;5;124m'\u001b[39m\u001b[38;5;124mequal\u001b[39m\u001b[38;5;124m'\u001b[39m)\n\u001b[1;32m---> 46\u001b[0m \u001b[38;5;28;43mself\u001b[39;49m\u001b[38;5;241;43m.\u001b[39;49m\u001b[43mdisplay_welcome\u001b[49m\u001b[43m(\u001b[49m\u001b[43m)\u001b[49m\n",
      "File \u001b[1;32m~\\PycharmProjects\\Starcode\\lib\\hangman_gui.py:63\u001b[0m, in \u001b[0;36mHangmanGui.display_welcome\u001b[1;34m(self)\u001b[0m\n\u001b[0;32m     61\u001b[0m \u001b[38;5;28mself\u001b[39m\u001b[38;5;241m.\u001b[39mclear_render()\n\u001b[0;32m     62\u001b[0m \u001b[38;5;28mself\u001b[39m\u001b[38;5;241m.\u001b[39mupdate_notification_box(\u001b[38;5;124mf\u001b[39m\u001b[38;5;124m\"\u001b[39m\u001b[38;5;124mWelcome, \u001b[39m\u001b[38;5;132;01m{\u001b[39;00mname\u001b[38;5;132;01m}\u001b[39;00m\u001b[38;5;124m!\u001b[39m\u001b[38;5;130;01m\\n\u001b[39;00m\u001b[38;5;124mLet\u001b[39m\u001b[38;5;124m'\u001b[39m\u001b[38;5;124ms play hangman!\u001b[39m\u001b[38;5;124m\"\u001b[39m)\n\u001b[1;32m---> 63\u001b[0m \u001b[38;5;28;43mself\u001b[39;49m\u001b[38;5;241;43m.\u001b[39;49m\u001b[43mcycle\u001b[49m\u001b[43m(\u001b[49m\u001b[38;5;28;43mself\u001b[39;49m\u001b[38;5;241;43m.\u001b[39;49m\u001b[43mmasked_target\u001b[49m\u001b[43m)\u001b[49m\n",
      "\u001b[1;31mTypeError\u001b[0m: HangmanGui.cycle() missing 2 required positional arguments: 'player_lives' and 'failed_chars'"
     ]
    }
   ],
   "source": [
    "from lib.hangman import starte_hangmanspiel\n",
    "\n",
    "starte_hangmanspiel(['moin'])"
   ]
  },
  {
   "cell_type": "code",
   "execution_count": 3,
   "id": "e2277a8d-dad2-4870-9476-6a4218bf4ac2",
   "metadata": {},
   "outputs": [
    {
     "data": {
      "application/javascript": [
       "\n",
       "console.log('Geladene Stylesheets:');\n",
       "for (let i = 0; i < document.styleSheets.length; i++) {\n",
       "    console.log(document.styleSheets[i].href);\n",
       "}\n"
      ],
      "text/plain": [
       "<IPython.core.display.Javascript object>"
      ]
     },
     "execution_count": 3,
     "metadata": {},
     "output_type": "execute_result"
    }
   ],
   "source": [
    "from IPython.core.display import Javascript\n",
    "\n",
    "Javascript(\"\"\"\n",
    "console.log('Geladene Stylesheets:');\n",
    "for (let i = 0; i < document.styleSheets.length; i++) {\n",
    "    console.log(document.styleSheets[i].href);\n",
    "}\n",
    "\"\"\")\n"
   ]
  },
  {
   "cell_type": "code",
   "execution_count": null,
   "id": "35be7356-ef34-43cd-985a-5376d93eb20d",
   "metadata": {},
   "outputs": [],
   "source": []
  }
 ],
 "metadata": {
  "kernelspec": {
   "display_name": "Python 3 (ipykernel)",
   "language": "python",
   "name": "python3"
  },
  "language_info": {
   "codemirror_mode": {
    "name": "ipython",
    "version": 3
   },
   "file_extension": ".py",
   "mimetype": "text/x-python",
   "name": "python",
   "nbconvert_exporter": "python",
   "pygments_lexer": "ipython3",
   "version": "3.12.3"
  }
 },
 "nbformat": 4,
 "nbformat_minor": 5
}
