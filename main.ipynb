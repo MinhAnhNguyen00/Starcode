{
 "cells": [
  {
   "cell_type": "markdown",
   "id": "8c21302bfd284b07",
   "metadata": {},
   "source": [
    "# starcode<sup>*</sup> WiSe 24/25"
   ]
  },
  {
   "cell_type": "markdown",
   "id": "3a63c99f",
   "metadata": {},
   "source": [
    "## 1. Grundlagen \n",
    "Im Folgenden werdet ihr alle Grundlagen lernen, um mit dem Programmieren anfangen zu können.\\\n",
    "Falls es das erste Mal für dich ist, dass du mit einem **Jupyter Notebook**, dieser Art von Dokument, arbeitest, dann würde ich es dir empfehlen, es als **interaktives Dokument** zu betrachten, von **oben nach unten** zu lesen und bei den **interaktiven Code-Schnipseln mitzuarbeiten**. "
   ]
  },
  {
   "cell_type": "markdown",
   "metadata": {},
   "source": [
    "### 1.1 Programm\n",
    "**Ein Programm ist eine Menge von hintereinander ausgeführten Anweisungen.**\\\n",
    "Das mag sich jetzt etwas abstrakt anhören, aber tatsächlich kennt ihr Programme schon aus eurem Alltag.\\\n",
    "**Anleitungen zum Aufbauen von Möbelstücken**, **Kochrezepte** oder **Installationsguides** kann man sich als Programme vorstellen.\n",
    "\n",
    "<img src=\"img/Bauanleitung_Vogelhaus.jpg\" style=\"width:200px; margin: 20px\"/>\n",
    "<img src=\"img/Kochrezept.jpg\" style=\"width:200px; margin: 20px\"/>\n",
    "<img src=\"\" style=\"width:200px; margin: 20px\" alt=\"Bild für ein Installationsguide fehlt noch\"/>\n",
    "\n",
    "Im Unterschied dazu beihalten Programme in Computern **Code-Anweisungen**, die **vom Computer ausgeführt werden**. \n",
    "Ein sehr bekanntes Programm für Einsteiger ist das **HelloWorld-Programm**. \n",
    "```python \n",
    "    print(\"Hello World!\")\n",
    "```\n",
    "\n",
    "Du kannst das Programm gerne zum **Ausführen bringen**, um zu sehen, was es macht. \n",
    "Klick dafür auf die folgende Zelle mit dem Code und tippe dann gleichzeitig **SHIFT + ENTER** (⇧ + ↵ ).\\\n",
    "<img src=\"img/Tastatur_Farbig.jpg\" style=\"width:200px; margin: 20px\"/>\n"
   ]
  },
  {
   "cell_type": "code",
   "execution_count": 6,
   "id": "d4970143",
   "metadata": {},
   "outputs": [
    {
     "name": "stdout",
     "output_type": "stream",
     "text": [
      "Hello World!\n"
     ]
    }
   ],
   "source": [
    "print(\"Hello World!\")"
   ]
  },
  {
   "cell_type": "markdown",
   "id": "89e7bc9b",
   "metadata": {},
   "source": [
    "Du solltest **unter der Zelle** den folgenden Ausdruck gesehen haben:\n",
    "```python\n",
    "    Hello World!\n",
    "```\n",
    "Es kam zu einer **Ausgabe** auf der **Konsole**, dem Bereich unter der Code-Zelle.\\\n",
    "Die **Anweisung `print`** hat den **String** `\"Hello World!\"` auf der Konsole ausgegeben. Kein Sorge, **Strings** werden im weiteren Verlauf erklärt werden. Dies diente nur dem Vorgeschmack."
   ]
  },
  {
   "cell_type": "markdown",
   "id": "3e270868",
   "metadata": {},
   "source": [
    "### 1.2 Variablen \n",
    "**Eine Variable ist ein Behältnis für ein Gegenstand.**\\\n",
    "Du kennst höchstwahrscheinlich schon Variablen aus der Mathematik oder Physik, die Zahlen beinhalten. Das gilt es auch bei Programmen. In Programmen stellt die **Zuweisung einer Zahl zu einer Variablen** eine **Zuweisungs-Anweisung** dar.\\\n",
    "Zusätzlich können Programme abgesehen von Zahlen noch andere Arten von Gegenstände (**Datentypen**) beinhalten. Dazu gehören Zeichenketten (**Strings**) und Wahrheitswerte (**Boolean**).\n",
    "```python \n",
    "    number = 7\n",
    "    string = 'Text'\n",
    "    b = True\n",
    "```\n",
    "\n",
    "Probiere es doch selber mal aus eine Variable zu belegen."
   ]
  },
  {
   "cell_type": "code",
   "execution_count": null,
   "id": "51d5fee8",
   "metadata": {},
   "outputs": [
    {
     "name": "stdout",
     "output_type": "stream",
     "text": [
      "DEIN FEEDBACK\n"
     ]
    }
   ],
   "source": [
    "# Ersetze DEIN FEEDBACK mit deinem Zwischen-Feedback zum bisherigen Kurs\n",
    "feedback = 'DEIN FEEDBACK'         # Zuweisungs-Anweisung\n",
    "\n",
    "print(feedback)                    # Konsolenausgabe-Anweisung"
   ]
  },
  {
   "cell_type": "markdown",
   "id": "5fe5ef59",
   "metadata": {},
   "source": [
    "#### Datentypen\n",
    "Die folgende Tabelle gibt einen Einsteiger-Überblick zu Datentypen. \n",
    "\n",
    "| Datentyp | Wertebereich | Beispiel |\n",
    "|----------|----------|----------|\n",
    "| `int` | Ganze Zahlen | `11` |\n",
    "| `float` | Reelle Zahlen | `3.14` |\n",
    "| `str` | Zeichenfolgen | `\"Katze\"`, `\"starcode*\"` |\n",
    "| `boolean` | `True`, `False` | `True` |\n",
    "\n",
    "Tatsächlich gibt es zwei Unterarten von Zahlen und zwar `int` und `float`. Dies kann für gewisse Operationen, wie die Division, wichtig sein. (Darauf werden wir hier nicht eingehen.)"
   ]
  },
  {
   "cell_type": "markdown",
   "id": "ef7a2ffd",
   "metadata": {},
   "source": [
    "### 1.3 Kommentare\n",
    "Sicherlich sind dir im vorherigen Code-Schnipsel die **grünen Ausdrücke mit vorangeganenen `#`** aufgefallen.\\\n",
    "Dabei handelt es sich um **Kommentare**, die **nicht vom Computer als Anweisung interpretiert** werden, also vom Computer ignoriert werden, und dem **Leser als ergänzende Info** dienen.\n",
    "\n",
    "Kommentare werden oftmals von Anfängern als unwichtig angesehen, weil man selber ja weiß, was man schreibt. \\\n",
    "Problem ist, dass man beim **späteren Anschauen** des Programms meist keine Ahnung mehr hat, was die Idee dahinter war. Auch sollen Programme **von den Nicht-Autoren verstanden** werden. Denn wirklich **leistungsfähige Programme sind das Ergebnis von Kollaboration vieler Programmierer**.\n",
    "\n",
    "Deswegen sind Kommentare sehr wichtig. Zu Beginn wird es schwierig sein abzuwägen, wie ausführlich die Kommentare sein müssen. Aber mit der Zeit kriegt man Gefühl dafür. "
   ]
  },
  {
   "cell_type": "code",
   "execution_count": 2,
   "id": "initial_id",
   "metadata": {
    "ExecuteTime": {
     "end_time": "2024-11-20T17:45:30.463033Z",
     "start_time": "2024-11-20T17:45:03.183479Z"
    },
    "collapsed": true
   },
   "outputs": [
    {
     "name": "stdout",
     "output_type": "stream",
     "text": [
      "Welcome to Hangman!\n",
      "Please Enter your name:\n",
      "Hello, chris! Nice to meet you!\n",
      "Let's play...\n",
      "Enter a guess please: \n",
      "Wrong guess, you lost a live!\n",
      "You have 4 lives remaining.\n",
      "Enter a guess please: \n",
      "Please guess only one alphabetical letter!\n",
      "Enter a guess please: \n",
      "Wrong guess, you lost a live!\n",
      "You have 3 lives remaining.\n",
      "Enter a guess please: \n",
      "Wrong guess, you lost a live!\n",
      "You have 2 lives remaining.\n",
      "Enter a guess please: \n",
      "Wrong guess, you lost a live!\n",
      "You have 1 lives remaining.\n",
      "Enter a guess please: \n",
      "Wrong guess, you lost a live!\n",
      "You have 0 lives remaining.\n",
      "Oh no, you lost the game!\n",
      "You lost!\n"
     ]
    }
   ],
   "source": [
    "from ipywidgets import interact\n",
    "\n",
    "from lib.hangman import hangman\n",
    "\n",
    "hangman(vs_cpu=True)"
   ]
  },
  {
   "cell_type": "markdown",
   "id": "9c4a323b",
   "metadata": {},
   "source": [
    "## Kontrollfluss in Programmen\n",
    "\n",
    "Wie im echten Leben treffen wir auch in Programmen Entscheidungen basierend auf bestimmten Bedingungen oder Beobachtungen. \n",
    "\n",
    "In Python verwenden wir die Schlüsselwörter `if` und `else`, um solche Entscheidungen umzusetzen. Dabei prüfen wir eine Bedingung und führen abhängig von ihrem Ergebnis unterschiedliche Aktionen aus.\n",
    "\n",
    "Wir können uns das Konzept in natürlicher Sprache so vorstellen:\n",
    "\n",
    "- **Wenn es regnet**, dann nehme ich einen Regenschirm.\n",
    "- **Wenn es nicht regnet**, dann brauche ich keinen Regenschirm.\n",
    "\n",
    "Das folgende Beispiel zeigt, wie wir diese Logik in Python umsetzen können:"
   ]
  },
  {
   "cell_type": "code",
   "execution_count": null,
   "id": "8367ee5d",
   "metadata": {},
   "outputs": [
    {
     "name": "stdout",
     "output_type": "stream",
     "text": [
      "Es regnet heute, du brauchst einen Regenschirm!\n"
     ]
    }
   ],
   "source": [
    "# Wir nehmen an, dass es heute regnet. Du kannst die Variable auch auf \"False\" setzen, um zu testen, wie das Programm auf trockenes Wetter reagiert.\n",
    "regen = True\n",
    "\n",
    "# Mit IF und ELSE prüfen wir die Bedingung:\n",
    "# \"Wenn es regnet, tue das ...\" \"Sonst tue etwas anderes ...\"\n",
    "if regen:\n",
    "    print(\"Es regnet heute, du brauchst einen Regenschirm!\")\n",
    "else:\n",
    "    print(\"Heute ist es trocken, du brauchst keinen Regenschirm!\")"
   ]
  },
  {
   "cell_type": "markdown",
   "id": "efef856d",
   "metadata": {},
   "source": [
    "### Vergleichsoperatoren und Bedingungen\n",
    "\n",
    "Bisher haben wir `if` und `else` verwendet, um einfache Bedingungen zu prüfen, z. B. ob eine Variable `True` oder `False` ist. Oft müssen wir jedoch **Vergleiche** zwischen Werten anstellen, um Entscheidungen zu treffen.\n",
    "\n",
    "Mit **Vergleichsoperatoren** kannst du überprüfen, wie zwei Werte zueinander stehen. Die häufigsten Vergleichsoperatoren in Python sind:\n",
    "\n",
    "- `>` (größer als)\n",
    "- `<` (kleiner als)\n",
    "- `>=` (größer oder gleich)\n",
    "- `<=` (kleiner oder gleich)\n",
    "- `==` (gleich)\n",
    "- `!=` (ungleich)\n",
    "\n",
    "#### Beispiel:\n",
    "Stell dir vor, wir möchten prüfen, ob es draußen so kalt ist, dass eine Jacke notwendig ist:\n",
    "- **Frage:** Ist die Temperatur unter 15 Grad?\n",
    "- **Antwort:** Das wird mit dem Vergleich `temperatur < 15` geprüft.\n",
    "\n",
    "#### Aufgabe:\n",
    "Schreibe ein Programm, das die Nutzer:in fragt, wie viel Grad es draußen hat, und eine passende Nachricht ausgibt:\n",
    "\n",
    "1. Wenn die Temperatur unter 15 Grad liegt, soll das Programm ausgeben: `\"Es ist kalt, zieh eine Jacke an!\"`.\n",
    "2. Andernfalls soll es ausgeben: `\"Es ist warm genug, du brauchst keine Jacke.\"`.\n",
    "\n",
    "#### Bonus:\n",
    "Füge eine Eingabeaufforderung hinzu, damit die Nutzer:in selbst die Temperatur eingeben kann.\n",
    "\n",
    "#### Beispiel für die Ausgabe:\n",
    "```plaintext\n",
    "Wie viel Grad hat es draußen? 10\n",
    "Es ist kalt, zieh eine Jacke an!\n"
   ]
  },
  {
   "cell_type": "code",
   "execution_count": null,
   "id": "7a4070ab",
   "metadata": {},
   "outputs": [],
   "source": [
    "# TODO: Zunächst müssen wir eine Variable definieren, um dem Programm mitzuteilen, wie warm es gerade draußen ist.\n",
    "# Tipp: Du kannst die Temperatur direkt setzen oder die Nutzer:in fragen, sie einzugeben.\n",
    "\n",
    "# TODO: Als nächstes müssen wir anhand der Temperatur entscheiden, ob eine Jacke benötigt wird. \n",
    "# Ersetze dazu \"_\" mit der entsprechenden Bedingung.\n",
    "\n",
    "if _:  # Ersetze \"_\" mit der richtigen Bedingung, z. B. \"temperatur < 15\"\n",
    "    print(\"Bitte trage hier eine Nachricht an den Nutzer ein...\")  # Passe die Nachricht an\n",
    "else:\n",
    "    print(\"Bitte trage hier eine Nachricht an den Nutzer ein...\")  # Passe die Nachricht an\n"
   ]
  }
 ],
 "metadata": {
  "kernelspec": {
   "display_name": "intro-mi",
   "language": "python",
   "name": "python3"
  },
  "language_info": {
   "codemirror_mode": {
    "name": "ipython",
    "version": 3
   },
   "file_extension": ".py",
   "mimetype": "text/x-python",
   "name": "python",
   "nbconvert_exporter": "python",
   "pygments_lexer": "ipython3",
   "version": "3.9.7"
  }
 },
 "nbformat": 4,
 "nbformat_minor": 5
}
