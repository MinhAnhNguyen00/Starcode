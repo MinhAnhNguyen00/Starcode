{
 "cells": [
  {
   "cell_type": "markdown",
   "id": "8c21302bfd284b07",
   "metadata": {},
   "source": [
    "# starcode<sup>*</sup> WiSe 24/25"
   ]
  },
  {
   "cell_type": "markdown",
   "id": "672ff63a",
   "metadata": {},
   "source": [
    "# DEV STUFF\n",
    "\n",
    "THIS IS ONLY USED DURING DEV CYCLE! THESE COMMANDS LOAD THE JUPYTER EXETENSION FOR HOT-RELOADING PROJECT SOURCES!"
   ]
  },
  {
   "cell_type": "code",
   "execution_count": 1,
   "id": "3bb5a446",
   "metadata": {},
   "outputs": [],
   "source": [
    "%load_ext autoreload\n",
    "%autoreload 2"
   ]
  },
  {
   "cell_type": "markdown",
   "id": "553352d9",
   "metadata": {},
   "source": [
    "## 0. Vorbereitungen\n",
    "\n",
    "Um den Kurs dieses Notebooks nutzen zu können, müssen wir das Notebook zu nächst einrichten. \n",
    "\n",
    "Dafür wähle bitte die nachfolgende Zelle aus und drücke **SHIFT + ENTER** (⇧ + ↵ )."
   ]
  },
  {
   "cell_type": "code",
   "execution_count": 13,
   "id": "68cdc830",
   "metadata": {},
   "outputs": [
    {
     "name": "stdout",
     "output_type": "stream",
     "text": [
      "Einrichtung erfolgreich!\n"
     ]
    }
   ],
   "source": [
    "from lib.scripts.setup_env import create_venv, install_requirements\n",
    "\n",
    "create_venv()\n",
    "install_requirements()"
   ]
  },
  {
   "cell_type": "markdown",
   "id": "3a63c99f",
   "metadata": {},
   "source": [
    "## 1. Grundlagen \n",
    "Im Folgenden werdet ihr alle Grundlagen lernen, um mit dem Programmieren anfangen zu können.\n",
    "Falls es das erste Mal für dich ist, dass du mit einem **Jupyter Notebook**, dieser Art von Dokument, arbeitest, dann würde ich es dir empfehlen, es als **interaktives Dokument** zu betrachten, von **oben nach unten** zu lesen und bei den **interaktiven Code-Schnipseln mitzuarbeiten**. "
   ]
  },
  {
   "cell_type": "markdown",
   "id": "2e14c923d559aaf3",
   "metadata": {},
   "source": [
    "### 1.1 Programm\n",
    "**Ein Programm ist eine Menge von hintereinander ausgeführten Anweisungen.**\\\n",
    "Das mag sich jetzt etwas abstrakt anhören, aber tatsächlich kennt ihr Programme schon aus eurem Alltag.\\\n",
    "**Anleitungen zum Aufbauen von Möbelstücken**, **Kochrezepte** oder **Installationsguides** kann man sich als Programme vorstellen.\n",
    "\n",
    "<img src=\"msc/img/Bauanleitung_Vogelhaus.jpg\" style=\"width:200px; margin: 20px\"/>\n",
    "<img src=\"msc/img/Kochrezept.jpg\" style=\"width:200px; margin: 20px\"/>\n",
    "<img src=\"\" style=\"width:200px; margin: 20px\" alt=\"Bild für ein Installationsguide fehlt noch\"/>\n",
    "\n",
    "Im Unterschied dazu beihalten Programme in Computern **Code-Anweisungen**, die **vom Computer ausgeführt werden**. \n",
    "Ein sehr bekanntes Programm für Einsteiger ist das **HelloWorld-Programm**. \n",
    "```python \n",
    "    print(\"Hello World!\")\n",
    "```\n",
    "\n",
    "Du kannst das Programm gerne zum **Ausführen bringen**, um zu sehen, was es macht. \n",
    "Klick dafür auf die folgende Zelle mit dem Code und tippe dann gleichzeitig **SHIFT + ENTER** (⇧ + ↵ ).\\\n",
    "<img src=\"msc/img/Tastatur_Farbig.jpg\" style=\"width:200px; margin: 20px\"/>\n"
   ]
  },
  {
   "cell_type": "code",
   "execution_count": 1,
   "id": "d4970143",
   "metadata": {},
   "outputs": [
    {
     "name": "stdout",
     "output_type": "stream",
     "text": [
      "Hello World!\n"
     ]
    }
   ],
   "source": [
    "print(\"Hello World!\")"
   ]
  },
  {
   "cell_type": "markdown",
   "id": "89e7bc9b",
   "metadata": {},
   "source": [
    "Du solltest **unter der Zelle** den folgenden Ausdruck gesehen haben:\n",
    "```python\n",
    "    Hello World!\n",
    "```\n",
    "Es kam zu einer **Ausgabe** auf der **Konsole**, dem Bereich unter der Code-Zelle.\n",
    "\n",
    "Die **Anweisung `print`** hat den **String** `\"Hello World!\"` auf der Konsole ausgegeben. Kein Sorge, **Strings** werden im weiteren Verlauf erklärt werden. Dies diente nur dem Vorgeschmack."
   ]
  },
  {
   "cell_type": "markdown",
   "id": "63cc0019",
   "metadata": {},
   "source": [
    "#### Der `print` Befehl"
   ]
  },
  {
   "cell_type": "markdown",
   "id": "d98f6ce0",
   "metadata": {},
   "source": [
    "Wir wollen uns aber kurz den `print` Befehl genauer anschauen. Wie oben gesehen, gibt dieser Befehl den Text, den wir in Klammern eingeben in der Konsole zurück. Beachte hier, dass aller Text (also **strings**) in Python in Anführungsstrichen geschrieben werden muss. "
   ]
  },
  {
   "cell_type": "code",
   "execution_count": 1,
   "id": "7d233ca8",
   "metadata": {},
   "outputs": [
    {
     "name": "stdout",
     "output_type": "stream",
     "text": [
      "HalloWorld\n"
     ]
    }
   ],
   "source": [
    "# Wir könnnen übrigens verschiedene Textbausteine, also strings auch mit einem + ganz einfach verbinden:\n",
    "print('Hallo'+'World')"
   ]
  },
  {
   "cell_type": "markdown",
   "id": "e304d7a4",
   "metadata": {},
   "source": [
    "Beachte, dass hier das Leerzeichen fehlt. Du kannst es am Ende von 'Hallo' oder am Anfang von 'World' einfügen und schauen, ob dann die richtige Ausgabe in der Konsole erscheint. Nachdem du etwas geändert hast, musst du den Code erneut ausführen, also **SHIFT + ENTER** (⇧ + ↵ ) drücken.\n",
    "\n",
    "Natürlich können wir auch wie oben, einfach einen ganzen Satz in Anführungszeichen schreiben. Aber die Methode zwei Strings mit einem + zu verbinden wird später noch nützlich."
   ]
  },
  {
   "cell_type": "markdown",
   "id": "90654134",
   "metadata": {},
   "source": [
    "**Aufgabe:** Überlege dir eine Begrüßung für das Hangman Spiel und benutze den `print` Befehl um diese in der Konsolo ausgeben zu lassen. \n"
   ]
  },
  {
   "cell_type": "code",
   "execution_count": null,
   "id": "b9067fc3",
   "metadata": {},
   "outputs": [],
   "source": [
    "# Hier kannst du die Begrüßung für das Spiel schreiben"
   ]
  },
  {
   "cell_type": "markdown",
   "id": "3e270868",
   "metadata": {},
   "source": [
    "### 1.2 Variablen \n",
    "**Eine Variable ist ein Behältnis für ein Gegenstand.**\\\n",
    "Du kennst höchstwahrscheinlich schon Variablen aus der Mathematik oder Physik, die Zahlen beinhalten. Das gilt auch bei Programmen. In Programmen stellt die **Zuweisung einer Zahl zu einer Variablen** eine **Zuweisungs-Anweisung** dar.\\\n",
    "Zusätzlich können Programme abgesehen von Zahlen noch andere Arten von Gegenstände (**Datentypen**) beinhalten. Dazu gehören Zeichenketten (**Strings**) und Wahrheitswerte (**Boolean**).\n",
    "```python \n",
    "    number = 7\n",
    "    string = 'Text'\n",
    "    b = True\n",
    "```\n",
    "\n",
    "Probiere es doch selber mal aus eine Variable zu belegen."
   ]
  },
  {
   "cell_type": "code",
   "execution_count": null,
   "id": "51d5fee8",
   "metadata": {},
   "outputs": [
    {
     "name": "stdout",
     "output_type": "stream",
     "text": [
      "DEIN FEEDBACK\n"
     ]
    }
   ],
   "source": [
    "# TODO Ersetze DEIN FEEDBACK mit deinem Zwischen-Feedback zum bisherigen Kurs\n",
    "feedback = 'DEIN FEEDBACK'         # Zuweisungs-Anweisung\n",
    "\n",
    "print(feedback)                    # Konsolenausgabe-Anweisung"
   ]
  },
  {
   "cell_type": "markdown",
   "id": "5fe5ef59",
   "metadata": {},
   "source": [
    "#### Datentypen\n",
    "Die folgende Tabelle gibt einen Einsteiger-Überblick zu Datentypen. \n",
    "\n",
    "| Datentyp | Wertebereich | Beispiel |\n",
    "|----------|----------|----------|\n",
    "| `int` | Ganze Zahlen | `11` |\n",
    "| `float` | Reelle Zahlen | `3.14` |\n",
    "| `str` | Zeichenfolgen | `\"Katze\"`, `\"starcode*\"` |\n",
    "| `boolean` | `True`, `False` | `True` |\n",
    "\n",
    "Tatsächlich gibt es zwei Unterarten von Zahlen und zwar `int` und `float`. Dies kann für gewisse Operationen, wie die Division, wichtig sein. (Darauf werden wir hier nicht eingehen.)"
   ]
  },
  {
   "cell_type": "markdown",
   "id": "ef7a2ffd",
   "metadata": {},
   "source": [
    "### 1.3 Kommentare\n",
    "Sicherlich sind dir im vorherigen Code-Schnipsel die **grünen Ausdrücke mit vorangegangenen `#`** aufgefallen.\\\n",
    "Dabei handelt es sich um **Kommentare**, die **nicht vom Computer als Anweisung interpretiert** werden, also vom Computer ignoriert werden, und dem **Leser als ergänzende Info** dienen.\n",
    "\n",
    "Kommentare werden oftmals von Anfängern als unwichtig angesehen, weil man selber ja weiß, was man schreibt. \\\n",
    "Problem ist, dass man beim **späteren Anschauen** des Programms meist keine Ahnung mehr hat, was die Idee dahinter war. Auch sollen Programme **von den Nicht-Autoren verstanden** werden. Denn wirklich **leistungsfähige Programme sind das Ergebnis von Kollaboration vieler Programmierer**.\n",
    "\n",
    "Deswegen sind Kommentare sehr wichtig. Zu Beginn wird es schwierig sein abzuwägen, wie ausführlich die Kommentare sein müssen. Aber mit der Zeit kriegt man Gefühl dafür. "
   ]
  },
  {
   "cell_type": "markdown",
   "id": "a866427d",
   "metadata": {},
   "source": [
    "### Eingabe von Werten und Buchstaben in eine Funktion"
   ]
  },
  {
   "cell_type": "markdown",
   "id": "460312b7",
   "metadata": {},
   "source": [
    "Für das Galgenmännchenspiel müssen wir der Spielerin die Möglichkeit geben Buchstaben zu raten. Hierzu soll jeweils ein Buchstabe eingegeben werden, der dann von unserem Programm geprüft wird. Dazu verwenden wir die Funktion `input()` von Python. Sie erlaubt uns Text oder andere Eingaben, den wir in die Kommandozeile tippen zu speichern und damit weiter zu arbeiten. Zum besseren Verständnis hier erstmal ein Beispiel."
   ]
  },
  {
   "cell_type": "code",
   "execution_count": 2,
   "id": "d18e32e3",
   "metadata": {},
   "outputs": [
    {
     "data": {
      "text/plain": [
       "'huhu'"
      ]
     },
     "execution_count": 2,
     "metadata": {},
     "output_type": "execute_result"
    }
   ],
   "source": [
    "# Der Befehl Input lässt ein Textfeld erscheinen, in den die Benutzerin etwas eingeben kann\n",
    "input('Bitte ein Wort eingeben')"
   ]
  },
  {
   "cell_type": "markdown",
   "id": "935ce3b2",
   "metadata": {},
   "source": [
    "Wir können also in die Klammern des `input()` Befehls eine Anweisung schreiben, die dann vor dem Textfeld erscheint. Beachte, dass Text (Strings), wie immer in Python in Anführungsstrichen geschrieben werden muss. Um den eingegebenen Wert zu verarbeiten können wir uns die Eingabe als Variable speichern."
   ]
  },
  {
   "cell_type": "code",
   "execution_count": 5,
   "id": "6f3a4972",
   "metadata": {},
   "outputs": [],
   "source": [
    "#Wir speichern die Eingabe unter der Variable name. Somit können wir später wieder darauf zugreifen und der eingegebene Wert geht nicht verloren.\n",
    "name = input('Bitte gib deinen Namen ein.')"
   ]
  },
  {
   "cell_type": "markdown",
   "id": "4c6508d0",
   "metadata": {},
   "source": [
    "Nun können wir den eingegebenen Namen wieder aufrufen. Zum Beispiel mit dem print() Befehl von oben:"
   ]
  },
  {
   "cell_type": "code",
   "execution_count": null,
   "id": "436c06c8",
   "metadata": {},
   "outputs": [
    {
     "name": "stdout",
     "output_type": "stream",
     "text": [
      "Dein Name ist Olaf.\n"
     ]
    }
   ],
   "source": [
    "# Hier verbinden wir nun verschiedene Strings mit einem +, wie oben gelernt.\n",
    "print('Dein Name ist '+ name +'.')"
   ]
  },
  {
   "cell_type": "markdown",
   "id": "852c539d",
   "metadata": {},
   "source": [
    "**Aufgabe:** Versuche nun selber ein Inputfeld zu erstellen, was eine personalisierte Begrüßung für das Spiel erstellt. Du kannst die Begrüßung von oben gerne kopieren und erweitern."
   ]
  },
  {
   "cell_type": "code",
   "execution_count": null,
   "id": "e08c9865",
   "metadata": {},
   "outputs": [],
   "source": [
    "# TODO Nimm zunächst die Eingabe der Nutzerin entgegen. Nutze was dazu, was wir oben gelernt haben. Speicher die Eingabe gleich unter einem sinnvollen Variablennamen.\n",
    "\n",
    "\n",
    "# TODO Nun begrüße die Person mit ihrem Namen zum Hangman Spiel."
   ]
  },
  {
   "cell_type": "markdown",
   "id": "77b844a8",
   "metadata": {},
   "source": [
    "# Hier Überleitung zum nächsten Punkt mithilfe des Flussdiagrams."
   ]
  },
  {
   "cell_type": "markdown",
   "id": "6d81e666",
   "metadata": {},
   "source": [
    "Unser nächstes Ziel ist es, zu prüfen, ob ein bestimmter Buchstabe in einem Wort enthalten ist. Das funktioniert folgendermaßen: Wir definieren uns zunächst ein Wort, was wir als Variable speichern:"
   ]
  },
  {
   "cell_type": "code",
   "execution_count": null,
   "id": "902ac770",
   "metadata": {},
   "outputs": [],
   "source": [
    "word = 'Hase'"
   ]
  },
  {
   "cell_type": "markdown",
   "id": "ea009d2a",
   "metadata": {},
   "source": [
    "Wenn wir nun prüfen wollen, ob ein Buchstabe in unserem Wort enthalten ist, geben wir folgendes ein:"
   ]
  },
  {
   "cell_type": "code",
   "execution_count": null,
   "id": "988d1df5",
   "metadata": {},
   "outputs": [
    {
     "data": {
      "text/plain": [
       "True"
      ]
     },
     "metadata": {},
     "output_type": "display_data"
    }
   ],
   "source": [
    "# Wenn du diese Zelle abspielst sollte Python eine Boolean (s.o.) zurückgeben.\n",
    "'a' in word"
   ]
  },
  {
   "cell_type": "markdown",
   "id": "9808edb6",
   "metadata": {},
   "source": [
    "Wir sehen, dass uns der Wert True, als wahr zurückgegeben wird. Das sollte ja auch so sein. Wenn wir nun"
   ]
  },
  {
   "cell_type": "code",
   "execution_count": null,
   "id": "9fa6eb37",
   "metadata": {},
   "outputs": [
    {
     "data": {
      "text/plain": [
       "False"
      ]
     },
     "metadata": {},
     "output_type": "display_data"
    }
   ],
   "source": [
    "'p' in word"
   ]
  },
  {
   "cell_type": "markdown",
   "id": "b4e0bdff",
   "metadata": {},
   "source": [
    "ausprobieren, wird wie erwartet False, also falsch zurückgegeben. Probiere einmal selbst aus, was passiert, wenn du ein paar Buchstaben testest. Spiele insbesondere mal mit Groß- und Kleinschreibung herum."
   ]
  },
  {
   "cell_type": "code",
   "execution_count": 10,
   "id": "a1bf0e2f",
   "metadata": {},
   "outputs": [],
   "source": [
    "# TODO Probiere hier aus, was mit Groß- und Kleinschreibung funktioniert."
   ]
  },
  {
   "cell_type": "markdown",
   "id": "e000c526",
   "metadata": {},
   "source": [
    "Du wirst feststellen, dass Python den Buchstaben 'w' nicht im Wort wiederfindet, sondern nur 'W'. Ebenso wird für 'A' False zurückgegeben, für 'a' allerdings True. Um dieses Problem zu umgehen wollen wir alle Wörter und Buchstaben mit denen wir hantieren großschreiben oder alle kleinschreiben. Dazu gibt es die folgenden Befehle:"
   ]
  },
  {
   "cell_type": "code",
   "execution_count": null,
   "id": "b82b6b30",
   "metadata": {},
   "outputs": [
    {
     "name": "stdout",
     "output_type": "stream",
     "text": [
      "Maus MAUS maus\n"
     ]
    }
   ],
   "source": [
    "a = 'Maus'\n",
    "a_upper=a.upper()\n",
    "a_lower=a.lower()\n",
    "print(a, a_upper, a_lower)"
   ]
  },
  {
   "cell_type": "markdown",
   "id": "361b1f83",
   "metadata": {},
   "source": [
    "Nun haben wir alle Werkzeuge zusammen, um eine Funktion zu schreiben, die prüft, ob ein Buchstabe in einem Wort vorkommt. Aber dazu müssen wir erstmal verstehen, was eine Funktion in Python überhaupt ist. "
   ]
  },
  {
   "cell_type": "markdown",
   "id": "f81d5a36",
   "metadata": {},
   "source": [
    "### Funktionen"
   ]
  },
  {
   "cell_type": "markdown",
   "id": "bbc549be",
   "metadata": {},
   "source": [
    "Eine Funktion ist ein Baustein, der eine bestimmte Aufgabe erfüllt. Man kann sie immer wieder aufrufen und an verschiedenen Stellen verwenden. Eine Funktion hat bestimmte Bestandteile, die wir immer verwenden müssen. Wir können uns das Prinzip einer Funktion, wie in der Mathematik vorstellen. Die Funktion bekommt dabei eine Eingabe und verarbeitet diese. Am Ende gibt sie ein Ergebnis zurück.\n",
    "\n",
    "### Bild\n",
    "\n",
    "\n",
    " Hier erstmal eine Beispielfunktion. Wir bleiben bei unserem Beispiel des Galgenmännchenspiels."
   ]
  },
  {
   "cell_type": "markdown",
   "id": "1ee428a3",
   "metadata": {},
   "source": [
    "Hier eine Beispielfunktion. Du musst noch nicht genau verstehen, was hier passiert. Der Name verrät aber schon die Aufgabe \n",
    "```python\n",
    "    def Buchstabe_in_Wort(Buchstabe,Wort):\n",
    "        return Buchstabe in Wort\n",
    "```"
   ]
  },
  {
   "cell_type": "markdown",
   "id": "f5490a49",
   "metadata": {},
   "source": [
    "Eine Funktion wird immer mit dem Wort `def` eingeführt. Daraufhin folgt der Name der Funktion. Dieser sollte möglichst akurat beschreiben, was die Aufgabe der Funktion ist. Der Name darf **keine** Leerzeichen und Sonderzeichen enthalten. Die erste Zeile jeder Funktion wird dann abgeschlossen von den Input Variablen in Klammern hinter den Variablen und einem Doppelpunkt. Was der Input genau ist, lernen wir gleich noch. Hier erstmal ein paar Beispiele für erste Zeilen von Funktionen:"
   ]
  },
  {
   "cell_type": "markdown",
   "id": "4cc3a792",
   "metadata": {},
   "source": [
    "\n",
    "```python\n",
    "def Wetter_morgen(Wetterdaten):\n",
    "\n",
    "def Gewicht(Körpergröße, Alter):\n",
    "\n",
    "def Reisezeit(Standort, Zielort):\n",
    "```"
   ]
  },
  {
   "cell_type": "markdown",
   "id": "66baed12",
   "metadata": {},
   "source": [
    "Wir sehen also, dass die Namen der Funktionen und deren Eingabe, also die Werte in Klammern, genau aussagen, was dahintersteckt. Die erste Funktion würde zum Beispiel anhand der Wetterdaten (die Eingabevariable) das Wetter vorhersagen. Dagegen kann man von einer Funktion, die wie folgt aussieht"
   ]
  },
  {
   "cell_type": "markdown",
   "id": "24781169",
   "metadata": {},
   "source": [
    "```python\n",
    "    def Funktion1(x):\n",
    "```"
   ]
  },
  {
   "cell_type": "markdown",
   "id": "9769d5c5",
   "metadata": {},
   "source": [
    "nicht ablesen, was diese tut. Genau, wie wir oben Variablen immer sinnvoll und aussagekräftig benannt haben, tun wir das auch mit Funktionen."
   ]
  },
  {
   "cell_type": "markdown",
   "id": "7a71fda1",
   "metadata": {},
   "source": [
    "Nun haben wir die erste Zeile verstanden. Das ist bereits ein Großteil von dem, was eine Funktion braucht. Wir haben also gesehen, wo die Eingabe der Funktion übergeben wird. Fehlt noch die Ausgabe. Dies funktioniert folgendermaßen. Wir betrachten wieder das Beispiel"
   ]
  },
  {
   "cell_type": "code",
   "execution_count": null,
   "id": "26ed66c9",
   "metadata": {},
   "outputs": [],
   "source": [
    "# Wir betrachten wieder das Beispiel von oben\n",
    "def Buchstabe_in_Wort(Buchstabe,Wort):\n",
    "    return Buchstabe in Wort"
   ]
  },
  {
   "cell_type": "markdown",
   "id": "08292aeb",
   "metadata": {},
   "source": [
    "Wir sehen, dass die Rückgabe mit dem Schlüsselwort `return` eingeleitet wird. Was hinter `return` steht wird von der Funktion ausgegeben. Außerdem muss man beachten, dass der gesamte Inhalt der Funktion eingerückt ist. Durch das Einrücken erkennt Python, dass die Zeile noch zur Funktion gehört. Sobald wir nicht mehr einrücken, gehört die Zeile nicht mehr zur Funktion."
   ]
  },
  {
   "cell_type": "markdown",
   "id": "291f28ab",
   "metadata": {},
   "source": [
    "Nun wollen wir die Funktion einmal ausprobieren. Dazu schreiben wir den Namen der Funktion hin, mit den jeweiligen Werten als Eingabe, die wir ausprobieren wollen."
   ]
  },
  {
   "cell_type": "code",
   "execution_count": 22,
   "id": "1f023e26",
   "metadata": {},
   "outputs": [
    {
     "data": {
      "text/plain": [
       "True"
      ]
     },
     "execution_count": 22,
     "metadata": {},
     "output_type": "execute_result"
    }
   ],
   "source": [
    "# Hier testen wir die Funktion, jeweils an die Stelle der oben definierten Variablen kommen unsere Eingabewerte in der richtigen Reihenfolge.\n",
    "Buchstabe_in_Wort('A', 'Affe')"
   ]
  },
  {
   "cell_type": "markdown",
   "id": "2f0b71a3",
   "metadata": {},
   "source": [
    "Der Wert `True` sagt uns an, dass der Bustabe A im Wort Affe vorkommt."
   ]
  },
  {
   "cell_type": "markdown",
   "id": "7a8f4285",
   "metadata": {},
   "source": [
    "Allerdings haben wir erneut das Problem, wie oben, dass Groß- und Kleinschreibung eine Rolle spielt."
   ]
  },
  {
   "cell_type": "code",
   "execution_count": null,
   "id": "834d9838",
   "metadata": {},
   "outputs": [],
   "source": [
    "# Wenn Du diese Zelle ausführst solltest du 'False' zurückbekommen.\n",
    "Buchstabe_in_Wort('a', 'Affe')"
   ]
  },
  {
   "cell_type": "markdown",
   "id": "0d9bfb51",
   "metadata": {},
   "source": [
    "**Aufgabe:** Versuche nun, die Funktion oben so anzupassen, dass die Groß- und Kleinschreibung keine Rolle spielt."
   ]
  },
  {
   "cell_type": "code",
   "execution_count": null,
   "id": "7cbfa89c",
   "metadata": {},
   "outputs": [],
   "source": [
    "# TODO: Übernimm zunächst die ursprüngliche Funktion von oben\n",
    "# TODO: Überlege wie du mit den Befehelen .upper() und .lower() die Funktion anpassen kannst.\n",
    "#       Nach der Anpassung soll Groß- und Kleinschreibung keine Rolle mehr spielen für die Erkennung eines Buchstaben im Wort."
   ]
  },
  {
   "cell_type": "markdown",
   "id": "cbbd81d4",
   "metadata": {},
   "source": [
    "Wir geben nun noch ein Beispiel für zwei weitere Funktionen und dann ist es deine Aufgabe eine eigene Funktion zu schreiben."
   ]
  },
  {
   "cell_type": "code",
   "execution_count": null,
   "id": "b18d6658",
   "metadata": {},
   "outputs": [],
   "source": [
    "# Diese Funktion bekommt als Input zwei Strings (Worte oder Sätze) und fügt diese zu einem gemeinsamen String zusammen.\n",
    "def Worte_zusammenfuegen(wort1, wort2):\n",
    "    return wort1 + wort2"
   ]
  },
  {
   "cell_type": "code",
   "execution_count": null,
   "id": "7728dab7",
   "metadata": {},
   "outputs": [],
   "source": [
    "def addiere_zwei(zahl):\n",
    "    return zahl + 2"
   ]
  },
  {
   "cell_type": "markdown",
   "id": "1de60c93",
   "metadata": {},
   "source": [
    "**Aufgabe:** Schreibe folgende zwei Funktionen:\n",
    "\n",
    "1. Eine Funktion, die von einer Zahl eins abzieht. Zum Beispiel soll für den Input 5 die Zahl 4 zurückgegeben werden."
   ]
  },
  {
   "cell_type": "code",
   "execution_count": null,
   "id": "8d9812d8",
   "metadata": {},
   "outputs": [],
   "source": [
    "# Hier haben wir den Namen bereits vorgegeben, da wir diese Funktion spöter nochmal verwenden wollen.\n",
    "# Ändere den Namen also bitte nicht!\n",
    "\n",
    "# TODO: schreibe den Inhalt der Funktion.\n",
    "\n",
    "def verringere_um_Eins(zahl):\n",
    "    #schreibe hier deine Funktion"
   ]
  },
  {
   "cell_type": "markdown",
   "id": "37193c8f",
   "metadata": {},
   "source": [
    "Im folgenden Feld kannst du deine Funktion einmal ausführen. Denke daran vorher das Feld oben, in dem Du deine Funktion geschrieben hast mit *SHIFT +  ENTER* (⇧ + ↵ ) einmal zu speichern."
   ]
  },
  {
   "cell_type": "code",
   "execution_count": null,
   "id": "3cdbc53a",
   "metadata": {},
   "outputs": [],
   "source": [
    "verringere_um_Eins(7)"
   ]
  },
  {
   "cell_type": "markdown",
   "id": "2c1a91d6",
   "metadata": {},
   "source": [
    "2. Schreibe eine Funktion, die das Hangman Spiel eröffnet, indem du mit `print`-Befehlen eine Begrüßung ausgibst. Stell Dir vor das Spiel wird gestartet.\n",
    "Was soll die Spielerin dann sehen und lesen? Vielleicht kannst du die Begrüßung sogar personalisieren, indem du den Namen erfragst und mit Hilfe von `input` einbindest."
   ]
  },
  {
   "cell_type": "code",
   "execution_count": null,
   "id": "6bc552db",
   "metadata": {},
   "outputs": [],
   "source": [
    "# TODO: Schreibe eine Funktion, die am Anfang des Spieles die Spielerin begrüßt\n",
    "# Merke: Hier brauchen wir keinen return Befehl, da die Funktion keinen Output-Wert hat.\n",
    "\n",
    "def kündige_Spieleröffnung_an():\n",
    "    # schreibe hier mit Hilfe von print-Befehlen deine Begrüßung"
   ]
  },
  {
   "cell_type": "markdown",
   "id": "b185e9b7",
   "metadata": {},
   "source": [
    "Wir wollen einmal testen, ob alles so läuft, wie Du es dir vorgestellt hast."
   ]
  },
  {
   "cell_type": "code",
   "execution_count": null,
   "id": "753f981e",
   "metadata": {},
   "outputs": [],
   "source": [
    "kündige_Spieleröffnung_an()"
   ]
  },
  {
   "cell_type": "markdown",
   "id": "ab6ff50b",
   "metadata": {},
   "source": [
    "\n",
    "Zusatz: Eine Funktion, die als Input zwei Zahlen bekommt und deren Summe zurückgibt. Für 3 und 7 als Input soll sie also 10 zurückgeben.\n"
   ]
  },
  {
   "cell_type": "code",
   "execution_count": null,
   "id": "4b5b43ad",
   "metadata": {},
   "outputs": [],
   "source": [
    "# TODO: Denke dir einen sinnvollen Namen aus für die Funktion, die zwei Werte multipliziert. Schaue gerne nochmal oben die Beispiele an.\n",
    "# TODO: Welche und wie viele Variablen soll die Funktion entgegennehmen? Wie willst du diese nennen?\n",
    "# TODO: Was ist die Ausgabe der Funktion und wie erhalten wir diese?\n",
    "\n",
    "\n",
    "### schreibe hier deine Funktion"
   ]
  },
  {
   "cell_type": "markdown",
   "id": "d719396a",
   "metadata": {},
   "source": [
    "Auch diese Funktion wollen wir einmal testen."
   ]
  },
  {
   "cell_type": "code",
   "execution_count": null,
   "id": "0e1156bb",
   "metadata": {},
   "outputs": [],
   "source": [
    "# TODO: Teste hier deine Funktion. Schreibe dazu den Namen der Funktion mit konkreten Zahlen als Input hierhin."
   ]
  },
  {
   "cell_type": "markdown",
   "id": "9c4a323b",
   "metadata": {},
   "source": [
    "## Kontrollfluss in Programmen\n",
    "\n",
    "Wie im echten Leben treffen wir auch in Programmen Entscheidungen basierend auf bestimmten Bedingungen oder Beobachtungen. \n",
    "\n",
    "In Python verwenden wir die Schlüsselwörter `if` und `else`, um solche Entscheidungen umzusetzen. Dabei prüfen wir eine Bedingung und führen abhängig von ihrem Ergebnis unterschiedliche Aktionen aus.\n",
    "\n",
    "Wir können uns das Konzept in natürlicher Sprache so vorstellen:\n",
    "\n",
    "- **Wenn es regnet**, dann nehme ich einen Regenschirm.\n",
    "- **Wenn es nicht regnet**, dann brauche ich keinen Regenschirm.\n",
    "\n",
    "Das folgende Beispiel zeigt, wie wir diese Logik in Python umsetzen können:"
   ]
  },
  {
   "cell_type": "code",
   "execution_count": 11,
   "id": "8367ee5d",
   "metadata": {},
   "outputs": [
    {
     "name": "stdout",
     "output_type": "stream",
     "text": [
      "Es regnet heute, du brauchst einen Regenschirm!\n"
     ]
    }
   ],
   "source": [
    "# Wir nehmen an, dass es heute regnet. Du kannst die Variable auch auf \"False\" setzen, um zu testen, wie das Programm auf trockenes Wetter reagiert.\n",
    "regen = True\n",
    "\n",
    "# Mit IF und ELSE prüfen wir die Bedingung:\n",
    "# \"Wenn es regnet, tue das ...\" \"Sonst tue etwas anderes ...\"\n",
    "if regen:\n",
    "    print(\"Es regnet heute, du brauchst einen Regenschirm!\")\n",
    "else:\n",
    "    print(\"Heute ist es trocken, du brauchst keinen Regenschirm!\")"
   ]
  },
  {
   "cell_type": "markdown",
   "id": "efef856d",
   "metadata": {},
   "source": [
    "### Vergleichsoperatoren und Bedingungen\n",
    "\n",
    "Bisher haben wir `if` und `else` verwendet, um einfache Bedingungen zu prüfen, z. B. ob eine Variable `True` oder `False` ist. Oft müssen wir jedoch **Vergleiche** zwischen Werten anstellen, um Entscheidungen zu treffen.\n",
    "\n",
    "Mit **Vergleichsoperatoren** kannst du überprüfen, wie zwei Werte zueinander stehen. Die häufigsten Vergleichsoperatoren in Python sind:\n",
    "\n",
    "- `>` (größer als)\n",
    "- `<` (kleiner als)\n",
    "- `>=` (größer oder gleich)\n",
    "- `<=` (kleiner oder gleich)\n",
    "- `==` (gleich)\n",
    "- `!=` (ungleich)\n",
    "\n",
    "#### Beispiel:\n",
    "Stell dir vor, wir möchten prüfen, ob es draußen so kalt ist, dass eine Jacke notwendig ist:\n",
    "- **Frage:** Ist die Temperatur unter 15 Grad?\n",
    "- **Antwort:** Das wird mit dem Vergleich `temperatur < 15` geprüft.\n",
    "\n",
    "#### Aufgabe:\n",
    "Schreibe ein Programm, das die Nutzer:in fragt, wie viel Grad es draußen hat, und eine passende Nachricht ausgibt:\n",
    "\n",
    "1. Wenn die Temperatur unter 15 Grad liegt, soll das Programm ausgeben: `\"Es ist kalt, zieh eine Jacke an!\"`.\n",
    "2. Andernfalls soll es ausgeben: `\"Es ist warm genug, du brauchst keine Jacke.\"`.\n",
    "\n",
    "#### Bonus:\n",
    "Füge eine Eingabeaufforderung hinzu, damit die Nutzer:in selbst die Temperatur eingeben kann.\n",
    "\n",
    "#### Beispiel für die Ausgabe:\n",
    "```plaintext\n",
    "Wie viel Grad hat es draußen? 10\n",
    "Es ist kalt, zieh eine Jacke an!\n"
   ]
  },
  {
   "cell_type": "code",
   "execution_count": null,
   "id": "7a4070ab",
   "metadata": {},
   "outputs": [],
   "source": [
    "# TODO: Zunächst müssen wir eine Variable definieren, um dem Programm mitzuteilen, wie warm es gerade draußen ist.\n",
    "# Tipp: Du kannst die Temperatur direkt setzen oder die Nutzer:in fragen, sie einzugeben.\n",
    "\n",
    "# TODO: Als nächstes müssen wir anhand der Temperatur entscheiden, ob eine Jacke benötigt wird. \n",
    "# Ersetze dazu \"_\" mit der entsprechenden Bedingung.\n",
    "\n",
    "if _:  # Ersetze \"_\" mit der richtigen Bedingung, z. B. \"temperatur < 15\"\n",
    "    print(\"Bitte trage hier eine Nachricht an den Nutzer ein...\")  # Passe die Nachricht an\n",
    "else:\n",
    "    print(\"Bitte trage hier eine Nachricht an den Nutzer ein...\")  # Passe die Nachricht an\n"
   ]
  },
  {
   "cell_type": "markdown",
   "id": "90ed9bc29ead71b4",
   "metadata": {},
   "source": [
    "### Schleifen\n",
    "\n",
    "In Python verwenden wir **Schleifen**, um Code mehrfach auszuführen. Die beiden wichtigsten Arten von Schleifen sind:\n",
    "\n",
    "- **`for`-Schleifen**: Diese werden verwendet, wenn die Anzahl der Wiederholungen bekannt ist oder wenn wir über eine Sequenz (z. B. eine Liste, ein oder einen String) iterieren möchten.\n",
    "\n",
    "- **`while`-Schleifen**: Diese sind flexibler und werden eingesetzt, wenn die Anzahl der Wiederholungen nicht vorab festgelegt ist. Stattdessen werden sie so lange ausgeführt, wie eine Bedingung erfüllt ist.\n",
    "\n",
    "\n",
    "\n",
    "Ein Beispiel aus dem Alltag:\n",
    "- **`for`-Schleife:** Ich möchte alle 10 Bücher im Regal durchgehen und die Titel notieren.\n",
    "- **`while`-Schleife:** Ich möchte Bücher durchgehen, bis ich eines finde, das ich lesen möchte (und ich weiß nicht vorher, wie viele ich durchsehen muss).\n",
    "\n",
    "#### Beispiel: Zahlen von 1 bis 5 ausgeben\n",
    "Eine Aufgabe wie \"Gib die Zahlen von 1 bis 5 aus\" eignet sich hervorragend für eine `for`-Schleife, da wir die Anzahl der Wiederholungen bereits kennen:"
   ]
  },
  {
   "cell_type": "code",
   "execution_count": null,
   "id": "d9e23d4e21885407",
   "metadata": {},
   "outputs": [],
   "source": [
    "# Zahlen von 1 bis 5 ausgeben\n",
    "\n",
    "zahlen = [1, 2, 3, 4, 5]\n",
    "\n",
    "for i in zahlen:\n",
    "    print(\"Zahl: \" + i)"
   ]
  },
  {
   "cell_type": "markdown",
   "id": "75a992efdf4de25b",
   "metadata": {},
   "source": [
    "#### Szenario: Dynamische Wiederholungen\n",
    "\n",
    "Was aber, wenn wir **nicht wissen, wie oft wir etwas wiederholen müssen**? Stellen wir uns folgende Situationen vor:\n",
    "\n",
    "- **Wir spielen ein Spiel**, das so lange läuft, bis wir gewinnen oder verlieren.\n",
    "- **Wir suchen nach einer bestimmten Bedingung**, die erfüllt werden muss, bevor die Schleife endet (z. B. ein Passwort wird korrekt eingegeben).\n",
    "\n",
    "In solchen Fällen stoßen **`for`-Schleifen** an ihre Grenzen, da sie eine feste Anzahl von Iterationen erwarten. Stattdessen benötigen wir eine **`while`-Schleife**, die basierend auf einer Bedingung gesteuert wird.\n",
    "\n",
    "#### Beispiel: Wiederholung basierend auf Benutzereingabe\n",
    "\n",
    "In diesem Beispiel wird eine `while`-Schleife verwendet, um den Benutzer so lange nach einer Eingabe zu fragen, bis er eine bestimmte Antwort gibt (in diesem Fall \"ja\")."
   ]
  },
  {
   "cell_type": "code",
   "execution_count": null,
   "id": "2d336ce143b86ee7",
   "metadata": {},
   "outputs": [],
   "source": [
    "# Wiederhole das Programm, bis der Benutzer \"nein\" eingibt\n",
    "\n",
    "antwort = \"\"\n",
    "while antwort != \"nein\":\n",
    "    antwort = input(\"Möchtest du weitermachen? (ja/nein): \")\n",
    "print(\"Du hast 'nein' eingegeben. Das Programm endet.\")"
   ]
  },
  {
   "cell_type": "markdown",
   "id": "ba7bc5385708c5e2",
   "metadata": {},
   "source": [
    "#### Verwendung von `break` und `continue`\n",
    "\n",
    "In Python sind die Schlüsselwörter **`break`** und **`continue`** nützlich, um den Ablauf einer Schleife zu beeinflussen:\n",
    "\n",
    "- **`break`**: Beendet die Schleife sofort, unabhängig von der Bedingung. Es wird häufig verwendet, wenn eine bestimmte Situation eintritt, die das Ende der Schleife erfordert.\n",
    "\n",
    "- **`continue`**: Überspringt den aktuellen Schleifendurchlauf und fährt mit dem nächsten Durchlauf fort. Es wird verwendet, um eine Bedingung zu überprüfen und nur dann weiterzumachen, wenn diese erfüllt ist.\n",
    "\n",
    "\n",
    "#### Beispiel: Nur ungerade Zahlen ausgeben mit `continue`\n",
    "\n",
    "In diesem Beispiel wollen wir nur die ungeraden Zahlen in einer Liste ausgeben. Wenn die Zahl gerade ist, überspringen wir den aktuellen Schleifendurchlauf mit `continue`."
   ]
  },
  {
   "cell_type": "code",
   "execution_count": null,
   "id": "8e8d182542fb4367",
   "metadata": {},
   "outputs": [],
   "source": [
    "# Nur ungerade Zahlen ausgeben\n",
    "\n",
    "zahlen = [1, 2, 3, 4, 5, 6, 7, 8, 9, 10]\n",
    "\n",
    "for zahl in zahlen:\n",
    "    if zahl % 2 == 0:\n",
    "        continue  # Überspringe den Rest des Schleifendurchlaufs\n",
    "    print(zahl)"
   ]
  },
  {
   "cell_type": "markdown",
   "id": "6f376cf6af3eeacd",
   "metadata": {},
   "source": [
    "#### Beispiel: Nur das erste Vorkommen eines Buchstabens finden mit `break`\n",
    "\n",
    "In diesem Beispiel wollen wir das erste Vorkommen des Buchstabens \"e\" in einem Wort finden, das zwei \"e\"s enthält. Sobald wir den ersten Buchstaben \"e\" gefunden haben, beenden wir die Schleife mit `break`."
   ]
  },
  {
   "cell_type": "code",
   "execution_count": null,
   "id": "531ff84cc0a6f54e",
   "metadata": {},
   "outputs": [],
   "source": [
    "# Erster Buchstabe \"e\" im Wort finden\n",
    "\n",
    "wort = \"Beispiel\"\n",
    "index = 0\n",
    "\n",
    "for buchstabe in wort:\n",
    "    if buchstabe == \"e\":\n",
    "        print(\"Der erste Buchstabe 'e' wurde an der Position\" + index + \"gefunden.\")\n",
    "        break  # Schleife sofort beenden\n",
    "    index += 1"
   ]
  }
 ],
 "metadata": {
  "kernelspec": {
   "display_name": "Python 3",
   "language": "python",
   "name": "python3"
  },
  "language_info": {
   "codemirror_mode": {
    "name": "ipython",
    "version": 3
   },
   "file_extension": ".py",
   "mimetype": "text/x-python",
   "name": "python",
   "nbconvert_exporter": "python",
   "pygments_lexer": "ipython3",
   "version": "3.9.6"
  }
 },
 "nbformat": 4,
 "nbformat_minor": 5
}
