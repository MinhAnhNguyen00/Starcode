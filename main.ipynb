{
 "cells": [
  {
   "cell_type": "markdown",
   "id": "8c21302bfd284b07",
   "metadata": {},
   "source": [
    "<table width=\"100%\" style=\" padding: 15px; border-radius: 5px;\">\n",
    "  <tr>\n",
    "    <td align=\"left\" style=\"font-size: 80px; font-weight: bold; font-family: 'Courier New', monospace;\">CODE&PLAY</td>\n",
    "    <td align=\"right\">\n",
    "      <img src=\"msc/img/starcode.png\" alt=\"Starcode Logo\" style=\"height: 150px;\">\n",
    "    </td>\n",
    "  </tr>\n",
    "</table>\n",
    "\n",
    "<hr style=\"border: 1.5px solid black; margin-top: -20px;\">\n",
    "\n",
    "<p style=\"font-size: 20px; color: gray; font-weight: bold; text-align: center;\">\n",
    " 🚀 Programmierkurs für Schülerinnen – Frauen für IT begeistern und stärken!\n",
    "</p>"
   ]
  },
  {
   "metadata": {},
   "cell_type": "markdown",
   "source": "## Was ist ein Programm? (15min)",
   "id": "7dcf919146fc4c08"
  },
  {
   "metadata": {},
   "cell_type": "markdown",
   "source": [
    "\n",
    "<div style=\"background-color: #F5E1A4; padding: 10px; border-radius: 5px; overflow: hidden; border: 2px solid #8B6F47;\">\n",
    "    <img src=\"msc/img/gesamtes_flussdiagramm.jpg\" style=\"width:400px; margin: 20px; float: right\"/>\n",
    "    Im Folgenden erarbeiten wir zusammen die <b>Grundlagen des Programmierens</b> mit der Programmiersprache Python.<br>\n",
    "    Anhand von <b>Erklärungen, Beispielen und Aufgaben</b> programmieren wir gemeinsam ein <b>Hangman-Spiel</b>. Dazu wollen wir erstmal verstehen, was <b>ein Programm eigentlich ist.</b><br>\n",
    "    <br>\n",
    "    <b>Ein Programm ist eine Menge von hintereinander ausgeführten Anweisungen.</b>\n",
    "    Das mag sich jetzt etwas abstrakt anhören, aber tatsächlich kennt ihr Programme schon aus eurem Alltag.<br>\n",
    "    <b>Anleitungen zum Aufbauen von Möbelstücken</b> oder <b>Kochrezepte</b> kann man sich als Programme vorstellen.<br>\n",
    "    <img src=\"msc/img/Bauanleitung_Vogelhaus.jpg\" style=\"width:200px; margin: 20px\" />\n",
    "    <img src=\"msc/img/Kochrezept.jpg\" style=\"width:200px; margin: 20px\"/>\n",
    "    <br>\n",
    "    Im Unterschied dazu beinhalten Programme in Computern <b>Code-Anweisungen</b>, die <b>vom Computer ausgeführt werden</b>. \n",
    "    Hier ein sehr einfaches erstes Programm:\n",
    "</div>\n",
    "\n",
    "\n"
   ],
   "id": "40f1d09cd996d410"
  },
  {
   "metadata": {},
   "cell_type": "code",
   "outputs": [],
   "execution_count": null,
   "source": "print(\"Hello World!\")",
   "id": "fad81a6bf7bb4410"
  },
  {
   "metadata": {},
   "cell_type": "markdown",
   "source": [
    "<div style=\"background-color: #F5E1A4; padding: 10px; border-radius: 5px; overflow: hidden; border: 2px solid #8B6F47;\">\n",
    "    Du kannst das Programm gerne zum <b>Ausführen bringen</b>, um zu sehen, was es macht. \n",
    "Klick dafür auf die folgende Zelle mit dem Code und tippe dann gleichzeitig <b>SHIFT + ENTER</b> (⇧ + ↵ ).<br>\n",
    "    <img src=\"msc/img/Tastatur_Farbig.jpg\" style=\"width:200px; margin: 20px\"/><br>\n",
    "    <b>Unter der Zelle</b> ist der folgende Ausdruck erschienen:\n",
    "</div>\n",
    "\n",
    "```python\n",
    "    Hello World!\n",
    "```\n",
    "\n",
    "<div style=\"background-color: #F5E1A4; padding: 10px; border-radius: 5px; overflow: hidden; border: 2px solid #8B6F47;\">\n",
    "Das 'Hello World' nennen wir <b>Ausgabe</b>. Der Bereich unter der Code-Zelle heißt <b>Konsole</b>.\n",
    "</div>"
   ],
   "id": "66cecbf63fb4226c"
  },
  {
   "metadata": {},
   "cell_type": "markdown",
   "source": "## Der `print`-Befehl (10min)",
   "id": "c54ed746132de59d"
  },
  {
   "metadata": {},
   "cell_type": "markdown",
   "source": [
    "<div style=\"background-color: #F5E1A4; padding: 10px; border-radius: 5px; overflow: hidden; border: 2px solid #8B6F47;\">\n",
    "    Wir wollen uns nun den <b>print</b> Befehl genauer anschauen.<br> \n",
    "    Wie oben gesehen, gibt dieser Befehl den Text, den wir in Klammern eingeben, in der Konsole zurück. <br>\n",
    "    Beachte hier, dass Text (sogenannte <b>strings</b>) in Python in Anführungsstrichen geschrieben werden muss. \n",
    "</div>"
   ],
   "id": "20c654789902a8d1"
  },
  {
   "metadata": {},
   "cell_type": "code",
   "outputs": [],
   "execution_count": null,
   "source": [
    "#Hier ein einfacher print-Befehl\n",
    "print('Hallo')\n",
    "\n",
    "# Wir könnnen übrigens verschiedene Textbausteine, also strings auch mit einem + ganz einfach verbinden:\n",
    "print('Hallo'+'World')"
   ],
   "id": "4acbed0ff5896a6a"
  },
  {
   "metadata": {},
   "cell_type": "markdown",
   "source": [
    "<div style=\"background-color: #F5E1A4; padding: 10px; border-radius: 5px; overflow: hidden; border: 2px solid #8B6F47; margin-bottom: 10px;\">\n",
    "    Beachte, dass hier das Leerzeichen fehlt. <br> Du kannst es am Ende von 'Hallo' oder am Anfang von 'World' einfügen und schauen, ob dann die richtige Ausgabe in der Konsole erscheint. <br> \n",
    "    Nachdem du etwas geändert hast, musst du den Code erneut ausführen, also <b>SHIFT + ENTER** (⇧ + ↵ )</b> drücken. <br>\n",
    "    Natürlich können wir auch wie oben, einfach einen ganzen Satz in Anführungszeichen schreiben. Aber die Methode zwei Strings mit einem + zu verbinden wird später noch nützlich sein.\n",
    "</div>\n",
    "<div style=\"background-color: #D6E9C6; padding: 10px; border-radius: 5px; overflow: hidden; border: 2px solid #4A7C59; margin-bottom: 10px;\">\n",
    "    <img src=\"msc/img/Starte_hangman1.png\" style=\"width:200px; margin: 20px; float: right\"/>\n",
    "    <b>KONTEXT:</b> Wenn das Spiel beginnt, wollen wir in der Konsole eine Begrüßung ausgeben. Aus dieser soll hervorgehen, dass es sich hier um ein Hangman-Spiel handelt. Es können auch kurz und knapp die Spielregeln erklärt werden. <br>\n",
    "</div>\n",
    "<div style=\"background-color: #D1ECF1; padding: 10px; border-radius: 5px; overflow: hidden; border: 2px solid #2A6173;\">\n",
    "    <b>Aufgabe:</b> Überlege dir eine Begrüßung für das Hangman Spiel und benutze den <b>print</b> Befehl um diese in der Konsole ausgeben zu lassen. \n",
    "\n",
    "</div>\n"
   ],
   "id": "ac9a032e114518ee"
  },
  {
   "metadata": {},
   "cell_type": "code",
   "outputs": [],
   "execution_count": null,
   "source": [
    "# Hier kannst du die Begrüßung für das Spiel schreiben\n",
    "\n"
   ],
   "id": "491523b65207364b"
  },
  {
   "metadata": {},
   "cell_type": "markdown",
   "source": "## Kommentare (5min)",
   "id": "d0a660cf401eab63"
  },
  {
   "metadata": {},
   "cell_type": "markdown",
   "source": [
    "<div style=\"background-color: #F5E1A4; padding: 10px; border-radius: 5px; overflow: hidden; border: 2px solid #8B6F47;\">\n",
    "    Sicherlich sind dir im vorherigen Code-Schnipsel die <b>grünen Ausdrücke mit vorangegangenen #</b> aufgefallen.<br>\n",
    "Dabei handelt es sich um <b>Kommentare</b>, die <b>nicht vom Computer als Anweisung verstanden</b> werden. Sie werden also vom Computer ignoriert und <b>dienen der Leserin als ergänzende Info</b>.\n",
    "</div>\n"
   ],
   "id": "8741930730618233"
  },
  {
   "metadata": {},
   "cell_type": "code",
   "outputs": [],
   "execution_count": null,
   "source": [
    "# Dies ist ein Kommentar.\n",
    "# x=5 \n",
    "# Dies wird ignoriert, das heißt der Computer kennt x nicht. Folgendes führt also zu einem Fehler:\n",
    "print(x)"
   ],
   "id": "ea2e41d97d27dccc"
  },
  {
   "metadata": {},
   "cell_type": "markdown",
   "source": "## Variablen (10min)\n",
   "id": "5002d8041fa91e86"
  },
  {
   "metadata": {},
   "cell_type": "markdown",
   "source": [
    "<div style=\"background-color: #F5E1A4; padding: 10px; border-radius: 5px; overflow: hidden; border: 2px solid #8B6F47;\">\n",
    "    In <b>Variablen</b> können wir Werte abspeichern. <br> \n",
    "    Du kennst höchstwahrscheinlich schon Variablen aus der Mathematik oder Physik, in denen Zahlen gespeichert sind. <br> \n",
    "    In Python können <b>Werte</b> Zahlen, Strings (Text) oder sogenannte Booleans sein. Ein <b>Boolean</b> ist ein Wahrheitswert. Er kann einer der beiden Werte <b>True</b> (wahr) oder <b>False</b> (falsch) sein.\n",
    "\n",
    "Hier ein paar Beispiele:\n",
    "</div>\n"
   ],
   "id": "823cf0993cdd55b7"
  },
  {
   "metadata": {},
   "cell_type": "code",
   "outputs": [],
   "execution_count": null,
   "source": [
    "a = 7\n",
    "b = 9\n",
    "string = 'Text'\n",
    "c = True"
   ],
   "id": "d86a370b9ecf92ac"
  },
  {
   "metadata": {},
   "cell_type": "markdown",
   "source": [
    "<div style=\"background-color: #F5E1A4; padding: 10px; border-radius: 5px; overflow: hidden; border: 2px solid #8B6F47;\">\n",
    "    Und jetzt kannst du die Werte der Variablen weiterverwenden und zum Beispiel mit dem <b>print</b>-Befehl ausgeben lassen.\n",
    "</div>"
   ],
   "id": "25830fae8db1745d"
  },
  {
   "metadata": {},
   "cell_type": "code",
   "outputs": [],
   "execution_count": null,
   "source": [
    "print(string)\n",
    "print(a+b)"
   ],
   "id": "71d2c36ebc5c3959"
  },
  {
   "metadata": {},
   "cell_type": "markdown",
   "source": [
    "<div style=\"background-color: #D1ECF1; padding: 10px; border-radius: 5px; overflow: hidden; border: 2px solid #2A6173;\">\n",
    "    <b>Aufgabe:</b> Probiere selber aus Variablen zu definieren und auszugeben. \n",
    "</div>"
   ],
   "id": "e82ba1d3004121cc"
  },
  {
   "metadata": {},
   "cell_type": "code",
   "outputs": [],
   "execution_count": null,
   "source": [
    "# Hier hast du selber Platz zum Ausprobieren. Du kannst natürlich auch die Zellen oben verwenden.\n",
    "\n"
   ],
   "id": "19ac176385799260"
  },
  {
   "metadata": {},
   "cell_type": "markdown",
   "source": "## Zusatz (Datentypen)",
   "id": "603b530e21166e00"
  },
  {
   "metadata": {},
   "cell_type": "markdown",
   "source": [
    "\n",
    "Die folgende Tabelle gibt einen Einsteiger-Überblick zu Datentypen. \n",
    "\n",
    "| Datentyp | Wertebereich | Beispiel |\n",
    "|----------|----------|----------|\n",
    "| `int` | Ganze Zahlen | `11` |\n",
    "| `float` | Reelle Zahlen | `3.14` |\n",
    "| `str` | Zeichenfolgen | `\"Katze\"`, `\"starcode*\"` |\n",
    "| `boolean` | `True`, `False` | `True` |\n",
    "\n",
    "Tatsächlich gibt es zwei Unterarten von Zahlen und zwar `int` und `float`. Dies kann für gewisse Operationen, wie die Division, wichtig sein. (Darauf werden wir hier nicht eingehen.)"
   ],
   "id": "752d1bd8d4626bcc"
  },
  {
   "metadata": {},
   "cell_type": "markdown",
   "source": "## `Input` (15min)",
   "id": "dd034476a9023985"
  },
  {
   "metadata": {},
   "cell_type": "markdown",
   "source": [
    "<div style=\"background-color: #D6E9C6; padding: 10px; border-radius: 5px; overflow: hidden; border: 2px solid #4A7C59; margin-bottom: 10px;\">\n",
    "    <img src=\"msc/img/Rate_buchstaben1.png\" style=\"width:200px; margin: 20px; float: right\"/>\n",
    "    <b>KONTEXT:</b> Für das Galgenmännchenspiel müssen wir der Spielerin die Möglichkeit geben Buchstaben zu raten. <br>\n",
    "    Hierzu soll jeweils ein Buchstabe eingegeben werden, der dann von unserem Programm geprüft wird.\n",
    "</div>\n",
    "<div style=\"background-color: #F5E1A4; padding: 10px; border-radius: 5px; overflow: hidden; border: 2px solid #8B6F47;\">\n",
    "    Hierzu verwenden wir die Funktion <b>input()</b> von Python. <br> Sie erlaubt uns Text oder andere Eingaben, den wir in die Kommandozeile tippen zu speichern und damit weiter zu arbeiten. Zum besseren Verständnis hier erstmal ein Beispiel.\n",
    "</div>"
   ],
   "id": "de57b33d08b8c520"
  },
  {
   "metadata": {},
   "cell_type": "code",
   "outputs": [],
   "execution_count": null,
   "source": [
    "# Der Befehl Input lässt ein Textfeld erscheinen, in den die Benutzerin etwas eingeben kann\n",
    "input('Bitte ein Wort eingeben')"
   ],
   "id": "f0dbac4d8f0c832a"
  },
  {
   "metadata": {},
   "cell_type": "markdown",
   "source": [
    "<div style=\"background-color: #F5E1A4; padding: 10px; border-radius: 5px; overflow: hidden; border: 2px solid #8B6F47;\">\n",
    "    Wir können also in die Klammern des <b>input()</b> Befehls eine Anweisung schreiben, die dann vor dem Textfeld erscheint. <br> \n",
    "    Beachte, dass Strings, wie immer in Python in Anführungsstrichen geschrieben werden müssen. <br> \n",
    "    Um den eingegebenen Wert zu verarbeiten können wir uns die Eingabe als Variable speichern.\n",
    "</div>"
   ],
   "id": "9307cfdbd2a2a85a"
  },
  {
   "metadata": {},
   "cell_type": "code",
   "outputs": [],
   "execution_count": null,
   "source": [
    "#Wir speichern die Eingabe unter der Variable name. Somit können wir später wieder darauf zugreifen und der eingegebene Wert geht nicht verloren.\n",
    "name = input('Bitte gib deinen Namen ein.')"
   ],
   "id": "e12d95572f254f57"
  },
  {
   "metadata": {},
   "cell_type": "markdown",
   "source": [
    "<div style=\"background-color: #F5E1A4; padding: 10px; border-radius: 5px; overflow: hidden; border: 2px solid #8B6F47;\">\n",
    "    Nun können wir den eingegebenen Namen wieder aufrufen. Zum Beispiel mit dem <b>print()</b>-Befehl von oben:\n",
    "</div>\n"
   ],
   "id": "a0c89591b6989c00"
  },
  {
   "metadata": {},
   "cell_type": "code",
   "outputs": [],
   "execution_count": null,
   "source": [
    "# Hier verbinden wir nun verschiedene Strings mit einem +, wie oben gelernt.\n",
    "print('Dein Name ist '+ name +'.')"
   ],
   "id": "512542e9287a397f"
  },
  {
   "metadata": {},
   "cell_type": "markdown",
   "source": [
    "<div style=\"background-color: #D1ECF1; padding: 10px; border-radius: 5px; overflow: hidden; border: 2px solid #2A6173;\">\n",
    "    <b>Aufgabe:</b> Versuche nun selber ein Inputfeld zu erstellen, was eine personalisierte Begrüßung für das Spiel erstellt. Du kannst die Begrüßung von oben gerne kopieren und erweitern.\n",
    "</div>\n",
    "\n"
   ],
   "id": "a6704b7a637bc3b0"
  },
  {
   "metadata": {},
   "cell_type": "code",
   "outputs": [],
   "execution_count": null,
   "source": [
    "# TODO Nimm zunächst die Eingabe der Nutzerin entgegen. Nutze dazu, was wir oben gelernt haben.\n",
    "# Speicher die Eingabe gleich unter einem sinnvollen Variablennamen.\n",
    "\n",
    "\n",
    "# TODO Nun begrüße die Person mit ihrem Namen zum Hangman Spiel."
   ],
   "id": "9a41dd215c4dc827"
  },
  {
   "metadata": {},
   "cell_type": "markdown",
   "source": "## Funktionen (45min)",
   "id": "520e2e8fddee976b"
  },
  {
   "metadata": {},
   "cell_type": "markdown",
   "source": [
    "<div style=\"background-color: #F5E1A4; padding: 10px; border-radius: 5px; overflow: hidden; border: 2px solid #8B6F47;\">\n",
    "    Eine <b>Funktion</b> ist ein Baustein, der eine bestimmte Aufgabe erfüllt. <br>\n",
    "    Man kann sie immer wieder aufrufen und an verschiedenen Stellen verwenden. Eine Funktion hat bestimmte Bestandteile, die wir immer verwenden müssen. <br>\n",
    "    Wir können uns das Prinzip einer Funktion, wie in der Mathematik vorstellen. Die Funktion bekommt dabei eine Eingabe (Input) und verarbeitet diese. Am Ende gibt sie ein Ergebnis (Output) zurück. <br>\n",
    "    Hier erstmal ein Beispiel. Du musst noch nicht genau verstehen, was hier passiert. Der Name verrät aber schon die Aufgabe \n",
    "</div>\n",
    "\n"
   ],
   "id": "65d8b1eea71d0826"
  },
  {
   "metadata": {},
   "cell_type": "code",
   "outputs": [],
   "execution_count": null,
   "source": [
    "def addition(zahl1, zahl2):\n",
    "        ergebnis=zahl1+zahl2\n",
    "        return ergebnis"
   ],
   "id": "7a34103470d498fe"
  },
  {
   "metadata": {},
   "cell_type": "markdown",
   "source": [
    "<div style=\"background-color: #F5E1A4; padding: 10px; border-radius: 5px; overflow: hidden; border: 2px solid #8B6F47;\">\n",
    "    In der folgenden Grafik sind die Elemente einer Funktion einmal benannt und erklärt:\n",
    "    <img src=\"msc/img/Erklärung_Funktionen.png\" style=\"width:800px; margin: 20px\"/> <br>\n",
    "    Hier ein paar Beispiele für Funktionsnamen und die sinnvolle Benennung der Input-Variablen:\n",
    "</div>"
   ],
   "id": "ea1666e0bf0282c4"
  },
  {
   "metadata": {},
   "cell_type": "markdown",
   "source": [
    "\n",
    "```python\n",
    "def Wetter_morgen(Wetterdaten):\n",
    "\n",
    "def Gewicht(Körpergröße, Alter):\n",
    "\n",
    "def Reisezeit(Standort, Zielort):\n",
    "```"
   ],
   "id": "d33f9f8c0c5f21bb"
  },
  {
   "metadata": {},
   "cell_type": "markdown",
   "source": [
    "<div style=\"background-color: #F5E1A4; padding: 10px; border-radius: 5px; overflow: hidden; border: 2px solid #8B6F47;\">\n",
    "    Wir sehen also, dass die Namen der Funktionen und deren Input, also die Werte in Klammern, genau aussagen, was dahintersteckt. <br>\n",
    "    Die erste Funktion würde zum Beispiel anhand der Wetterdaten (dem Input) das Wetter vorhersagen. <br> Dagegen kann man von einer Funktion, die wie folgt aussieht\n",
    "</div>\n"
   ],
   "id": "839f6ff248bba2cb"
  },
  {
   "metadata": {},
   "cell_type": "markdown",
   "source": [
    "```python\n",
    "    def Funktion1(x):\n",
    "```"
   ],
   "id": "7c0639dd672a26df"
  },
  {
   "metadata": {},
   "cell_type": "markdown",
   "source": [
    "<div style=\"background-color: #F5E1A4; padding: 10px; border-radius: 5px; overflow: hidden; border: 2px solid #8B6F47;\">\n",
    "    nicht ablesen, was diese tut. Genau, wie wir oben Variablen immer sinnvoll und aussagekräftig benannt haben, tun wir das auch mit Funktionen. <br>\n",
    "    Nun wollen wir die Funktion einmal ausprobieren. Dazu schreiben wir den Namen der Funktion hin, mit den jeweiligen Werten als Input, die wir ausprobieren wollen.\n",
    "</div>\n"
   ],
   "id": "453dbd2f766bfcf6"
  },
  {
   "metadata": {},
   "cell_type": "code",
   "outputs": [],
   "execution_count": null,
   "source": [
    "# Hier testen wir die Funktion, jeweils an die Stelle der oben definierten Variablen kommen unsere Eingabewerte in der richtigen Reihenfolge.\n",
    "addition(9, 8)"
   ],
   "id": "bb0c9f63e3b3734b"
  },
  {
   "metadata": {},
   "cell_type": "markdown",
   "source": [
    "<div style=\"background-color: #F5E1A4; padding: 10px; border-radius: 5px; overflow: hidden; border: 2px solid #8B6F47;\">\n",
    "    Nicht jede Funktion muss einen <b>Input</b> oder <b>Output</b> haben. <br>\n",
    "    Das heißt die Klammern in der ersten Zeile können auch leer bleiben, wenn es keinen Input gibt. <br> \n",
    "    Ebenso können wir die Zeile mit dem `return` weglassen, wenn es keinen Output gibt. Es folgen nun Beispiele für alle möglichen Fälle die dabei auftreten können.\n",
    "</div>\n",
    "\n"
   ],
   "id": "63221b6de0e5596c"
  },
  {
   "metadata": {},
   "cell_type": "markdown",
   "source": "### Input und Output",
   "id": "da3027a360d00914"
  },
  {
   "metadata": {},
   "cell_type": "markdown",
   "source": "<img src=\"msc/img/Input_Output.png\" style=\"width:800px; margin: 20px\"/>",
   "id": "5e462b8cbe3846d7"
  },
  {
   "metadata": {},
   "cell_type": "code",
   "outputs": [],
   "execution_count": null,
   "source": [
    "# Hier sehen wir die dazugehörige Funktion\n",
    "def multiplikation(zahl1, zahl2):\n",
    "    return zahl1* zahl2\n",
    "\n",
    "#Hier testen wir die Funktion:\n",
    "print(multiplikation(3,7))"
   ],
   "id": "cbefa8b4cc391235"
  },
  {
   "metadata": {},
   "cell_type": "markdown",
   "source": "### nur Output",
   "id": "e978c46a5e712220"
  },
  {
   "metadata": {},
   "cell_type": "markdown",
   "source": "<img src=\"msc/img/Output.png\" style=\"width:800px; margin: 20px\"/>",
   "id": "3648aeec7598df23"
  },
  {
   "metadata": {},
   "cell_type": "code",
   "outputs": [],
   "execution_count": null,
   "source": [
    "#Diese Funktion hat keinen Input und gibt als Output immer den Wert True\n",
    "def immer_wahr():\n",
    "    return True\n",
    "\n",
    "# Wir testen die Funktion wieder:\n",
    "print(immer_wahr())"
   ],
   "id": "52217ba49db39feb"
  },
  {
   "metadata": {},
   "cell_type": "markdown",
   "source": "### nur Input",
   "id": "8dddd92e28b35339"
  },
  {
   "metadata": {},
   "cell_type": "markdown",
   "source": "<img src=\"msc/img/Input.png\" style=\"width:800px; margin: 20px\"/>",
   "id": "6fd5ca970e441372"
  },
  {
   "metadata": {},
   "cell_type": "code",
   "outputs": [],
   "execution_count": null,
   "source": [
    "# Diese Funktion bekommt als Input zwei Strings, jedoch keinen Output.\n",
    "# Beachte, dass die Funktion zwar mit dem print-Befehl Werte in der Konsole ausgibt, dies jedoch kein Output der Funktion ist.\n",
    "# Für einen Output müssten wir das Schlüsselwort return verwenden.\n",
    "def verabschieden(name):\n",
    "    print('Auf Wiedersehen ' + name + '!')\n",
    "\n",
    "# Wir testen die Funktion\n",
    "verabschieden('Weihnachtsmann')"
   ],
   "id": "cd5b6890dec66718"
  },
  {
   "metadata": {},
   "cell_type": "markdown",
   "source": "### weder Input noch Output\n",
   "id": "d655d4fb66b262a3"
  },
  {
   "metadata": {},
   "cell_type": "markdown",
   "source": "<img src=\"msc/img/nix.png\" style=\"width:800px; margin: 20px\"/>",
   "id": "a320a40347e6b2ef"
  },
  {
   "metadata": {},
   "cell_type": "code",
   "outputs": [],
   "execution_count": null,
   "source": [
    "# Hier die einfachste Funktion überhaupt, die wir ganz am Anfang schon kennengelernt haben. Sie hat weder Input, noch Output\n",
    "def hello_world():\n",
    "    print('Hello world!')\n",
    "\n",
    "# Führen wir die Funktion also einmal aus:\n",
    "hello_world()"
   ],
   "id": "2dbfa5c664dba9c2"
  },
  {
   "metadata": {},
   "cell_type": "markdown",
   "source": [
    "<div style=\"background-color: #D6E9C6; padding: 10px; border-radius: 5px; overflow: hidden; border: 2px solid #4A7C59; margin-bottom: 10px;\">\n",
    "    <b>KONTEXT:</b> Wie oben bereits erwähnt, sind Funktionen, wie Werkzeuge, die wir immer wieder an verschiedenen Stellen verwenden können. Unser Hangman-Spiel wollen wir aus einer Reihe von Funktionen zusammenbauen, die jeweils eine einzelne kleine Aufgabe erfüllen. Wir haben uns bereits erarbeitet, wie die Spielerin im Spiel begrüßt wird und wie sie Buchstaben raten kann, indem sie diese mithilfe des <b>input</b>-Befehls eingibt. Diese Funktionalitäten und auch alles weitere, was wir für das Spiel noch brauchen, wollen wir in einzelne Funktionen 'verpacken'. Erst ganz am Ende werden wir dann alles zusammenführen in einer übergreifenden Funktion, die nach und nach all unsere Funktionen aufruft. \n",
    "Damit das alles am Ende reibungslos funktioniert, haben wir die Namen für die Funktionen schon vorgegeben. <b>Ändere die Namen der Funktionen also bitte nicht!</b>\n",
    "</div>\n",
    "<div style=\"background-color: #D1ECF1; padding: 10px; border-radius: 5px; overflow: hidden; border: 2px solid #2A6173; margin-bottom: 10px;\">\n",
    "    <b>Aufgabe:</b> Schreibe folgende zwei Funktionen: <br>\n",
    "\n",
    "1. Eine Funktion, die von einer Zahl eins abzieht. Zum Beispiel soll für den Input 5 die Zahl 4 zurückgegeben werden.\n",
    "</div>\n",
    "<div style=\"background-color: #D6E9C6; padding: 10px; border-radius: 5px; overflow: hidden; border: 2px solid #4A7C59;\">\n",
    "        <img src=\"msc/img/Leben_verringern2.png\" style=\"width:200px; margin: 20px; float: right\"/>\n",
    "        <img src=\"msc/img/Leben_verringern1.png\" style=\"width:200px; margin: 20px; float: right\"/>\n",
    "    <b>KONTEXT:</b> Diese Funktion wollen wir später Verwenden, um von der Variable, unter der wir die Anzahl der 'Leben', also der Versuche gespeichert haben, eins abzuziehen. Natürlich nur, wenn falsch geraten wurde.\n",
    "</div>\n",
    "\n"
   ],
   "id": "485d8976a15e064a"
  },
  {
   "metadata": {},
   "cell_type": "code",
   "outputs": [],
   "execution_count": null,
   "source": [
    "# Hier haben wir den Namen bereits vorgegeben, da wir diese Funktion spöter nochmal verwenden wollen.\n",
    "# Ändere den Namen also bitte nicht!\n",
    "\n",
    "# TODO: schreibe den Inhalt der Funktion.\n",
    "\n",
    "def verringere_um_Eins(zahl):\n",
    "    #schreibe hier deine Funktion"
   ],
   "id": "4d2bd55bd3f8e2c0"
  },
  {
   "metadata": {},
   "cell_type": "markdown",
   "source": [
    "<div style=\"background-color: #F5E1A4; padding: 10px; border-radius: 5px; overflow: hidden; border: 2px solid #8B6F47;\">\n",
    "    Im folgenden Feld kannst du deine Funktion einmal ausführen. Denke daran vorher das Feld oben, in dem Du deine Funktion geschrieben hast mit <b>SHIFT +  ENTER</b> (⇧ + ↵ ) einmal zu speichern.\n",
    "</div>\n"
   ],
   "id": "608d20fc57d23999"
  },
  {
   "metadata": {},
   "cell_type": "code",
   "outputs": [],
   "execution_count": null,
   "source": "verringere_um_Eins(7)",
   "id": "d79e78c85664ee"
  },
  {
   "metadata": {},
   "cell_type": "markdown",
   "source": [
    "<div style=\"background-color: #D1ECF1; padding: 10px; border-radius: 5px; overflow: hidden; border: 2px solid #2A6173; margin-bottom: 10px;\">\n",
    "    2. Schreibe eine Funktion, die das Hangman Spiel eröffnet, indem du mit <b>print</b>-Befehlen eine Begrüßung ausgibst. Stell Dir vor das Spiel wird gestartet.\n",
    "Was soll die Spielerin dann sehen und lesen? Vielleicht kannst du die Begrüßung sogar personalisieren, indem du den Namen erfragst und mit Hilfe von <b>input</b> einbindest.\n",
    "</div>\n",
    "<div style=\"background-color: #D6E9C6; padding: 10px; border-radius: 5px; overflow: hidden; border: 2px solid #4A7C59;\">\n",
    "                <img src=\"msc/img/Starte_hangman3.png\" style=\"width:200px; margin: 20px; float: right\"/>\n",
    "            <img src=\"msc/img/Starte_hangman1.png\" style=\"width:200px; margin: 20px; float: right\"/>\n",
    "    <b>KONTEXT:</b> Begrüßung am Anfang des Spiels soll nun in eine Funktion verpackt werden. Alles Wissen dazu haben wir uns oben schon angeeignet.\n",
    "</div>\n",
    "\n",
    "\n"
   ],
   "id": "b70ecdc99abea58a"
  },
  {
   "metadata": {},
   "cell_type": "code",
   "outputs": [],
   "execution_count": null,
   "source": [
    "# TODO: Schreibe eine Funktion, die am Anfang des Spieles die Spielerin begrüßt\n",
    "# Merke: Diese Funktion braucht keinen Output.\n",
    "\n",
    "def kündige_Spieleröffnung_an():\n",
    "    # schreibe hier mit Hilfe von print-Befehlen deine Begrüßung"
   ],
   "id": "3e68b1d28826e56a"
  },
  {
   "metadata": {},
   "cell_type": "markdown",
   "source": [
    "<div style=\"background-color: #F5E1A4; padding: 10px; border-radius: 5px; overflow: hidden; border: 2px solid #8B6F47;\">\n",
    "    Wir wollen einmal testen, ob alles so läuft, wie Du es dir vorgestellt hast.\n",
    "</div>\n"
   ],
   "id": "e348bd81f3873197"
  },
  {
   "metadata": {},
   "cell_type": "code",
   "outputs": [],
   "execution_count": null,
   "source": "kündige_Spieleröffnung_an()",
   "id": "b3881f0fc8f66e2b"
  },
  {
   "metadata": {},
   "cell_type": "markdown",
   "source": [
    "## Zusatz (Funktionen)\n",
    "Zusatz: Eine Funktion, die als Input zwei Zahlen bekommt und deren Summe zurückgibt. Für 3 und 7 als Input soll sie also 10 zurückgeben.\n"
   ],
   "id": "d2dbb3b5f93eb85a"
  },
  {
   "metadata": {},
   "cell_type": "code",
   "outputs": [],
   "execution_count": null,
   "source": [
    "# TODO: Denke dir einen sinnvollen Namen aus für die Funktion, die zwei Werte multipliziert. Schaue gerne nochmal oben die Beispiele an.\n",
    "# TODO: Welche und wie viele Variablen soll die Funktion entgegennehmen? Wie willst du diese nennen?\n",
    "# TODO: Was ist die Ausgabe der Funktion und wie erhalten wir diese?\n",
    "\n",
    "\n",
    "### schreibe hier deine Funktion"
   ],
   "id": "d9a53d6fd20202e1"
  },
  {
   "metadata": {},
   "cell_type": "markdown",
   "source": "Auch diese Funktion wollen wir einmal testen.",
   "id": "7eb6cf87d0d2ed66"
  },
  {
   "metadata": {},
   "cell_type": "code",
   "outputs": [],
   "execution_count": null,
   "source": "# TODO: Teste hier deine Funktion. Schreibe dazu den Namen der Funktion mit konkreten Zahlen als Input hierhin.",
   "id": "4dbbbcc73c5b6756"
  },
  {
   "metadata": {},
   "cell_type": "markdown",
   "source": "## `if` und `else` (25min)",
   "id": "8b9175452459207a"
  },
  {
   "metadata": {},
   "cell_type": "markdown",
   "source": [
    "<div style=\"background-color: #D6E9C6; padding: 10px; border-radius: 5px; overflow: hidden; border: 2px solid #4A7C59; margin-bottom: 10px;\">\n",
    "    <img src=\"msc/img/Bewerte_buchstaben1.png\" style=\"width:400px; margin: 20px; float: right\"/>\n",
    "    <b>KONTEXT:</b> In unserem Programm müssen wir an verschiedenen Stellen Entscheidungen treffen. Zum Beispiel, muss nach jedem Zug geprüft werden, ob ein Buchstabe richtig geraten wurde. Oder ob wir noch Versuche übrig haben. Diese Entscheidungen basieren auf Bedingungen.\n",
    "</div>\n",
    "<div style=\"background-color: #F5E1A4; padding: 10px; border-radius: 5px; overflow: hidden; border: 2px solid #8B6F47;\">\n",
    "    In Python verwenden wir die Schlüsselwörter <b>if</b> und <b>else</b>, um solche Entscheidungen umzusetzen. Dabei prüfen wir eine Bedingung und führen abhängig von ihrem Ergebnis unterschiedliche Aktionen aus. Zum besseren Verständnis betrachten wir das ganze an Hand eines Beispiels.\n",
    "\n",
    "Wir können uns das Konzept in natürlicher Sprache so vorstellen:\n",
    "\n",
    "- **Wenn es regnet**, dann nehme ich einen Regenschirm.\n",
    "- **Wenn es nicht regnet**, dann brauche ich keinen Regenschirm.\n",
    "\n",
    "Wir können auch noch mehr Bedingungen auf einmal haben:\n",
    "\n",
    "- **Wenn es jetzt regnet**, dann nehme ich einen Regenschirm mit.\n",
    "- **Wenn es im Verlaufe des Tages zu regnen beginnen soll**, dann nehme ich einen Regenschirm mit.\n",
    "- **Wenn es nicht regnet und nicht regnen soll**, dann brauche ich keinen Regenschirm.\n",
    "\n",
    "Das folgende Beispiel zeigt, wie wir diese Logik in Python umsetzen können:\n",
    "</div>\n",
    "\n"
   ],
   "id": "32bfb6a0d48d6cf9"
  },
  {
   "metadata": {},
   "cell_type": "code",
   "outputs": [],
   "execution_count": null,
   "source": [
    "# Wir nehmen an, dass es gerade regnet, aber später trocken ist.\n",
    "# Du kannst die Werte der Variablen auch auf andere Booleans setzen, um zu testen, wie das Programm auf anderes Wetter reagiert.\n",
    "regen_jetzt = True\n",
    "regen_spaeter = False\n",
    "\n",
    "# Mit IF, ELIF und ELSE prüfen wir die Bedingung:\n",
    "# \"Wenn es regnet, tue das ...\", \"Wenn es später regnet, tue das...\" und \"Sonst tue etwas anderes ...\"\n",
    "# ELIF lässt uns mehrere Fälle auflisten, die Auftreten können. Erst wenn all diese geprüft wurden wird ausgeführt, was hinter ELSE steht.\n",
    "if regen_jetzt == True:\n",
    "    print(\"Es regnet gerade, du brauchst einen Regenschirm!\")\n",
    "elif regen_spaeter == True:\n",
    "    print(\"Es soll später noch regnen, nimm also lieber einen Regenschirm mit!\")\n",
    "else:\n",
    "    print(\"Heute ist es trocken, du brauchst keinen Regenschirm!\")"
   ],
   "id": "a0002628270705b6"
  },
  {
   "metadata": {},
   "cell_type": "markdown",
   "source": [
    "### Vergleichsoperatoren und Bedingungen\n",
    "\n",
    "<div style=\"background-color: #F5E1A4; padding: 10px; border-radius: 5px; overflow: hidden; border: 2px solid #8B6F47;\">\n",
    "Bisher haben wir <b>if</b> und <b>else</b> verwendet, um einfache Bedingungen zu prüfen, z. B. ob eine Variable <b>True</b> oder <b>False</b> ist. Oft müssen wir jedoch <b>Vergleiche</b> zwischen Werten anstellen, um Entscheidungen zu treffen.\n",
    "\n",
    "Mit **Vergleichsoperatoren** kannst du überprüfen, wie zwei Werte zueinander stehen. Die häufigsten Vergleichsoperatoren in Python sind:\n",
    "\n",
    "- `>` (größer als)\n",
    "- `<` (kleiner als)\n",
    "- `>=` (größer oder gleich)\n",
    "- `<=` (kleiner oder gleich)\n",
    "- `==` (gleich)\n",
    "- `!=` (ungleich) <br>\n",
    "\n",
    "Hier noch ein Beispiel dazu:\n",
    "</div>\n",
    "\n",
    "\n"
   ],
   "id": "9fac15d904e31f61"
  },
  {
   "metadata": {},
   "cell_type": "code",
   "outputs": [],
   "execution_count": null,
   "source": [
    "# Beachte, dass wir in Python, um zwei Werte zu vergleichen ==, statt nur einem Gleichheitszeichen verwenden müssen.\n",
    "# Probiere aus, was passiert, wenn Du das Alter änderst.\n",
    "alter=11\n",
    "if alter==18:\n",
    "    print('Du bist 18 Jahre alt.')\n",
    "elif alter<18:\n",
    "    print('Du bist minderjährig.')\n",
    "else:\n",
    "    print('Du bist eine ausgewachsene Person.')"
   ],
   "id": "7e7db6986cf65f3"
  },
  {
   "metadata": {},
   "cell_type": "markdown",
   "source": [
    "<div style=\"background-color: #D6E9C6; padding: 10px; border-radius: 5px; overflow: hidden; border: 2px solid #4A7C59; margin-bottom: 10px;\">\n",
    "    <img src=\"msc/img/Noch_im_spiel2.png\" style=\"width:200px; margin: 20px; float: right\"/>\n",
    "    <img src=\"msc/img/Noch_im_spiel1.png\" style=\"width:200px; margin: 20px; float: right\"/>\n",
    "   <b>KONTEXT:</b Zurück zur Anwendung in unserem Hangman Spiel:\n",
    "\n",
    "Nach jedem Zug in unserem Hangman-Spiel müssen wir prüfen, ob das Spiel nun beendet ist. Dazu prüfen wir folgende Bedingungen:\n",
    "\n",
    "- **Wenn das Wort im vergangenen Zug vollständing erraten wurde**, dann hat die Spielerin gewonnen.\n",
    "\n",
    "- **Wenn der Hangman vollständig gezeichnet ist, wir also keine Versuche mehr übrig haben**, dann ist das Spiel verloren.\n",
    "\n",
    "Ist keine der Bedingungen erfüllt, geht das Spiel einfach weiter.\n",
    "\n",
    "Wir sehen also, dass unsere Anwendung genau die gleiche Struktur hat, wie das Wetter-Beispiel von oben. Wir wollen die oben gelernte Methode also nun für unser Spiel verwenden.\n",
    "</div>\n",
    "<div style=\"background-color: #D1ECF1; padding: 10px; border-radius: 5px; overflow: hidden; border: 2px solid #2A6173;\">\n",
    "    <b>Aufgabe:</b> Vervollständige die folgende Funktion, die obige Bedingungen prüft:\n",
    "Dabei benutzen wir folgende Inputs:\n",
    "- erratenesTeilwort: hat diese Form `['H', '_', 'L', 'L', '_']`, falls im Wort 'Hallo' schon die Buchstaben H und L erraten wurden. Es ist also eine Liste aus Strings. Was eine Liste ist und wie wir damit arbeiten lernen wir gleich. Hier ist alles was wir brauchen schon vorgegeben.\n",
    "</div>\n",
    "\n",
    "\n"
   ],
   "id": "162a88ed865cb877"
  },
  {
   "metadata": {},
   "cell_type": "code",
   "outputs": [],
   "execution_count": null,
   "source": [
    "# Die Funktion soll TRUE zurückgeben, wenn das Spiel nach dem eben gemachten Zug noch weitergehen kann\n",
    "# Ist das Spiel nach dem vergangenen Zug gewonnen oder verloren, soll FALSE zurückgegeben werden\n",
    "\n",
    "\n",
    "def ist_das_Spiel_noch_am_laufen(erratenesTeilwort, erlaubteFehlversuche):\n",
    "    if (not (\"_\" in erratenesTeilwort)): #die Unterstriche sind Platzhalter für noch nicht erratene Buchstaben \n",
    "        # füge hier einen print-Befehl ein, der eine diesem Fall entsprechende Ausgabe ausgibt\n",
    "        return #True oder False?\n",
    "\n",
    "    elif # prüfe hier ob noch Versuche übrig sind. Die Variable erlaubteFehlversuche ist eine normale Zahl\n",
    "        # füge hier einen print-Befehl ein, der eine diesem Fall entsprechende Ausgabe ausgibt\n",
    "        return #True oder False?\n",
    "\n",
    "    else:\n",
    "        return #True oder False?"
   ],
   "id": "7e1eadc83f07e897"
  },
  {
   "metadata": {},
   "cell_type": "markdown",
   "source": "## Listen (20min)",
   "id": "21d61f09af312580"
  },
  {
   "metadata": {},
   "cell_type": "markdown",
   "source": [
    "<div style=\"background-color: #D6E9C6; padding: 10px; border-radius: 5px; overflow: hidden; border: 2px solid #4A7C59; margin-bottom: 10px;\">\n",
    "    <img src=\"msc/img/Starte_hangman1.png\" style=\"width:200px; margin: 20px; float: right\"/>\n",
    "    <b>KONTEXT:</b> Für unser Hangman-Spiel müssen wir uns merken, welche Teile des Wortes wir schon erraten haben und welche noch nicht, wie machen wir das?\n",
    "</div>\n",
    "<div style=\"background-color: #F5E1A4; padding: 10px; border-radius: 5px; overflow: hidden; border: 2px solid #8B6F47;\">\n",
    "    Wir können natürlich für jeden Buchstaben eine neue Variable nutzen, aber wie merken wir uns dann die Reihenfolge? Und was würden wir machen, wenn sich die Länge des Wortes ändert? Dann müssten wir noch mehr Variablen einführen... <br>\n",
    "    Das wird sehr schnell unübersichtlich, deswegen gibt es in Python <b>Listen</b>. <br> \n",
    "Listen schreibt man in Python mit eckigen Klammern. Zum Beispiel ist <b>erratenesTeilwort = [\"H\", \"_\", \"L\", \"L\", \"_\"]</b> eine Liste, die an der ersten Stelle ein H enthält, dann einen Unterstrich, dann zwei Ls und dann noch einen Unterstrich (das könnte ein Zwischenstand von unserem Hangman-Spiel sein).<br><br>\n",
    "        Das, was man in die Liste gepackt hat, kann man sich auch wieder einzeln anschauen. Dafür schreibt man den Namen der Liste und danach in eckigen Klammern die Position in der Liste, die man haben möchte, also zum Beispiel <b>erratenesTeilwort[0]</b>.\n",
    "<br><br>\n",
    "    \n",
    "***ACHTUNG:*** Python fängt bei `0` an zu zählen! <br>\n",
    "Probier es einfach mal selbst aus:\n",
    "</div>\n",
    "\n",
    "\n"
   ],
   "id": "85879b55d4486d3c"
  },
  {
   "metadata": {},
   "cell_type": "code",
   "outputs": [],
   "execution_count": null,
   "source": [
    "# wir erstellen hier die Liste mit Buchstaben drin\n",
    "erratenesTeilwort = [\"H\", \"_\", \"L\", \"L\", \"_\"] \n",
    "\n",
    "# wir lassen uns den \"nullten\" (also ersten) Buchstaben aus der Liste ausgeben\n",
    "# TODO: verändere die Zahl und schau, was passiert.\n",
    "#  Was passiert, wenn man eine Zahl eingibt, die länger ist als die Liste?\n",
    "print(erratenesTeilwort[0])"
   ],
   "id": "73f2863bbe9a90d"
  },
  {
   "metadata": {},
   "cell_type": "markdown",
   "source": [
    "<div style=\"background-color: #F5E1A4; padding: 10px; border-radius: 5px; overflow: hidden; border: 2px solid #8B6F47;\">\n",
    "    Wir können die Liste auch verändern. Dafür schreiben wir wie beim Anschauen der Elemente den Namen der Liste, dahinter in eckigen Klammern die Position, die man verändern möchte und dann ein <b>=</b> mit dem Wert dahinter, durch den wir das Element ersetzen wollen. \n",
    "</div>\n"
   ],
   "id": "5088fd4b75e8c43d"
  },
  {
   "metadata": {},
   "cell_type": "code",
   "outputs": [],
   "execution_count": null,
   "source": [
    "# wir ändern den ersten Buchstaben in der Liste \"erratenesTeilwort\" zu einem \"b\"\n",
    "erratenesTeilwort[1] = \"A\"\n",
    "print(erratenesTeilwort)\n",
    "\n",
    "# TODO: spiel ruhig etwas damit herum und \n",
    "# versucht z.B. \"hallo\" zu printen, indem du Buchstaben aus der Liste benutzt"
   ],
   "id": "270431fd8cce5f9e"
  },
  {
   "metadata": {},
   "cell_type": "markdown",
   "source": [
    "<div style=\"background-color: #F5E1A4; padding: 10px; border-radius: 5px; overflow: hidden; border: 2px solid #8B6F47;\">\n",
    "    Manchmal wollen wir auch wissen, wie lang eine Liste gerade ist. Dafür können wir <b>len(name_der_liste)</b> nutzen.\n",
    "</div>\n"
   ],
   "id": "685cabee960c1e7b"
  },
  {
   "metadata": {},
   "cell_type": "code",
   "outputs": [],
   "execution_count": null,
   "source": [
    "# wir lassen uns die Länge der Liste \"erratenesTeilwort\" ausgeben\n",
    "print(len(erratenesTeilwort))"
   ],
   "id": "bfee670f328dfa41"
  },
  {
   "metadata": {},
   "cell_type": "markdown",
   "source": [
    "<div style=\"background-color: #F5E1A4; padding: 10px; border-radius: 5px; overflow: hidden; border: 2px solid #8B6F47;\">\n",
    "    Vielleicht ist dir gerade aufgefallen, dass die Liste \"erratenesTeilwort\" gerade immer die Länge 5 hat. Wir können deswegen auch nur fünf verschiedene Buchstaben dort hineinpacken.\n",
    "\n",
    "Wenn wir die Liste länger machen wollen, müssten wir Python direkt sagen, dass neue Elemente an die Liste angehängt werden sollen.\n",
    "Dafür nutzen wir <b>.append()</b> (Englisch für anhängen). \n",
    "</div>\n",
    "\n"
   ],
   "id": "a7801bef306f364b"
  },
  {
   "metadata": {},
   "cell_type": "code",
   "outputs": [],
   "execution_count": null,
   "source": [
    "# wir hängen ein \"!\" an die Liste \"erratenesTeilwort\"\n",
    "erratenesTeilwort.append(\"!\")\n",
    "print(erratenesTeilwort)\n",
    "\n",
    "# TODO: Wie lang ist die Liste jetzt?\n",
    "\n",
    "# TODO: versuche die Liste so zu verändern, dass du damit \n",
    "# deinen eigenen Namen schreiben kannst \n",
    "\n"
   ],
   "id": "3c04a56e732a8f82"
  },
  {
   "metadata": {},
   "cell_type": "markdown",
   "source": [
    "<div style=\"background-color: #F5E1A4; padding: 10px; border-radius: 5px; overflow: hidden; border: 2px solid #8B6F47;\">\n",
    "    Wir können außerdem nicht nur Buchstaben in Listen packen, sondern alles mögliche (z.B. Zahlen) und sogar andere Listen.\n",
    "</div>\n"
   ],
   "id": "7eb30fc70e538867"
  },
  {
   "metadata": {},
   "cell_type": "code",
   "outputs": [],
   "execution_count": null,
   "source": [
    "# hier ein Paar Beispiel-Listen\n",
    "zahlenliste = [2,5,6,12,14]\n",
    "listenliste = [[0,2,3], [4,2,16]]\n",
    "print(zahlenliste)\n",
    "print(listenliste[0][1])"
   ],
   "id": "95b9c07502581e82"
  },
  {
   "metadata": {},
   "cell_type": "markdown",
   "source": "## `for`-Schleifen (45min)\n",
   "id": "d9c6805caf191e45"
  },
  {
   "metadata": {},
   "cell_type": "markdown",
   "source": [
    "<div style=\"background-color: #F5E1A4; padding: 10px; border-radius: 5px; overflow: hidden; border: 2px solid #8B6F47;\">\n",
    "    Stell dir vor, wir möchten uns jeden Buchstaben aus einer Liste <b>wort</b> ausgeben lassen. Eine erste Idee, um das zu tun, wäre vielleicht:\n",
    "</div>\n"
   ],
   "id": "ab98ebd7fccc79"
  },
  {
   "metadata": {},
   "cell_type": "code",
   "outputs": [],
   "execution_count": null,
   "source": [
    "wort = [\"h\", \"a\", \"l\", \"l\", \"o\"]\n",
    "print(wort[0])\n",
    "print(wort[1])\n",
    "print(wort[2])\n",
    "print(wort[3])\n",
    "print(wort[4])"
   ],
   "id": "c6af8a9f75c499cd"
  },
  {
   "metadata": {},
   "cell_type": "markdown",
   "source": [
    "<div style=\"background-color: #F5E1A4; padding: 10px; border-radius: 5px; overflow: hidden; border: 2px solid #8B6F47;\">\n",
    "    Das ist allerdings sehr viel Schreibaufwand und die Länge der Liste muss bekannt sein und sollte sich nicht ändern, deswegen ist das nicht die beste Lösung. <br>\n",
    "    Stattdessen gibt es die <b>for</b>-Schleife, um Befehle mehrmals hintereinander auszuführen. Das Beispiel oben können wir damit so umschreiben:\n",
    "</div>\n"
   ],
   "id": "14fc7ac510b04e37"
  },
  {
   "metadata": {},
   "cell_type": "code",
   "outputs": [],
   "execution_count": null,
   "source": [
    "# wir nutzen eine for-Schleife, um jedes Element der Liste auszugeben\n",
    "for i in range(len(wort)):\n",
    "    print(i, \". Buchstabe: \", wort[i])"
   ],
   "id": "3e8d3ef7129959a3"
  },
  {
   "metadata": {},
   "cell_type": "markdown",
   "source": [
    "<div style=\"background-color: #F5E1A4; padding: 10px; border-radius: 5px; overflow: hidden; border: 2px solid #8B6F47;\">\n",
    "    Durch <b>for i in range(len(wort))</b>   sorgen wir dabei dafür, dass <b>i</b> bei jeder Wiederholung der Schleife um eins erhöht wird, bis <b>i</b> die Länge von <b>wort</b> erreicht hat. Danach hören die Wiederholungen auf. Das <b>i</b> nutzen wir dabei als <b>Index</b>, also als Nummerierung der Elemente in der Liste.<br>\n",
    "    Wir können in Listen und Strings auch direkt auf die Elemente zugreifen, brauchen dann also nicht mehr explizit den  Index aufschreiben. Dafür nutzen wir die Form <b>for Element in String</b>:\n",
    "</div>\n"
   ],
   "id": "8c1dfcc51f44849"
  },
  {
   "metadata": {},
   "cell_type": "code",
   "outputs": [],
   "execution_count": null,
   "source": [
    "# wir definieren einen String\n",
    "wort = \"hangman\"\n",
    "\n",
    "# wir gehen mit einer for-Schleife durch den String \"wort\"\n",
    "# und lassen uns jeden Buchstaben ausgeben\n",
    "for buchstabe in wort:\n",
    "    print(buchstabe)\n",
    "\n",
    "# TODO: probiere aus, was passiert, wenn du \"buchstabe\" umbenennst"
   ],
   "id": "22d68a03e53acd28"
  },
  {
   "metadata": {},
   "cell_type": "markdown",
   "source": [
    "<div style=\"background-color: #D6E9C6; padding: 10px; border-radius: 5px; overflow: hidden; border: 2px solid #4A7C59; margin-bottom: 10px;\">\n",
    "    <img src=\"msc/img/Starte_hangman2.png\" style=\"width:200px; margin: 20px; float: right\"/>\n",
    "    <img src=\"msc/img/Starte_hangman1.png\" style=\"width:200px; margin: 20px; float: right\"/>\n",
    "    <b>KONTEXT</b>: Für unser Spiel wollen wir eine Liste anlegen, die uns speichert, wie lang das Wort ist, das wir suchen. Diese Liste nennen wir <b>verschleiertesWort</b>. Dafür soll sie für jeden Buchstaben in dem gesuchten Wort einen Unterstrich enthalten (so wie wenn man Hangman an der Tafel spielt).\n",
    "</div>\n",
    "<div style=\"background-color: #F5E1A4; padding: 10px; border-radius: 5px; overflow: hidden; border: 2px solid #8B6F47; margin-bottom: 10px;\">\n",
    "    Später schreiben wir dort auch alle Buchstaben rein, die wir schon gefunden haben.\n",
    "</div>\n",
    "<div style=\"background-color: #D1ECF1; padding: 10px; border-radius: 5px; overflow: hidden; border: 2px solid #2A6173;\">\n",
    "    <b>Aufgabe:</b> Vervollständige die Funktion <b>gib_verschleiertes_Wort</b>, so dass sie eine Liste zurückgibt, die einen Unterstrich \"_\" als Platzhalter für jeden Buchstaben im eingegebenen Geheimwort enthält.<br>\n",
    "Der Input <b>geheimwort</b> ist dabei ein String.\n",
    "</div>\n",
    "\n"
   ],
   "id": "2509204030a8e8b6"
  },
  {
   "metadata": {},
   "cell_type": "code",
   "outputs": [],
   "execution_count": null,
   "source": [
    "# Diese Funktion wandelt ein gegebenes Wort in eine Liste von Unterstrichen um. Als Input bekommt sie ein Wort als String\n",
    "\n",
    "def gib_verschleiertes_Wort(geheimwort):    \n",
    "    verschleiertesWort = []\n",
    "    #TODO: für jeden Buchstaben in \"geheimwort\" soll \n",
    "    # ein \"_\" zu \"verschleiertesWort\" hinzugefügt werden\n",
    "\n",
    "    return verschleiertesWort\n",
    "\n",
    "#Lösung (brauchen wir später)\n",
    "def gib_verschleiertes_Wort(geheimwort):    \n",
    "    verschleiertesWort = []\n",
    "    for buchstabe in geheimwort :\n",
    "        verschleiertesWort.append(\"_ \")\n",
    "\n",
    "    return verschleiertesWort\n",
    "\n"
   ],
   "id": "6ee074a969ab3839"
  },
  {
   "metadata": {},
   "cell_type": "markdown",
   "source": [
    "<div style=\"background-color: #F5E1A4; padding: 10px; border-radius: 5px; overflow: hidden; border: 2px solid #8B6F47;\">\n",
    "    Hier kannst du einmal testen, ob alles so funktioniert, wie du es dir vorgestellt hast:\n",
    "</div>\n"
   ],
   "id": "b7799335ea3d3726"
  },
  {
   "metadata": {},
   "cell_type": "code",
   "outputs": [],
   "execution_count": null,
   "source": "gib_verschleiertes_Wort(\"hangman\")",
   "id": "ff80ae41688d6178"
  },
  {
   "metadata": {},
   "cell_type": "markdown",
   "source": [
    "<div style=\"background-color: #D6E9C6; padding: 10px; border-radius: 5px; overflow: hidden; border: 2px solid #4A7C59; margin-bottom: 10px;\">\n",
    "    <img src=\"msc/img/Bewerte_buchstaben2.png\" style=\"width:200px; margin: 20px; float: right\"/>\n",
    "    <img src=\"msc/img/Bewerte_buchstaben1.png\" style=\"width:400px; margin: 20px; float: right\"/>\n",
    "    <b>KONTEXT:</b> Wir brauchen außerdem eine Funktion, die einen Buchstaben, der wirklich im Lösungswort vorkommt, an der richtigen Stelle einsetzt.</div>\n",
    "<div style=\"background-color: #D1ECF1; padding: 10px; border-radius: 5px; overflow: hidden; border: 2px solid #2A6173;\">\n",
    "    <b>Aufgabe:</b> Vervollständige die Funktion <b>entschleiere_Buchstaben</b>. \n",
    "Diese erhält den eingegebenen Buchstaben (<b>eingabebuchstabe</b>), das zu erratene Geheimwort (<b>geheimwort</b>) und das bisher schon erratene Teilwort, in dem für alle nicht erratenen Buchstaben noch ein \"_\" steht.\n",
    "Sie aktualisiert <b>erratenesTeilwort</b>, sodass an den richtigen Stellen der eingegebene Buchstabe geschrieben wird.\n",
    "\n",
    "Tipp: Die Funktion braucht kein <b>return</b>.\n",
    "</div>\n",
    "\n"
   ],
   "id": "2374071bc00b2f2e"
  },
  {
   "metadata": {},
   "cell_type": "code",
   "outputs": [],
   "execution_count": null,
   "source": [
    "def entschleiere_Buchstaben(eingabebuchstabe, geheimwort, erratenesTeilwort):\n",
    "    for i in range(len(geheimwort)):\n",
    "    #TODO: wenn der eingegebene Buchstabe der gleiche Buchstabe \n",
    "    # wie der, der in dem Geheimwort an der Stelle i steht,\n",
    "    # dann soll in erratenesTeilwort an der Stelle i \n",
    "    # auch der eingegebene Buchstabe geschrieben werde\n",
    "        pass\n",
    "\n",
    "# Lösung - find ich schöner ohne enumerate\n",
    "def entschleiere_Buchstaben2(eingabebuchstabe, geheimwort, erratenesTeilwort):\n",
    "    for i in range(len(geheimwort)):\n",
    "        if (eingabebuchstabe == geheimwort[i]):\n",
    "            erratenesTeilwort[i] = eingabebuchstabe"
   ],
   "id": "9ad3fa1330bb146c"
  },
  {
   "metadata": {},
   "cell_type": "markdown",
   "source": [
    "<div style=\"background-color: #F5E1A4; padding: 10px; border-radius: 5px; overflow: hidden; border: 2px solid #8B6F47;\">\n",
    "    Teste hier ruhig einmal, ob alles funktioniert:\n",
    "</div>\n"
   ],
   "id": "bfaa07b506d12639"
  },
  {
   "metadata": {},
   "cell_type": "code",
   "outputs": [],
   "execution_count": null,
   "source": [
    "geratener_buchstabe = \"N\"\n",
    "zu_erratendes_wort = \"PYTHON\"\n",
    "bereits_erratenes_wort = [\"_\", \"_\", \"T\", \"_\", \"O\", \"_\"]\n",
    "\n",
    "entschleiere_Buchstaben(geratener_buchstabe, zu_erratendes_wort, bereits_erratenes_wort)\n",
    "\n",
    "print(geratener_buchstabe, zu_erratendes_wort, bereits_erratenes_wort)"
   ],
   "id": "c8f0a952ffeca86d"
  },
  {
   "metadata": {},
   "cell_type": "markdown",
   "source": "## `while`-Schleifen",
   "id": "a14587ae5ae2e13e"
  },
  {
   "metadata": {},
   "cell_type": "markdown",
   "source": [
    "<div style=\"background-color: #F5E1A4; padding: 10px; border-radius: 5px; overflow: hidden; border: 2px solid #8B6F47;\">\n",
    "    Was aber, wenn wir <b>nicht wissen, wie oft wir etwas wiederholen müssen</b>? Stellen wir uns folgende Situationen vor:\n",
    "\n",
    "- **Wir wollen ein Spiel programmieren**, das keine feste Rundenanzahl hat, sondern so lange läuft, bis der Spieler gewinnt oder verliert.\n",
    "- **Wir suchen nach einer bestimmten Bedingung**, die erfüllt werden muss, bevor die Schleife endet (z. B. ein Passwort wird korrekt eingegeben).\n",
    "\n",
    "In solchen Fällen stoßen **for-Schleifen** an ihre Grenzen, da sie eine feste Anzahl von Wiederholungen erwarten. Stattdessen benötigen wir eine **while-Schleife**, die durch eine (Abbruch-)Bedingung gesteuert wird.\n",
    "\n",
    "**Beispiel:** Wiederholung basierend auf Benutzereingabe\n",
    "\n",
    "In diesem Beispiel wird eine **while**-Schleife verwendet, um den Benutzer so lange nach einer Eingabe zu fragen, bis er eine bestimmte Antwort gibt (in diesem Fall \"ja\").\n",
    "</div>"
   ],
   "id": "1e8382ab6a5e5d88"
  },
  {
   "metadata": {},
   "cell_type": "code",
   "outputs": [],
   "execution_count": null,
   "source": [
    "# Wiederhole das Programm, bis der Benutzer \"nein\" eingibt\n",
    "\n",
    "antwort = \"\"\n",
    "while antwort != \"nein\":\n",
    "    antwort = input(\"Möchtest du weitermachen? (ja/nein): \")\n",
    "print(\"Du hast 'nein' eingegeben. Das Programm endet.\")"
   ],
   "id": "813f0900505461f4"
  },
  {
   "metadata": {},
   "cell_type": "markdown",
   "source": [
    "<div style=\"background-color: #D6E9C6; padding: 10px; border-radius: 5px; overflow: hidden; border: 2px solid #4A7C59; margin-bottom: 10px;\">\n",
    "    <b>KONTEXT:</b> Für unser Hangman-Spiel ist das auch nützlich, wenn wir überprüfen wollen, dass die Spielerin nur einen einzelnen Buchstaben eingibt (sonst würde es an anderen Stellen zu Problemen im Programm kommen).\n",
    "</div>\n",
    "<div style=\"background-color: #F5E1A4; padding: 10px; border-radius: 5px; overflow: hidden; border: 2px solid #8B6F47;\">\n",
    "    <h3 style=\"color: black;\"><b>Header</b></h3>\n",
    "</div>\n",
    "\n",
    "\n",
    "Dafür fragen wir solange nach einer Eingabe, bis wir wirklich nur einen Buchstaben bekommen."
   ],
   "id": "aadb5f67badf0c88"
  },
  {
   "metadata": {},
   "cell_type": "markdown",
   "source": [
    "<div style=\"background-color: #F5E1A4; padding: 10px; border-radius: 5px; overflow: hidden; border: 2px solid #8B6F47;\">\n",
    "    Weiterhin müssen wir prüfen, ob ein der nun eingegebene Buchstabe im Wort enthalten ist. Das funktioniert folgendermaßen: Wir definieren uns zunächst ein Wort, was wir als Variable speichern:\n",
    "</div>\n"
   ],
   "id": "630aebd918d50346"
  },
  {
   "metadata": {},
   "cell_type": "code",
   "outputs": [],
   "execution_count": null,
   "source": "wort = 'Hase'",
   "id": "68b475d1042ecba"
  },
  {
   "metadata": {},
   "cell_type": "markdown",
   "source": [
    "<div style=\"background-color: #F5E1A4; padding: 10px; border-radius: 5px; overflow: hidden; border: 2px solid #8B6F47;\">\n",
    "    Wenn wir nun prüfen wollen, ob ein Buchstabe in unserem Wort enthalten ist, geben wir folgendes ein:\n",
    "</div>"
   ],
   "id": "df50d6b6fcd22f71"
  },
  {
   "metadata": {},
   "cell_type": "code",
   "outputs": [],
   "execution_count": null,
   "source": [
    "# Wenn du diese Zelle abspielst sollte Python eine Boolean (True oder False, siehe oben) zurückgeben.\n",
    "'a' in wort"
   ],
   "id": "bc257c3dd45b6477"
  },
  {
   "metadata": {},
   "cell_type": "markdown",
   "source": [
    "<div style=\"background-color: #F5E1A4; padding: 10px; border-radius: 5px; overflow: hidden; border: 2px solid #8B6F47;\">\n",
    "    Wir sehen, dass uns der Wert <b>True</b>, also wahr zurückgegeben wird. Das sollte ja auch so sein. Wenn wir nun\n",
    "</div> "
   ],
   "id": "a0c7acb0fca19e6"
  },
  {
   "metadata": {},
   "cell_type": "code",
   "outputs": [],
   "execution_count": null,
   "source": "'p' in wort",
   "id": "1e7d23fe3d8b1dd1"
  },
  {
   "metadata": {},
   "cell_type": "markdown",
   "source": [
    "<div style=\"background-color: #F5E1A4; padding: 10px; border-radius: 5px; overflow: hidden; border: 2px solid #8B6F47;\">\n",
    "    ausprobieren, wird wie erwartet False, also falsch zurückgegeben. Probiere einmal selbst aus, was passiert, wenn du ein paar Buchstaben testest. <br>\n",
    "    Spiele insbesondere mal mit Groß- und Kleinschreibung herum.\n",
    "</div>\n",
    "\n"
   ],
   "id": "5c7480aedb716e8a"
  },
  {
   "metadata": {},
   "cell_type": "code",
   "outputs": [],
   "execution_count": null,
   "source": "# TODO Probiere hier aus, was bei Groß- und Kleinschreibung funktioniert.",
   "id": "c4c878013cf9b00e"
  },
  {
   "metadata": {},
   "cell_type": "markdown",
   "source": [
    "<div style=\"background-color: #F5E1A4; padding: 10px; border-radius: 5px; overflow: hidden; border: 2px solid #8B6F47;\">\n",
    "    Du wirst feststellen, dass Python den Buchstaben 'w' nicht im Wort wiederfindet, sondern nur 'W'. Ebenso wird für 'A' False zurückgegeben, für 'a' allerdings True. Dies soll in unserem Hangman Spiel kein Problem darstellen. Um dies also zu umgehen wollen wir alle Wörter und Buchstaben mit denen wir hantieren groß schreiben oder alle klein schreiben. Dazu gibt es die folgenden Befehle:\n",
    "</div>\n",
    "\n"
   ],
   "id": "bd3a6abb6a3fb0cd"
  },
  {
   "metadata": {},
   "cell_type": "code",
   "outputs": [],
   "execution_count": null,
   "source": [
    "# Wir nehmen uns wieder unser Wort von oben \n",
    "wort = 'Hase'\n",
    "\n",
    "# Mit dem folgenden Befehl können wir das gesamte Word großschreiben:\n",
    "wort_upper=wort.upper()\n",
    "\n",
    "# Und mit diesem Befehl wird das ganze Wort kleingeschrieben:\n",
    "wort_lower=wort.lower()\n",
    "\n",
    "# Wir geben uns die neuen Varianten der Variable wort einmal aus, um zu sehen, was genau passiert ist\n",
    "print(wort, wort_upper, wort_lower)"
   ],
   "id": "ba4fa5df38ae600c"
  },
  {
   "metadata": {},
   "cell_type": "markdown",
   "source": [
    "<div style=\"background-color: #D1ECF1; padding: 10px; border-radius: 5px; overflow: hidden; border: 2px solid #2A6173;\">\n",
    "    <img src=\"msc/img/Rate_buchstaben2.png\" style=\"width:200px; margin: 20px; float: right\"/>\n",
    "    <img src=\"msc/img/Rate_buchstaben1.png\" style=\"width:200px; margin: 20px; float: right\"/>\n",
    "    <b>Aufgabe:</b> Vervollständige <b>erhalte_Großbuchstaben()</b>. <br>\n",
    "    Prüfe darin, ob das eingegebene wirklich nur <b>ein</b> Zeichen ist und ob es wirklich aus dem Alphabet kommt (dafür kannst du <b>eingabebuchstabe.isalpha()</b> nutzen, das gibt <b>True</b> zurück, wenn alle Zeichen in <b>eingabebuchstabe</b> aus dem Alphabet kommen). <br>\n",
    "Solange das nicht erfüllt ist, printe eine Nachricht und frag noch mal nach einer Eingabe.<br>\n",
    "Die Funktion soll dann den eingebenen Buchstaben als Großbuchstaben zurückgeben.\n",
    "</div>\n",
    "\n"
   ],
   "id": "7bf2d04e0c00a449"
  },
  {
   "metadata": {},
   "cell_type": "code",
   "outputs": [],
   "execution_count": null,
   "source": [
    "def erhalte_Großbuchstaben(): \n",
    "    eingabebuchstabe = input(\"Gib einen einzelnen Buchstaben ein: \")\n",
    "    # TODO: solange wie die Länge der Eingabe nicht 1 ist \n",
    "    # und das eingegebene nicht aus dem Alphabet kommt\n",
    "    # schreib: \"Das war kein einzelner Buchstabe: \" \n",
    "    # und frag noch mal nach der Eingabe eines Buchstabens\n",
    "\n",
    "\n",
    "    # gib den eingegebenen Buchstaben als Großbuchstaben zurück\n",
    "\n",
    "\n",
    "# Lösung (brauchen wir später)\n",
    "def erhalte_Großbuchstaben():   \n",
    "    eingabebuchstabe = input(\"Gib einen Großbuchstaben ein: \")\n",
    "    while (not (len(eingabebuchstabe) == 1 and eingabebuchstabe.isalpha())):\n",
    "        print(\"Das war kein einzelner Buchstabe: \")\n",
    "        eingabebuchstabe = input(\"Gib einen Großbuchstaben ein: \")\n",
    "\n",
    "    return eingabebuchstabe.upper()"
   ],
   "id": "f102946f0558751d"
  },
  {
   "metadata": {},
   "cell_type": "markdown",
   "source": [
    "<div style=\"background-color: #F5E1A4; padding: 10px; border-radius: 5px; overflow: hidden; border: 2px solid #8B6F47;\">\n",
    "    Hier kannst du wie immer deine Funktion ausprobieren. Teste auch, was passiert, wenn du Zahlen oder mehrere Buchstaben eingibst.\n",
    "</div>\n"
   ],
   "id": "92d313f33513a66d"
  },
  {
   "metadata": {},
   "cell_type": "code",
   "outputs": [],
   "execution_count": null,
   "source": [
    "geratener_buchstabe = erhalte_Großbuchstaben()\n",
    "print(geratener_buchstabe)"
   ],
   "id": "508cd700d6405c92"
  },
  {
   "metadata": {},
   "cell_type": "markdown",
   "source": "## Hangman-Spiel",
   "id": "28182fe181844b31"
  },
  {
   "metadata": {},
   "cell_type": "markdown",
   "source": [
    "<div style=\"background-color: #D1ECF1; padding: 10px; border-radius: 5px; overflow: hidden; border: 2px solid #2A6173;\">\n",
    "    <img src=\"msc/img/gesamtes_flussdiagramm.jpg\" style=\"width:400px; margin: 20px; float: right\"/>\n",
    "    Wir haben nun fast alle Bausteine zusammen, die wir brauchen, um das Spiel zu vervollständigen. <br>\n",
    "Hier noch mal eine Übersicht:\n",
    "\n",
    "- `verringere_um_Eins`\n",
    "- `kündige_Spieleröffnung_an`\n",
    "- `ist_das_Spiel_noch_am_laufen`\n",
    "- `erhalte_Großbuchstaben`\n",
    "- `gib_verschleiertes_Wort`\n",
    "- `entschleiere_Buchstaben`\n",
    "\n",
    "Außerdem haben wir zwei Funktionen schon mal für euch vorbereitet:\n",
    "</div>\n",
    "\n"
   ],
   "id": "2161e3aa5d40440b"
  },
  {
   "metadata": {},
   "cell_type": "code",
   "outputs": [],
   "execution_count": null,
   "source": [
    "# brauchen wir, um ein Wort zufällig auszuwählen\n",
    "import random\n",
    "\n",
    "# wählt ein zufälliges Wort aus der gegebenen Liste von Strings (\"wortliste\") \n",
    "def wähle_ein_zufälliges_Wort(wörterliste):  \n",
    "    wort = random.choice(wörterliste)\n",
    "    return wort"
   ],
   "id": "d05c3ee62f682268"
  },
  {
   "metadata": {},
   "cell_type": "markdown",
   "source": [
    "<div style=\"background-color: #D1ECF1; padding: 10px; border-radius: 5px; overflow: hidden; border: 2px solid #2A6173;\">\n",
    "     Wir brauchen also nur noch die Funktionen, die wir schon geschrieben haben, an der richtigen Stelle einzufügen.\n",
    "</div>\n"
   ],
   "id": "2d69014d922761ba"
  },
  {
   "metadata": {},
   "cell_type": "code",
   "outputs": [],
   "execution_count": null,
   "source": [
    "def starte_Hangmanspiel(wörterListe):\n",
    "    # TODO: hier könnte eine Begrüßung hin\n",
    "    \n",
    "    geheimwort = _# TODO: hier sollte ein Wort per Zufall aus einer Liste ausgewählt werden\n",
    "    fehlgeschlageneBuchstaben = []\n",
    "    erratenesTeilwort = _# TODO: hier wollen wir am Anfang eine Liste haben mit \"_\" für jeden Buchstaben im Geheimwort\n",
    "    erlaubteFehlversuche = 10 \n",
    "\n",
    "\n",
    "    while(_): #TODO: wenn das Spiel noch nicht beendet ist\n",
    "        eingabebuchstabe = _ # TODO: input von Spielerin, überprüft (nur ein Großuchstabe)\n",
    "\n",
    "        if _: # TODO:füge passende Bedingung ein\n",
    "            print(\"Der Buchstabe ist bereits erraten. Versuche einen anderen Buchstaben.\")\n",
    "            continue\n",
    "            \n",
    "        if _:# TODO: füge passende Bedingung ein\n",
    "            print(\"> Glückwunsch, der Buchstabe ist im Wort enthalten\")\n",
    "            #TODO: der erratene Buchstabe sollte nun im erratenen Teilwort sichtbar werden\n",
    "\n",
    "        if _:# TODO: füge passende Bedingung ein\n",
    "            print(\"Der Buchstabe ist bereits fehlgeschlagenen. Versuche einen anderen Buchstaben.\")\n",
    "            continue\n",
    "        \n",
    "        if _:# TODO: füge passende Bedingung ein\n",
    "            print(\"> Leider ist der Buchstabe nicht im Wort enthalten. Du hast nun einen Fehlversuch weniger.\")\n",
    "            erlaubteFehlversuche = _# TODO: sollten eins weniger werden\n",
    "            fehlgeschlageneBuchstaben.append(eingabebuchstabe)"
   ],
   "id": "95fdee325706edd8"
  },
  {
   "metadata": {},
   "cell_type": "code",
   "outputs": [],
   "execution_count": null,
   "source": [
    "import random\n",
    "from time import sleep\n",
    "\n",
    "from lib.hangman_gui import HangmanGui\n",
    "\n",
    "\n",
    "# TODO: Wie unterer Kommentar beim Kapseln der Built-In Funktion.\n",
    "#       Weiß nicht, ob es hier sinnvoll ist zu kapseln, wenn das eigentlich eine 1 Zeilen Operation ist...\n",
    "\n",
    "# gekapselte Funktionen\n",
    "def verringere_um_eins(zahl):  # grundlegende Funktion\n",
    "    return zahl - 1\n",
    "\n",
    "\n",
    "def kündige_spieleröffnung_an():\n",
    "# Nutzung bereits gegebener Funktionen wie input\n",
    "    print(\"Willkommen beim Hangman-Spiel\")\n",
    "    name = input(\"Bitte gib deinen Namen ein: \")\n",
    "    print(\"Hallo \" + name + \"! Schön dich kennenzulernen.\")\n",
    "    print(\"-------------------------------------------------\")\n",
    "    print(\"Let's Play Hangman! Du kannst dir 10 Fehlversuche leisten.\")\n",
    "\n",
    "\n",
    "def ist_das_spiel_noch_am_laufen(erratenes_teilwort, erlaubte_fehlversuche):  # if else Funktion\n",
    "    if (not (\"_\" in erratenes_teilwort)):\n",
    "        print(\"CONGRATULATIONS! - YOU WON\")\n",
    "        return False\n",
    "\n",
    "    if (erlaubte_fehlversuche == 0):\n",
    "        print(\"GAME OVER - YOU LOST\")\n",
    "        return False\n",
    "\n",
    "    else:\n",
    "        return True\n",
    "\n",
    "#\n",
    "def erhalte_großbuchstaben():\n",
    "    eingabebuchstabe = input(\"Gib einen Großbuchstaben ein: \")\n",
    "    while (not (len(eingabebuchstabe) == 1 and eingabebuchstabe.isalpha())):\n",
    "        print(\"Das war kein einzelner Buchstabe: \")\n",
    "        eingabebuchstabe = input(\"Gib einen Großbuchstaben ein: \")\n",
    "\n",
    "    return eingabebuchstabe.upper()\n",
    "\n",
    "\n",
    "# TODO: Hier ne eigene Funktion zu machen bietet iwie keinen Mehrwert.\n",
    "#       Ich denke, dass verwirrt eher und bläht den Code auf.\n",
    "def erweitere_fehlgeschlagene_BuchstabenListe(eingabebuchstabe, fehlgeschlagene_buchstaben):  # Listen Funktion 1\n",
    "    fehlgeschlagene_buchstaben.append(eingabebuchstabe)\n",
    "\n",
    "\n",
    "# Spacing entfernen?\n",
    "# Liste-Konzept vor for-Konzept\n",
    "def gib_verdecktes_wort(geheimwort):  # For Funktion\n",
    "    verschleiertesWort = []\n",
    "    for buchstabe in geheimwort:\n",
    "        verschleiertesWort.append(\"_\")\n",
    "\n",
    "    return verschleiertesWort\n",
    "\n",
    "# im Spielcode vorgeben\n",
    "def wähle_ein_zufälliges_wort(wörter_liste):  # Listen Funktion 4\n",
    "    wort = random.choice(wörter_liste)\n",
    "    # TODO: for unified representation i changed that here.\n",
    "    #   I'm considering to force upper case for user inputs as well to un-bloat the code for the students...\n",
    "    return wort.upper()\n",
    "\n",
    "\n",
    "# for i in range ?\n",
    "# Buchstabenposition * 2 -> Buchstaben ?\n",
    "# -> einfache Funktion\n",
    "def buchstaben_aufdecken(eingabebuchstabe, geheimwort, erratenes_teilwort):  # For\n",
    "    for buchstabenposition, buchstabe in enumerate(geheimwort):\n",
    "        if (eingabebuchstabe == buchstabe):\n",
    "            erratenes_teilwort[buchstabenposition] = eingabebuchstabe\n",
    "\n",
    "\n",
    "# Eigentliches Spiel\n",
    "def starte_hangmanspiel(wörter_liste):\n",
    "\n",
    "    kündige_spieleröffnung_an()\n",
    "    geheimwort = wähle_ein_zufälliges_wort(wörter_liste)\n",
    "    fehlgeschlageneBuchstaben = []\n",
    "    erratenesTeilwort = gib_verdecktes_wort(geheimwort)\n",
    "    erlaubteFehlversuche = 10\n",
    "\n",
    "    sleep(0.5)\n",
    "\n",
    "    gui = HangmanGui(geheimwort, erratenesTeilwort, fehlgeschlageneBuchstaben, erlaubteFehlversuche)\n",
    "\n",
    "    #zeige_Zustand(erratenesTeilwort, fehlgeschlageneBuchstaben, erlaubteFehlversuche)\n",
    "\n",
    "    # TODO: Vielleicht würde hier ein einfacher Boolean Abgleich leichter zu verstehen sein.\n",
    "    #       Weiß nicht, ob das für den Anfang zu verkapselt ist.\n",
    "    while (ist_das_spiel_noch_am_laufen(erratenesTeilwort, erlaubteFehlversuche)):\n",
    "        eingabebuchstabe = erhalte_großbuchstaben()\n",
    "\n",
    "        if (eingabebuchstabe in erratenesTeilwort):\n",
    "            nachricht =\"Der Buchstabe ist bereits erraten.\\nVersuche einen anderen Buchstaben.\"\n",
    "\n",
    "        if (eingabebuchstabe in geheimwort):\n",
    "            nachricht = \"Glückwunsch, der Buchstabe ist im Wort enthalten\"\n",
    "            buchstaben_aufdecken(eingabebuchstabe, geheimwort, erratenesTeilwort)\n",
    "\n",
    "        if (eingabebuchstabe in fehlgeschlageneBuchstaben):\n",
    "            nachricht=\"Der Buchstabe ist bereits fehlgeschlagenen.\\nVersuche einen anderen Buchstaben!\"\n",
    "\n",
    "        if (not (eingabebuchstabe in geheimwort)):\n",
    "            erlaubteFehlversuche = verringere_um_eins(erlaubteFehlversuche)\n",
    "            erweitere_fehlgeschlagene_BuchstabenListe(eingabebuchstabe, fehlgeschlageneBuchstaben)\n",
    "            nachricht=\"Leider ist der Buchstabe nicht im Wort enthalten.\\nDu hast nun einen Fehlversuch weniger.\"\n",
    "\n",
    "        gui.cycle(erratenesTeilwort, erlaubteFehlversuche, fehlgeschlageneBuchstaben, message=nachricht)\n",
    "\n"
   ],
   "id": "87986bc6b107724b"
  },
  {
   "metadata": {},
   "cell_type": "code",
   "outputs": [],
   "execution_count": null,
   "source": [
    "from lib.hangman import starte_hangmanspiel\n",
    "\n",
    "starte_hangmanspiel(['moin'])"
   ],
   "id": "f9d8d26d8a201e0e"
  }
 ],
 "metadata": {
  "kernelspec": {
   "display_name": "Python 3 (ipykernel)",
   "language": "python",
   "name": "python3"
  },
  "language_info": {
   "codemirror_mode": {
    "name": "ipython",
    "version": 3
   },
   "file_extension": ".py",
   "mimetype": "text/x-python",
   "name": "python",
   "nbconvert_exporter": "python",
   "pygments_lexer": "ipython3",
   "version": "3.12.3"
  }
 },
 "nbformat": 4,
 "nbformat_minor": 5
}
