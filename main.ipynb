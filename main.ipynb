{
 "cells": [
  {
   "cell_type": "markdown",
   "id": "8c21302bfd284b07",
   "metadata": {},
   "source": [
    "# starcode<sup>*</sup> WiSe 24/25"
   ]
  },
  {
   "cell_type": "code",
   "execution_count": null,
   "id": "initial_id",
   "metadata": {
    "ExecuteTime": {
     "end_time": "2024-11-20T17:45:30.463033Z",
     "start_time": "2024-11-20T17:45:03.183479Z"
    },
    "collapsed": true
   },
   "outputs": [
    {
     "name": "stdout",
     "output_type": "stream",
     "text": [
      "Welcome to Hangman!\n",
      "Please Enter your name:\n",
      "Hello, chris! Nice to meet you!\n",
      "Let's play...\n",
      "Enter a guess please: \n",
      "Wrong guess, you lost a live!\n",
      "You have 4 lives remaining.\n",
      "Enter a guess please: \n",
      "Please guess only one alphabetical letter!\n",
      "Enter a guess please: \n",
      "Wrong guess, you lost a live!\n",
      "You have 3 lives remaining.\n",
      "Enter a guess please: \n",
      "Wrong guess, you lost a live!\n",
      "You have 2 lives remaining.\n",
      "Enter a guess please: \n",
      "Wrong guess, you lost a live!\n",
      "You have 1 lives remaining.\n",
      "Enter a guess please: \n",
      "Wrong guess, you lost a live!\n",
      "You have 0 lives remaining.\n",
      "Oh no, you lost the game!\n",
      "You lost!\n"
     ]
    }
   ],
   "source": [
    "from ipywidgets import interact\n",
    "\n",
    "from lib.hangman import hangman\n",
    "\n",
    "hangman(vs_cpu=True)"
   ]
  },
  {
   "cell_type": "markdown",
   "id": "3bf07c89",
   "metadata": {},
   "source": [
    "Hello:)\n"
   ]
  }
 ],
 "metadata": {
  "kernelspec": {
   "display_name": "Python 3",
   "language": "python",
   "name": "python3"
  },
  "language_info": {
   "codemirror_mode": {
    "name": "ipython",
    "version": 2
   },
   "file_extension": ".py",
   "mimetype": "text/x-python",
   "name": "python",
   "nbconvert_exporter": "python",
   "pygments_lexer": "ipython2",
   "version": "2.7.6"
  }
 },
 "nbformat": 4,
 "nbformat_minor": 5
}
