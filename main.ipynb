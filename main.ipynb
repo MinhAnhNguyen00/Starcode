{
 "cells": [
  {
   "cell_type": "markdown",
   "id": "8c21302bfd284b07",
   "metadata": {},
   "source": [
    "# starcode<sup>*</sup> WiSe 24/25"
   ]
  },
  {
   "cell_type": "markdown",
   "id": "672ff63a",
   "metadata": {},
   "source": [
    "# DEV STUFF\n",
    "\n",
    "THIS IS ONLY USED DURING DEV CYCLE! THESE COMMANDS LOAD THE JUPYTER EXETENSION FOR HOT-RELOADING PROJECT SOURCES!"
   ]
  },
  {
   "cell_type": "code",
   "execution_count": 2,
   "id": "3bb5a446",
   "metadata": {
    "ExecuteTime": {
     "end_time": "2025-01-03T09:34:08.939715Z",
     "start_time": "2025-01-03T09:34:08.930534Z"
    }
   },
   "outputs": [
    {
     "name": "stdout",
     "output_type": "stream",
     "text": [
      "The autoreload extension is already loaded. To reload it, use:\n",
      "  %reload_ext autoreload\n"
     ]
    }
   ],
   "source": [
    "%load_ext autoreload\n",
    "%autoreload 2"
   ]
  },
  {
   "cell_type": "markdown",
   "id": "ed3be709",
   "metadata": {},
   "source": [
    "## Was ist ein Programm?"
   ]
  },
  {
   "cell_type": "markdown",
   "id": "3a63c99f",
   "metadata": {},
   "source": [
    "\n",
    "Im Folgenden erarbeiten wir zusammen die Grundlagen des Programmierens mit der Programmiersprache Python.\n",
    "Anhand von Erklärungen, Beispielen und Aufgaben programmieren wir gemeinsam ein Hangman-Spiel. Dazu wollen wir erstmal verstehen, was ein Programm eigentlich ist."
   ]
  },
  {
   "cell_type": "markdown",
   "id": "2e14c923d559aaf3",
   "metadata": {},
   "source": [
    "\n",
    "**Ein Programm ist eine Menge von hintereinander ausgeführten Anweisungen.**\\\n",
    "Das mag sich jetzt etwas abstrakt anhören, aber tatsächlich kennt ihr Programme schon aus eurem Alltag.\\\n",
    "**Anleitungen zum Aufbauen von Möbelstücken** oder **Kochrezepte** kann man sich als Programme vorstellen.\n",
    "\n",
    "<img src=\"msc/img/Bauanleitung_Vogelhaus.jpg\" style=\"width:200px; margin: 20px\"/>\n",
    "<img src=\"msc/img/Kochrezept.jpg\" style=\"width:200px; margin: 20px\"/>\n",
    "\n",
    "Im Unterschied dazu beinhalten Programme in Computern **Code-Anweisungen**, die **vom Computer ausgeführt werden**. \n",
    "Hier ein sehr einfaches erstes Programm:\n",
    "\n"
   ]
  },
  {
   "cell_type": "code",
   "execution_count": null,
   "id": "d4970143",
   "metadata": {},
   "outputs": [],
   "source": [
    "print(\"Hello World!\")"
   ]
  },
  {
   "cell_type": "markdown",
   "id": "f45f236f",
   "metadata": {},
   "source": [
    "Du kannst das Programm gerne zum **Ausführen bringen**, um zu sehen, was es macht. \n",
    "Klick dafür auf die folgende Zelle mit dem Code und tippe dann gleichzeitig **SHIFT + ENTER** (⇧ + ↵ ).\\\n",
    "<img src=\"msc/img/Tastatur_Farbig.jpg\" style=\"width:200px; margin: 20px\"/>"
   ]
  },
  {
   "cell_type": "markdown",
   "id": "89e7bc9b",
   "metadata": {},
   "source": [
    "**Unter der Zelle** ist der folgende Ausdruck erschienen:\n",
    "```python\n",
    "    Hello World!\n",
    "```\n",
    "Das 'Hello World' nennen wir **Ausgabe**. Der Bereich unter der Code-Zelle heißt **Konsole**."
   ]
  },
  {
   "cell_type": "markdown",
   "id": "63cc0019",
   "metadata": {},
   "source": [
    "## Der `print` Befehl"
   ]
  },
  {
   "cell_type": "markdown",
   "id": "d98f6ce0",
   "metadata": {},
   "source": [
    "Wir wollen uns nun den `print` Befehl genauer anschauen. Wie oben gesehen, gibt dieser Befehl den Text, den wir in Klammern eingeben, in der Konsole zurück. Beachte hier, dass Text (sogenannte **strings**) in Python in Anführungsstrichen geschrieben werden muss. "
   ]
  },
  {
   "cell_type": "code",
   "execution_count": 2,
   "id": "7d233ca8",
   "metadata": {},
   "outputs": [
    {
     "name": "stdout",
     "output_type": "stream",
     "text": [
      "Hallo\n",
      "HalloWorld\n"
     ]
    }
   ],
   "source": [
    "#Hier ein einfacher print-Befehl\n",
    "print('Hallo')\n",
    "\n",
    "# Wir könnnen übrigens verschiedene Textbausteine, also strings auch mit einem + ganz einfach verbinden:\n",
    "print('Hallo'+'World')"
   ]
  },
  {
   "cell_type": "markdown",
   "id": "e304d7a4",
   "metadata": {},
   "source": [
    "Beachte, dass hier das Leerzeichen fehlt. Du kannst es am Ende von 'Hallo' oder am Anfang von 'World' einfügen und schauen, ob dann die richtige Ausgabe in der Konsole erscheint. Nachdem du etwas geändert hast, musst du den Code erneut ausführen, also **SHIFT + ENTER** (⇧ + ↵ ) drücken.\n",
    "\n",
    "Natürlich können wir auch wie oben, einfach einen ganzen Satz in Anführungszeichen schreiben. Aber die Methode zwei Strings mit einem + zu verbinden wird später noch nützlich sein."
   ]
  },
  {
   "cell_type": "markdown",
   "id": "9eef819d",
   "metadata": {},
   "source": [
    "KONTEXT: Wenn das Spiel beginnt, wollen wir in der Konsole eine Begrüßung ausgeben. Aus dieser soll hervorgehen, dass es sich hier um ein Hangman-Spiel handelt. Es können auch kurz und knapp die Spielregelen erklärt werden."
   ]
  },
  {
   "cell_type": "markdown",
   "id": "90654134",
   "metadata": {},
   "source": [
    "**Aufgabe:** Überlege dir eine Begrüßung für das Hangman Spiel und benutze den `print` Befehl um diese in der Konsole ausgeben zu lassen. \n"
   ]
  },
  {
   "cell_type": "code",
   "execution_count": null,
   "id": "b9067fc3",
   "metadata": {},
   "outputs": [],
   "source": [
    "# Hier kannst du die Begrüßung für das Spiel schreiben"
   ]
  },
  {
   "cell_type": "markdown",
   "id": "935cdbf5",
   "metadata": {},
   "source": [
    "## Kommentare"
   ]
  },
  {
   "cell_type": "markdown",
   "id": "07fed2e8",
   "metadata": {},
   "source": [
    "\n",
    "Sicherlich sind dir im vorherigen Code-Schnipsel die **grünen Ausdrücke mit vorangegangenen `#`** aufgefallen.\\\n",
    "Dabei handelt es sich um **Kommentare**, die **nicht vom Computer als Anweisung verstanden** werden. Sie werden also vom Computer ignoriert und **dienen der Leserin als ergänzende Info**.\n"
   ]
  },
  {
   "cell_type": "code",
   "execution_count": 18,
   "id": "60ee0e01",
   "metadata": {},
   "outputs": [
    {
     "ename": "NameError",
     "evalue": "name 'x' is not defined",
     "output_type": "error",
     "traceback": [
      "\u001B[0;31m---------------------------------------------------------------------------\u001B[0m",
      "\u001B[0;31mNameError\u001B[0m                                 Traceback (most recent call last)",
      "Cell \u001B[0;32mIn[18], line 4\u001B[0m\n\u001B[1;32m      1\u001B[0m \u001B[38;5;66;03m# Dies ist ein Kommentar.\u001B[39;00m\n\u001B[1;32m      2\u001B[0m \u001B[38;5;66;03m# x=5 \u001B[39;00m\n\u001B[1;32m      3\u001B[0m \u001B[38;5;66;03m# Dies wird ignoriert, das heißt der Computer kennt x nicht. Folgendes führt also zu einem Fehler:\u001B[39;00m\n\u001B[0;32m----> 4\u001B[0m \u001B[38;5;28mprint\u001B[39m(\u001B[43mx\u001B[49m)\n",
      "\u001B[0;31mNameError\u001B[0m: name 'x' is not defined"
     ]
    }
   ],
   "source": [
    "# Dies ist ein Kommentar.\n",
    "# x=5 \n",
    "# Dies wird ignoriert, das heißt der Computer kennt x nicht. Folgendes führt also zu einem Fehler:\n",
    "print(x)"
   ]
  },
  {
   "cell_type": "markdown",
   "id": "bb6268b8",
   "metadata": {},
   "source": [
    "## Variablen"
   ]
  },
  {
   "cell_type": "markdown",
   "id": "3e270868",
   "metadata": {},
   "source": [
    "\n",
    "In **Variablen** können wir Werte abspeichern. Du kennst höchstwahrscheinlich schon Variablen aus der Mathematik oder Physik, in denen Zahlen gespeichert sind. In Python können **Werte** Zahlen, Strings (Text) oder sogenannte Booleans sein. Ein **Boolean** ist ein Wahrheitswert. Er kann einer der beiden Werte `True` (wahr) oder `False` (falsch) sein.\n",
    "\n",
    "Hier ein paar Beispiele:"
   ]
  },
  {
   "cell_type": "code",
   "execution_count": 15,
   "id": "9d05d891",
   "metadata": {},
   "outputs": [],
   "source": [
    "a = 7\n",
    "b = 9\n",
    "string = 'Text'\n",
    "c = True"
   ]
  },
  {
   "cell_type": "markdown",
   "id": "c615bd87",
   "metadata": {},
   "source": [
    "Und jetzt kannst du die Werte der Variablen weiterverwenden und zum Beispiel mit dem `print`-Befehl ausgeben lassen."
   ]
  },
  {
   "cell_type": "code",
   "execution_count": 16,
   "id": "f7ecf8db",
   "metadata": {},
   "outputs": [
    {
     "name": "stdout",
     "output_type": "stream",
     "text": [
      "Text\n",
      "16\n"
     ]
    }
   ],
   "source": [
    "print(string)\n",
    "print(a+b)"
   ]
  },
  {
   "cell_type": "markdown",
   "id": "2dd7ff7b",
   "metadata": {},
   "source": [
    "**Aufgabe:** Probiere selber aus Variablen zu definieren und auszugeben. "
   ]
  },
  {
   "cell_type": "code",
   "execution_count": null,
   "id": "2441e6a1",
   "metadata": {},
   "outputs": [],
   "source": [
    "# Hier hast du selber Platz zum Ausprobieren. Du kannst natürlich auch die Zellen oben verwenden."
   ]
  },
  {
   "cell_type": "markdown",
   "id": "fd75f6d2",
   "metadata": {},
   "source": [
    "## Datentypen (gerne als Zusatz erstmal einklappen)"
   ]
  },
  {
   "cell_type": "markdown",
   "id": "5fe5ef59",
   "metadata": {},
   "source": [
    "\n",
    "Die folgende Tabelle gibt einen Einsteiger-Überblick zu Datentypen. \n",
    "\n",
    "| Datentyp | Wertebereich | Beispiel |\n",
    "|----------|----------|----------|\n",
    "| `int` | Ganze Zahlen | `11` |\n",
    "| `float` | Reelle Zahlen | `3.14` |\n",
    "| `str` | Zeichenfolgen | `\"Katze\"`, `\"starcode*\"` |\n",
    "| `boolean` | `True`, `False` | `True` |\n",
    "\n",
    "Tatsächlich gibt es zwei Unterarten von Zahlen und zwar `int` und `float`. Dies kann für gewisse Operationen, wie die Division, wichtig sein. (Darauf werden wir hier nicht eingehen.)"
   ]
  },
  {
   "cell_type": "markdown",
   "id": "a866427d",
   "metadata": {},
   "source": [
    "## `Input`"
   ]
  },
  {
   "cell_type": "markdown",
   "id": "460312b7",
   "metadata": {},
   "source": [
    "KONTEXT: Für das Galgenmännchenspiel müssen wir der Spielerin die Möglichkeit geben Buchstaben zu raten. Hierzu soll jeweils ein Buchstabe eingegeben werden, der dann von unserem Programm geprüft wird."
   ]
  },
  {
   "cell_type": "markdown",
   "id": "e320007a",
   "metadata": {},
   "source": [
    "Hierzu verwenden wir die Funktion `input()` von Python. Sie erlaubt uns Text oder andere Eingaben, den wir in die Kommandozeile tippen zu speichern und damit weiter zu arbeiten. Zum besseren Verständnis hier erstmal ein Beispiel."
   ]
  },
  {
   "cell_type": "code",
   "execution_count": 19,
   "id": "d18e32e3",
   "metadata": {},
   "outputs": [
    {
     "data": {
      "text/plain": [
       "'hgo'"
      ]
     },
     "execution_count": 19,
     "metadata": {},
     "output_type": "execute_result"
    }
   ],
   "source": [
    "# Der Befehl Input lässt ein Textfeld erscheinen, in den die Benutzerin etwas eingeben kann\n",
    "input('Bitte ein Wort eingeben')"
   ]
  },
  {
   "cell_type": "markdown",
   "id": "935ce3b2",
   "metadata": {},
   "source": [
    "Wir können also in die Klammern des `input()` Befehls eine Anweisung schreiben, die dann vor dem Textfeld erscheint. Beachte, dass Strings, wie immer in Python in Anführungsstrichen geschrieben werden müssen. Um den eingegebenen Wert zu verarbeiten können wir uns die Eingabe als Variable speichern."
   ]
  },
  {
   "cell_type": "code",
   "execution_count": 20,
   "id": "6f3a4972",
   "metadata": {},
   "outputs": [],
   "source": [
    "#Wir speichern die Eingabe unter der Variable name. Somit können wir später wieder darauf zugreifen und der eingegebene Wert geht nicht verloren.\n",
    "name = input('Bitte gib deinen Namen ein.')"
   ]
  },
  {
   "cell_type": "markdown",
   "id": "4c6508d0",
   "metadata": {},
   "source": [
    "Nun können wir den eingegebenen Namen wieder aufrufen. Zum Beispiel mit dem print() Befehl von oben:"
   ]
  },
  {
   "cell_type": "code",
   "execution_count": 21,
   "id": "436c06c8",
   "metadata": {},
   "outputs": [
    {
     "name": "stdout",
     "output_type": "stream",
     "text": [
      "Dein Name ist jkhb.\n"
     ]
    }
   ],
   "source": [
    "# Hier verbinden wir nun verschiedene Strings mit einem +, wie oben gelernt.\n",
    "print('Dein Name ist '+ name +'.')"
   ]
  },
  {
   "cell_type": "markdown",
   "id": "852c539d",
   "metadata": {},
   "source": [
    "**Aufgabe:** Versuche nun selber ein Inputfeld zu erstellen, was eine personalisierte Begrüßung für das Spiel erstellt. Du kannst die Begrüßung von oben gerne kopieren und erweitern."
   ]
  },
  {
   "cell_type": "code",
   "execution_count": null,
   "id": "e08c9865",
   "metadata": {},
   "outputs": [],
   "source": [
    "# TODO Nimm zunächst die Eingabe der Nutzerin entgegen. Nutze dazu, was wir oben gelernt haben.\n",
    "# Speicher die Eingabe gleich unter einem sinnvollen Variablennamen.\n",
    "\n",
    "\n",
    "# TODO Nun begrüße die Person mit ihrem Namen zum Hangman Spiel."
   ]
  },
  {
   "cell_type": "markdown",
   "id": "f81d5a36",
   "metadata": {},
   "source": [
    "## Funktionen"
   ]
  },
  {
   "cell_type": "markdown",
   "id": "bbc549be",
   "metadata": {},
   "source": [
    "Eine Funktion ist ein Baustein, der eine bestimmte Aufgabe erfüllt. Man kann sie immer wieder aufrufen und an verschiedenen Stellen verwenden. Eine Funktion hat bestimmte Bestandteile, die wir immer verwenden müssen. Wir können uns das Prinzip einer Funktion, wie in der Mathematik vorstellen. Die Funktion bekommt dabei eine Eingabe (Input) und verarbeitet diese. Am Ende gibt sie ein Ergebnis (Output) zurück.\n",
    "\n",
    "### Bild\n"
   ]
  },
  {
   "cell_type": "markdown",
   "id": "1ee428a3",
   "metadata": {},
   "source": [
    "Hier erstmal ein Beispiel. Du musst noch nicht genau verstehen, was hier passiert. Der Name verrät aber schon die Aufgabe \n",
    "\n"
   ]
  },
  {
   "cell_type": "code",
   "execution_count": null,
   "id": "b3b209f4",
   "metadata": {},
   "outputs": [],
   "source": [
    "def addition(zahl1, zahl2):\n",
    "        ergebnis=zahl1+zahl2\n",
    "        return ergebnis"
   ]
  },
  {
   "cell_type": "markdown",
   "id": "f5490a49",
   "metadata": {},
   "source": [
    "Eine Funktion wird immer mit dem Wort `def` eingeführt. Daraufhin folgt der Name der Funktion. Dieser sollte möglichst akurat beschreiben, was die Aufgabe der Funktion ist. Der Name darf **keine** Leerzeichen und Sonderzeichen (ä,ö,ß. Klammern, Kommata, Punkte, ...) enthalten. Die erste Zeile jeder Funktion wird dann abgeschlossen von den Input Variablen in Klammern hinter den Variablen und einem Doppelpunkt. Was der Input genau ist, lernen wir gleich noch. Hier erstmal ein paar Beispiele für erste Zeilen von Funktionen:"
   ]
  },
  {
   "cell_type": "markdown",
   "id": "4cc3a792",
   "metadata": {},
   "source": [
    "\n",
    "```python\n",
    "def Wetter_morgen(Wetterdaten):\n",
    "\n",
    "def Gewicht(Körpergröße, Alter):\n",
    "\n",
    "def Reisezeit(Standort, Zielort):\n",
    "```"
   ]
  },
  {
   "cell_type": "markdown",
   "id": "66baed12",
   "metadata": {},
   "source": [
    "Wir sehen also, dass die Namen der Funktionen und deren Input, also die Werte in Klammern, genau aussagen, was dahintersteckt. Die erste Funktion würde zum Beispiel anhand der Wetterdaten (dem Input) das Wetter vorhersagen. Dagegen kann man von einer Funktion, die wie folgt aussieht"
   ]
  },
  {
   "cell_type": "markdown",
   "id": "24781169",
   "metadata": {},
   "source": [
    "```python\n",
    "    def Funktion1(x):\n",
    "```"
   ]
  },
  {
   "cell_type": "markdown",
   "id": "9769d5c5",
   "metadata": {},
   "source": [
    "nicht ablesen, was diese tut. Genau, wie wir oben Variablen immer sinnvoll und aussagekräftig benannt haben, tun wir das auch mit Funktionen."
   ]
  },
  {
   "cell_type": "markdown",
   "id": "7a71fda1",
   "metadata": {},
   "source": [
    "Nun haben wir die erste Zeile verstanden. Das ist bereits ein Großteil von dem, was eine Funktion braucht. Wir haben also gesehen, wo der Input an die Funktion übergeben wird. Fehlt noch der Output. Dies funktioniert folgendermaßen. Wir betrachten wieder das Beispiel"
   ]
  },
  {
   "cell_type": "code",
   "execution_count": 24,
   "id": "26ed66c9",
   "metadata": {},
   "outputs": [],
   "source": [
    "# Wir betrachten wieder das Beispiel von oben\n",
    "def addition(zahl1, zahl2):\n",
    "    ergebnis=zahl1+zahl2\n",
    "    return ergebnis"
   ]
  },
  {
   "cell_type": "markdown",
   "id": "08292aeb",
   "metadata": {},
   "source": [
    "Wir sehen, dass die Rückgabe mit dem Schlüsselwort `return` eingeleitet wird. Was hinter `return` steht wird von der Funktion ausgegeben. Außerdem muss man beachten, dass der gesamte Inhalt der Funktion eingerückt ist. Durch das Einrücken erkennt Python, dass die Zeile noch zur Funktion gehört. Sobald wir nicht mehr einrücken, gehört die Zeile nicht mehr zur Funktion."
   ]
  },
  {
   "cell_type": "markdown",
   "id": "291f28ab",
   "metadata": {},
   "source": [
    "Nun wollen wir die Funktion einmal ausprobieren. Dazu schreiben wir den Namen der Funktion hin, mit den jeweiligen Werten als Input, die wir ausprobieren wollen."
   ]
  },
  {
   "cell_type": "code",
   "execution_count": 28,
   "id": "1f023e26",
   "metadata": {},
   "outputs": [
    {
     "data": {
      "text/plain": [
       "17"
      ]
     },
     "execution_count": 28,
     "metadata": {},
     "output_type": "execute_result"
    }
   ],
   "source": [
    "# Hier testen wir die Funktion, jeweils an die Stelle der oben definierten Variablen kommen unsere Eingabewerte in der richtigen Reihenfolge.\n",
    "addition(9, 8)"
   ]
  },
  {
   "cell_type": "markdown",
   "id": "cbbd81d4",
   "metadata": {},
   "source": [
    "Wir geben nun noch ein Beispiel für zwei weitere Funktionen und dann ist es deine Aufgabe eine eigene Funktion zu schreiben."
   ]
  },
  {
   "cell_type": "code",
   "execution_count": null,
   "id": "b18d6658",
   "metadata": {},
   "outputs": [],
   "source": [
    "# Diese Funktion bekommt als Input zwei Strings (Worte oder Sätze)\n",
    "# und gibt sie nacheinander in der Konsole aus.\n",
    "def Worte_zusammenfuegen(wort1, wort2):\n",
    "    print(wort1)\n",
    "    print(wort2)"
   ]
  },
  {
   "cell_type": "code",
   "execution_count": null,
   "id": "7728dab7",
   "metadata": {},
   "outputs": [],
   "source": [
    "#Diese Funktion hat keinen Input und gibt als Output immer die Zahl 2.\n",
    "def konstante_zwei():\n",
    "    return 2"
   ]
  },
  {
   "cell_type": "markdown",
   "id": "d5aedd42",
   "metadata": {},
   "source": [
    "Beide Funktionen können wir einmal ausprobieren:"
   ]
  },
  {
   "cell_type": "code",
   "execution_count": 31,
   "id": "4b07a783",
   "metadata": {},
   "outputs": [
    {
     "name": "stdout",
     "output_type": "stream",
     "text": [
      "Hallo \n",
      "Olaf\n",
      "2\n"
     ]
    }
   ],
   "source": [
    "#Hier testen wir die beiden Beispielfunktionen\n",
    "Worte_zusammenfuegen('Hallo ','Olaf')\n",
    "print(konstante_zwei())"
   ]
  },
  {
   "cell_type": "markdown",
   "id": "864c4a22",
   "metadata": {},
   "source": [
    "KONTEXT: Wie oben bereits erwähnt, sind Funktionen, wie Werkzeuge, die wir immer wieder an verschiedenen Stellen verwenden können. Unser Hangman-Spiel wollen wir aus einer Reihe von Funktionen zusammenbauen, die jeweils eine einzelne kleine Aufgabe erfüllen. Wir haben uns bereits erarbeitet, wie die Spielerin im Spiel begrüßt wird und wie sie Buchstaben raten kann, indem sie diese mithilfe des `input` Befehls eingibt. Diese Funktionalitäten und auch alles weitere, was wir für das Spiel noch brauchen, wollen wir in einzelne Funktionen 'verpacken'. Erst ganz am Ende werden wir dann alles zusammenführen in einer übergreifenden Funktion, die nach und nach all unsere Funktionen aufruft. \n",
    "Damit das alles am Ende reibungslos funktioniert, haben wir die Namen für die Funktionen schon vorgegeben. **Äbdere die Namen der Funktionen also bitte nicht!**."
   ]
  },
  {
   "cell_type": "markdown",
   "id": "1de60c93",
   "metadata": {},
   "source": [
    "**Aufgabe:** Schreibe folgende zwei Funktionen:\n",
    "\n",
    "1. Eine Funktion, die von einer Zahl eins abzieht. Zum Beispiel soll für den Input 5 die Zahl 4 zurückgegeben werden.\n",
    "\n",
    "KONTEXT: Diese Funktion wollen wir später Verwenden, um von der Variable, unter der wir die Anzahl der 'Leben', also der Versuche gespeichert haben, eins abzuziehen. Natürlich nur, wenn falsch geraten wurde."
   ]
  },
  {
   "cell_type": "code",
   "execution_count": null,
   "id": "8d9812d8",
   "metadata": {},
   "outputs": [],
   "source": [
    "# Hier haben wir den Namen bereits vorgegeben, da wir diese Funktion spöter nochmal verwenden wollen.\n",
    "# Ändere den Namen also bitte nicht!\n",
    "\n",
    "# TODO: schreibe den Inhalt der Funktion.\n",
    "\n",
    "def verringere_um_Eins(zahl):\n",
    "    #schreibe hier deine Funktion"
   ]
  },
  {
   "cell_type": "markdown",
   "id": "37193c8f",
   "metadata": {},
   "source": [
    "Im folgenden Feld kannst du deine Funktion einmal ausführen. Denke daran vorher das Feld oben, in dem Du deine Funktion geschrieben hast mit *SHIFT +  ENTER* (⇧ + ↵ ) einmal zu speichern."
   ]
  },
  {
   "cell_type": "code",
   "execution_count": null,
   "id": "3cdbc53a",
   "metadata": {},
   "outputs": [],
   "source": [
    "verringere_um_Eins(7)"
   ]
  },
  {
   "cell_type": "markdown",
   "id": "2c1a91d6",
   "metadata": {},
   "source": [
    "2. Schreibe eine Funktion, die das Hangman Spiel eröffnet, indem du mit `print`-Befehlen eine Begrüßung ausgibst. Stell Dir vor das Spiel wird gestartet.\n",
    "Was soll die Spielerin dann sehen und lesen? Vielleicht kannst du die Begrüßung sogar personalisieren, indem du den Namen erfragst und mit Hilfe von `input` einbindest.\n",
    "\n",
    "KONTEXT: Begrüßung am Anfang des Spiels soll nun in eine Funktion verpackt werden. Alles Wissen dazu haben wir uns oben schon angeeignet."
   ]
  },
  {
   "cell_type": "code",
   "execution_count": null,
   "id": "6bc552db",
   "metadata": {},
   "outputs": [],
   "source": [
    "# TODO: Schreibe eine Funktion, die am Anfang des Spieles die Spielerin begrüßt\n",
    "# Merke: Diese Funktion braucht keinen Output.\n",
    "\n",
    "def kündige_Spieleröffnung_an():\n",
    "    # schreibe hier mit Hilfe von print-Befehlen deine Begrüßung"
   ]
  },
  {
   "cell_type": "markdown",
   "id": "b185e9b7",
   "metadata": {},
   "source": [
    "Wir wollen einmal testen, ob alles so läuft, wie Du es dir vorgestellt hast."
   ]
  },
  {
   "cell_type": "code",
   "execution_count": null,
   "id": "753f981e",
   "metadata": {},
   "outputs": [],
   "source": [
    "kündige_Spieleröffnung_an()"
   ]
  },
  {
   "cell_type": "markdown",
   "id": "ab6ff50b",
   "metadata": {},
   "source": [
    "## Zusatz (Funktionen)\n",
    "Zusatz: Eine Funktion, die als Input zwei Zahlen bekommt und deren Summe zurückgibt. Für 3 und 7 als Input soll sie also 10 zurückgeben.\n"
   ]
  },
  {
   "cell_type": "code",
   "execution_count": null,
   "id": "4b5b43ad",
   "metadata": {},
   "outputs": [],
   "source": [
    "# TODO: Denke dir einen sinnvollen Namen aus für die Funktion, die zwei Werte multipliziert. Schaue gerne nochmal oben die Beispiele an.\n",
    "# TODO: Welche und wie viele Variablen soll die Funktion entgegennehmen? Wie willst du diese nennen?\n",
    "# TODO: Was ist die Ausgabe der Funktion und wie erhalten wir diese?\n",
    "\n",
    "\n",
    "### schreibe hier deine Funktion"
   ]
  },
  {
   "cell_type": "markdown",
   "id": "d719396a",
   "metadata": {},
   "source": [
    "Auch diese Funktion wollen wir einmal testen."
   ]
  },
  {
   "cell_type": "code",
   "execution_count": null,
   "id": "0e1156bb",
   "metadata": {},
   "outputs": [],
   "source": [
    "# TODO: Teste hier deine Funktion. Schreibe dazu den Namen der Funktion mit konkreten Zahlen als Input hierhin."
   ]
  },
  {
   "cell_type": "markdown",
   "id": "dbd0a38f",
   "metadata": {},
   "source": [
    "## `if` und `else`"
   ]
  },
  {
   "cell_type": "markdown",
   "id": "fad63cfc",
   "metadata": {},
   "source": [
    "KONTEXT: In unserem Programm müssen wir an verschiedenen Stellen Entscheidungen treffen. Zum Beispiel, muss nach jedem Zug geprüft werden, ob ein Buchstabe richtig geraten wurde. Oder ob wir noch Versuche übrig haben. Diese Entscheidungen basieren auf Bedingungen."
   ]
  },
  {
   "cell_type": "markdown",
   "id": "8fc15cd2",
   "metadata": {},
   "source": [
    "In Python verwenden wir die Schlüsselwörter `if` und `else`, um solche Entscheidungen umzusetzen. Dabei prüfen wir eine Bedingung und führen abhängig von ihrem Ergebnis unterschiedliche Aktionen aus. Zum besseren Verständnis betrachten wir das ganze an Hand eines Beispiels.\n",
    "\n",
    "Wir können uns das Konzept in natürlicher Sprache so vorstellen:\n",
    "\n",
    "- **Wenn es regnet**, dann nehme ich einen Regenschirm.\n",
    "- **Wenn es nicht regnet**, dann brauche ich keinen Regenschirm.\n",
    "\n",
    "Wir können auch noch mehr Bedingungen auf einmal haben:\n",
    "\n",
    "- **Wenn es jetzt regnet**, dann nehme ich einen Regenschirm mit.\n",
    "- **Wenn es im Verlaufe des Tages zu regnen beginnen soll**, dann nehme ich einen Regenschirm mit.\n",
    "- **Wenn es nicht regnet und nicht regnen soll**, dann brauche ich keinen Regenschirm.\n",
    "\n",
    "Das folgende Beispiel zeigt, wie wir diese Logik in Python umsetzen können:"
   ]
  },
  {
   "cell_type": "code",
   "execution_count": 13,
   "id": "8367ee5d",
   "metadata": {},
   "outputs": [
    {
     "name": "stdout",
     "output_type": "stream",
     "text": [
      "Es regnet gerade, du brauchst einen Regenschirm!\n"
     ]
    }
   ],
   "source": [
    "# Wir nehmen an, dass es gerade regnet, aber später trocken ist.\n",
    "# Du kannst die Werte der Variablen auch auf andere Booleans setzen, um zu testen, wie das Programm auf anderes Wetter reagiert.\n",
    "regen_jetzt = True\n",
    "regen_spaeter = False\n",
    "\n",
    "# Mit IF, ELIF und ELSE prüfen wir die Bedingung:\n",
    "# \"Wenn es regnet, tue das ...\", \"Wenn es später regnet, tue das...\" und \"Sonst tue etwas anderes ...\"\n",
    "# ELIF lässt uns mehrere Fälle auflisten, die Auftreten können. Erst wenn all diese geprüft wurden wird ausgeführt, was hinter ELSE steht.\n",
    "if regen_jetzt == True:\n",
    "    print(\"Es regnet gerade, du brauchst einen Regenschirm!\")\n",
    "elif regen_spaeter == True:\n",
    "    print(\"Es soll später noch regnen, nimm also lieber einen Regenschirm mit!\")\n",
    "else:\n",
    "    print(\"Heute ist es trocken, du brauchst keinen Regenschirm!\")"
   ]
  },
  {
   "cell_type": "markdown",
   "id": "efef856d",
   "metadata": {},
   "source": [
    "### Vergleichsoperatoren und Bedingungen\n",
    "\n",
    "Bisher haben wir `if` und `else` verwendet, um einfache Bedingungen zu prüfen, z. B. ob eine Variable `True` oder `False` ist. Oft müssen wir jedoch **Vergleiche** zwischen Werten anstellen, um Entscheidungen zu treffen.\n",
    "\n",
    "Mit **Vergleichsoperatoren** kannst du überprüfen, wie zwei Werte zueinander stehen. Die häufigsten Vergleichsoperatoren in Python sind:\n",
    "\n",
    "- `>` (größer als)\n",
    "- `<` (kleiner als)\n",
    "- `>=` (größer oder gleich)\n",
    "- `<=` (kleiner oder gleich)\n",
    "- `==` (gleich)\n",
    "- `!=` (ungleich)\n",
    "\n"
   ]
  },
  {
   "cell_type": "markdown",
   "id": "fbb1c578",
   "metadata": {},
   "source": [
    "Hier noch ein Beispiel dazu:"
   ]
  },
  {
   "cell_type": "code",
   "execution_count": 17,
   "id": "3efee40f",
   "metadata": {},
   "outputs": [
    {
     "name": "stdout",
     "output_type": "stream",
     "text": [
      "Du bist minderjährig.\n"
     ]
    }
   ],
   "source": [
    "# Beachte, dass wir in Python, um zwei Werte zu vergleichen ==, statt nur einem Gleichheitszeichen verwenden müssen.\n",
    "# Probiere aus, was passiert, wenn Du das Alter änderst.\n",
    "alter=11\n",
    "if alter==18:\n",
    "    print('Du bist 18 Jahre alt.')\n",
    "elif alter<18:\n",
    "    print('Du bist minderjährig.')\n",
    "else:\n",
    "    print('Du bist eine ausgewachsene Person.')"
   ]
  },
  {
   "cell_type": "markdown",
   "id": "c855279f",
   "metadata": {},
   "source": [
    "KONTEXT; Zurück zur Anwendung in unserem Hangman Spiel:\n",
    "\n",
    "Nach jedem Zug in unserem Hangman-Spiel müssen wir prüfen, ob das Spiel nun beendet ist. Dazu prüfen wir folgende Bedingungen:\n",
    "\n",
    "- **Wenn das Wort im vergangenen Zug vollständing erraten wurde**, dann hat die Spielerin gewonnen.\n",
    "\n",
    "- **Wenn der Hangman vollständig gezeichnet ist, wir also keine Versuche mehr übrig haben**, dann ist das Spiel verloren.\n",
    "\n",
    "Ist keine der Bedingungen erfüllt, geht das Spiel einfach weiter.\n",
    "\n",
    "Wir sehen also, dass unsere Anwendung genau die gleiche Struktur hat, wie das Wetter-Beispiel von oben. Wir wollen die oben gelernte Methode also nun für unser Spiel verwenden."
   ]
  },
  {
   "cell_type": "markdown",
   "id": "bb9c6916",
   "metadata": {},
   "source": [
    "**Aufgabe:** Vervollständige die folgende Funktion, die obige Bedingungen prüft:\n",
    "Dabei benutzen wir folgende Inputs:\n",
    "- erratenesTeilwort: hat diese Form `['H', '_', 'L', 'L', '_']`, falls im Wort 'Hallo' schon die Buchstaben H und L erraten wurden. Es ist also eine Liste aus Strings. Was eine Liste ist und wie wir damit arbeiten lernen wir gleich. Hier ist alles was wir brauchen schon vorgegeben."
   ]
  },
  {
   "cell_type": "code",
   "execution_count": 15,
   "id": "dd380a91",
   "metadata": {},
   "outputs": [
    {
     "ename": "SyntaxError",
     "evalue": "invalid syntax (1508282181.py, line 10)",
     "output_type": "error",
     "traceback": [
      "\u001B[0;36m  Cell \u001B[0;32mIn[15], line 10\u001B[0;36m\u001B[0m\n\u001B[0;31m    elif # prüfe hier ob noch Versuche übrig sind. Die Variable erlaubteFehlversuche ist eine normale Zahl\u001B[0m\n\u001B[0m         ^\u001B[0m\n\u001B[0;31mSyntaxError\u001B[0m\u001B[0;31m:\u001B[0m invalid syntax\n"
     ]
    }
   ],
   "source": [
    "# Die Funktion soll TRUE zurückgeben, wenn das Spiel nach dem eben gemachten Zug noch weitergehen kann\n",
    "# Ist das Spiel nach dem vergangenen Zug gewonnen oder verloren, soll FALSE zurückgegeben werden\n",
    "\n",
    "\n",
    "def ist_das_Spiel_noch_am_laufen(erratenesTeilwort, erlaubteFehlversuche):\n",
    "    if (not (\"_\" in erratenesTeilwort)): #die Unterstriche sind Platzhalter für noch nicht erratene Buchstaben \n",
    "        # füge hier einen print-Befehl ein, der eine diesem Fall entsprechende Ausgabe ausgibt\n",
    "        return #True oder False?\n",
    "\n",
    "    elif # prüfe hier ob noch Versuche übrig sind. Die Variable erlaubteFehlversuche ist eine normale Zahl\n",
    "        # füge hier einen print-Befehl ein, der eine diesem Fall entsprechende Ausgabe ausgibt\n",
    "        return #True oder False?\n",
    "\n",
    "    else:\n",
    "        return #True oder False?"
   ]
  },
  {
   "cell_type": "markdown",
   "id": "48075be3",
   "metadata": {},
   "source": [
    "## Listen"
   ]
  },
  {
   "cell_type": "markdown",
   "id": "dfaf7042",
   "metadata": {},
   "source": [
    "KONTEXT: Für unser Hangman-Spiel müssen wir uns merken, welche Teile des Wortes wir schon erraten haben und welche noch nicht, wie machen wir das?\n",
    "\n",
    "Wir können natürlich für jeden Buchstaben eine neue Variable nutzen, aber wie merken wir uns dann die Reihenfolge? Und was würden wir machen, wenn sich die Länge des Wortes ändert? Dann müssten wir noch mehr Variablen einführen...\n",
    "Das wird sehr schnell unübersichtlich, deswegen gibt es in Python **Listen**. \n",
    "Listen schreibt man in Python mit eckigen Klammern. Zum Beispiel ist `erratenesTeilwort = [\"H\", \"_\", \"L\", \"L\", \"_\"] ` eine Liste, die an der ersten Stelle ein H enthält, dann einen Unterstrich, dann zwei Ls und dann noch einen Unterstrich (das könnte ein Zwischenstand von unserem Hangman-Spiel sein)."
   ]
  },
  {
   "cell_type": "markdown",
   "id": "3736d450",
   "metadata": {},
   "source": [
    "Das, was man in die Liste gepackt hat, kann man sich auch wieder einzeln anschauen. Dafür schreibt man den Namen der Liste und danch in eckigen Klammern die Position in der Liste, die man haben möchte, also zum Beispiel `buchstaben[0]`.\n",
    "\n",
    "***ACHTUNG:*** Python fängt bei `0`an zu zählen! \n",
    "\n",
    "Probier es einfach mal selbst aus:"
   ]
  },
  {
   "cell_type": "code",
   "execution_count": null,
   "id": "ab9b7404",
   "metadata": {},
   "outputs": [],
   "source": [
    "# wir erstellen hier die Liste mit Buchstaben drin\n",
    "buchstaben = [\"a\", \"h\", \"o\", \"l\"]\n",
    "\n",
    "# wir lassen uns den \"nullten\" (also ersten) Buchstaben aus der Liste ausgeben\n",
    "# TODO: verändere die Zahl und schau, was passiert. Was passiert, wenn man eine Zahl eingibt, die länger ist als die Liste?\n",
    "print(buchstaben[0])\n",
    "\n",
    "#TODO: lass das Wort \"hallo\" printen, indem du Buchstaben aus der Liste benutzt\n"
   ]
  },
  {
   "cell_type": "markdown",
   "id": "4508f8b9",
   "metadata": {},
   "source": [
    "Wir können die Liste auch verändern. Dafür schreiben wir wie beim Anschauen der Elemente den Namen der Liste, dahinter in eckigen Klammern die Position, die man verändern möchte und dann ein `=` mit dem Wert dahinter, durch den wir das Element ersetzen wollen. "
   ]
  },
  {
   "cell_type": "code",
   "execution_count": null,
   "id": "07410aed",
   "metadata": {},
   "outputs": [],
   "source": [
    "# wir ändern den ersten Buchstaben in der Liste \"buchstaben\" zu einem \"b\"\n",
    "buchstaben[0] = \"b\"\n",
    "print(buchstaben)\n",
    "\n",
    "# TODO: spiel ruhig etwas damit herum"
   ]
  },
  {
   "cell_type": "markdown",
   "id": "62485db1",
   "metadata": {},
   "source": [
    "Manchmal wollen wir auch wissen, wie lang eine Liste gerade ist. Dafür können wir `len(name_der_liste)`nutzen."
   ]
  },
  {
   "cell_type": "code",
   "execution_count": null,
   "id": "8f68eac3",
   "metadata": {},
   "outputs": [],
   "source": [
    "# wir lassen uns die Länge der Liste \"buchstaben\" ausgeben\n",
    "print(len(buchstaben))"
   ]
  },
  {
   "cell_type": "markdown",
   "id": "40c6ba47",
   "metadata": {},
   "source": [
    "Vielleicht ist dir gerade aufgefallen, dass die Liste \"buchstaben\" gerade immer die Länge 4 hat. Wir können deswegen auch nur vier verschiedene Buchstaben dort hineinpacken.\n",
    "\n",
    "Wenn wir die Liste länger machen wollen, müssten wir Python direkt sagen, dass neue Elemente an die Liste angehängt werden sollen.\n",
    "Dafür nutzen wir `.append()` (Englisch für anhängen). "
   ]
  },
  {
   "cell_type": "code",
   "execution_count": null,
   "id": "93706dea",
   "metadata": {},
   "outputs": [],
   "source": [
    "# wir hängen den Buchstaben g an die Liste \"buchstaben\"\n",
    "buchstaben.append(\"g\")\n",
    "print(buchstaben)\n",
    "\n",
    "# TODO: Wie lang ist die Liste jetzt?\n",
    "\n",
    "# TODO: versuche die Liste so zu verändern, dass du damit \n",
    "# deinen eigenen Namen schreiben kannst \n",
    "\n"
   ]
  },
  {
   "cell_type": "markdown",
   "id": "fcb95ae5",
   "metadata": {},
   "source": [
    "Wir können außerdem nicht nur Buchstaben in Listen packen, sondern alles mögliche (z.B. Zahlen) und sogar andere Listen."
   ]
  },
  {
   "cell_type": "code",
   "execution_count": null,
   "id": "10887f87",
   "metadata": {},
   "outputs": [],
   "source": [
    "zahlenliste = [2,5,6,12,14]\n",
    "listenliste = [[0,2,3], [4,2,16]]\n",
    "print(zahlenliste)\n",
    "print(listenliste[0][1])"
   ]
  },
  {
   "cell_type": "markdown",
   "id": "90ed9bc29ead71b4",
   "metadata": {},
   "source": [
    "## `for`-Schleifen\n"
   ]
  },
  {
   "cell_type": "markdown",
   "id": "9a1b2abe",
   "metadata": {},
   "source": [
    "Stell dir vor, wir möchten uns jeden Buchstaben aus einer Liste `wort` ausgeben lassen. Eine erste Idee, um das zu tun, wäre vielleicht:"
   ]
  },
  {
   "cell_type": "code",
   "execution_count": 2,
   "id": "ababbed2",
   "metadata": {},
   "outputs": [
    {
     "name": "stdout",
     "output_type": "stream",
     "text": [
      "h\n",
      "a\n",
      "l\n",
      "l\n",
      "o\n"
     ]
    }
   ],
   "source": [
    "wort = [\"h\", \"a\", \"l\", \"l\", \"o\"]\n",
    "print(wort[0])\n",
    "print(wort[1])\n",
    "print(wort[2])\n",
    "print(wort[3])\n",
    "print(wort[4])"
   ]
  },
  {
   "cell_type": "markdown",
   "id": "b02ce444",
   "metadata": {},
   "source": [
    "Das ist allerdings sehr viel Schreibaufwand und die Länge der Liste muss bekannt sein und sollte sich nicht ändern, deswegen ist das nicht die beste Lösung. \n",
    "\n",
    "Stattdessen gibt die `for`-Schleife, um Befehle mehrmals hintereinander auszuführen. Das Beispiel oben können wir damit so umschreiben:"
   ]
  },
  {
   "cell_type": "code",
   "execution_count": 10,
   "id": "a0b5af70",
   "metadata": {},
   "outputs": [
    {
     "name": "stdout",
     "output_type": "stream",
     "text": [
      "0 . Buchstabe:  h\n",
      "1 . Buchstabe:  a\n",
      "2 . Buchstabe:  l\n",
      "3 . Buchstabe:  l\n",
      "4 . Buchstabe:  o\n"
     ]
    }
   ],
   "source": [
    "for i in range(len(wort)):\n",
    "    print(i, \". Buchstabe: \", wort[i])"
   ]
  },
  {
   "cell_type": "markdown",
   "id": "c4d3cc09",
   "metadata": {},
   "source": [
    "Durch ` for i in range(len(wort))`  sorgen wir dabei dafür, dass `i` bei jeder Wiederholung der Schleife um eins erhöht wird, bis `i` die Länge von `wort` erreicht hat. Danach hören die Wiederholungen auf.\n",
    "\n",
    "Wir können aber mit `in` auch eine Liste oder einen String [das ist noch nicht schön irgendwie] durchgehen und uns jeden Eintrag anschauen:\n",
    "\n",
    "[ich hab das Gefühl, das ist zu kompliziert beschrieben]"
   ]
  },
  {
   "cell_type": "code",
   "execution_count": 11,
   "id": "220a0f92",
   "metadata": {},
   "outputs": [
    {
     "name": "stdout",
     "output_type": "stream",
     "text": [
      "h\n",
      "a\n",
      "n\n",
      "g\n",
      "m\n",
      "a\n",
      "n\n"
     ]
    }
   ],
   "source": [
    "wort = \"hangman\"\n",
    "\n",
    "for buchstabe in wort:\n",
    "    print(buchstabe)"
   ]
  },
  {
   "cell_type": "markdown",
   "id": "f78b822b",
   "metadata": {},
   "source": [
    "KONTEXT: Für unser Spiel wollen wir eine Liste anlegen, die uns speichert, wie lang das Wort ist, das wir suchen. Diese Liste nennen wir `verschleiertesWort`. Dafür soll sie für jeden Buchstaben in dem gesuchten Wort einen Unterstrich enthalten (so wie wenn man Hangman an der Tafel spielt).\n",
    "\n",
    "Später schreiben wir dort auch alle Buchstaben rein, die wir schon gefunden haben.\n",
    "\n",
    "***Aufgabe:*** Vervollständige die Funktion `gib_verschleiertes_Wort`, so dass sie eine Liste zurückgibt, die einen Unterstrich \"_\" als Platzhalter für jeden Buchstaben im eingegebenen Geheimwort enthält."
   ]
  },
  {
   "cell_type": "code",
   "execution_count": 18,
   "id": "5c7b3a16",
   "metadata": {},
   "outputs": [],
   "source": [
    "# Diese Funktion wandelt ein gegebenes Wort in eine Liste von Unterstrichen um. Als Input bekommt sie ein Wort als String\n",
    "\n",
    "def gib_verschleiertes_Wort(geheimwort):    \n",
    "    verschleiertesWort = []\n",
    "    #TODO: für jeden Buchstaben in \"geheimwort\" soll \n",
    "    # ein \"_\" zu \"verschleiertesWort\" hinzugefügt werden\n",
    "\n",
    "    return verschleiertesWort\n",
    "\n",
    "#Lösung (brauchen wir später)\n",
    "def gib_verschleiertes_Wort(geheimwort):    \n",
    "    verschleiertesWort = []\n",
    "    for buchstabe in geheimwort :\n",
    "        verschleiertesWort.append(\"_ \")\n",
    "\n",
    "    return verschleiertesWort\n",
    "\n"
   ]
  },
  {
   "cell_type": "markdown",
   "id": "fd926db0",
   "metadata": {},
   "source": [
    "KONTEXT: Wir brauchen außerdem eine Funktion, die einen Buchstaben, der wirklich im Lösungswort vorkommt, an der richtigen Stelle einsetzt."
   ]
  },
  {
   "cell_type": "markdown",
   "id": "db446734",
   "metadata": {},
   "source": [
    "***Aufgabe:*** Vervollständige die Funktion `entschleiere_Buchstaben`. \n",
    "Diese erhält den eingegebenen Buchstaben (`eingabebuchstabe`), das zu erratene Geheimwort (`geheimwort`) und das bisher schon erratene Teilwort, in dem für alle nicht erratenen Buchstaben noch ein \"_\" steht.\n",
    "Sie aktualisiert `erratenesTeilwort`, sodass an den richtigen Stellen der eingegebene Buchstabe geschrieben wird.\n",
    "\n",
    "Tipp: Die Funktion braucht kein `return`."
   ]
  },
  {
   "cell_type": "code",
   "execution_count": null,
   "id": "568da0bf",
   "metadata": {},
   "outputs": [],
   "source": [
    "def entschleiere_Buchstaben(eingabebuchstabe, geheimwort, erratenesTeilwort):\n",
    "    for i in range(len(geheimwort)):\n",
    "    #TODO: wenn der eingegebene Buchstabe der gleiche Buchstabe \n",
    "    # wie der, der in dem Geheimwort an der Stelle i steht,\n",
    "    # dann soll in erratenesTeilwort an der Stelle i \n",
    "    # auch der eingegebene Buchstabe geschrieben werde\n",
    "\n",
    "\n",
    "# Lösung - find ich schöner ohne enumerate\n",
    "def entschleiere_Buchstaben2(eingabebuchstabe, geheimwort, erratenesTeilwort):\n",
    "    for i in range(len(geheimwort)):\n",
    "        if (eingabebuchstabe == geheimwort[i]):\n",
    "            erratenesTeilwort[i] = eingabebuchstabe"
   ]
  },
  {
   "cell_type": "markdown",
   "id": "75a992efdf4de25b",
   "metadata": {},
   "source": [
    "## `while`-Schleifen\n",
    "\n",
    "Was aber, wenn wir **nicht wissen, wie oft wir etwas wiederholen müssen**? Stellen wir uns folgende Situationen vor:\n",
    "\n",
    "- **Wir wollen ein Spiel programmieren**, das keine feste Rundenanzahl hat, sondern so lange läuft, bis der Spieler gewinnt oder verliert.\n",
    "- **Wir suchen nach einer bestimmten Bedingung**, die erfüllt werden muss, bevor die Schleife endet (z. B. ein Passwort wird korrekt eingegeben).\n",
    "\n",
    "In solchen Fällen stoßen **`for`-Schleifen** an ihre Grenzen, da sie eine feste Anzahl von Wiederholungen erwarten. Stattdessen benötigen wir eine **`while`-Schleife**, die durch eine (Abbruch-)Bedingung gesteuert wird.\n",
    "\n",
    "***Beispiel:*** Wiederholung basierend auf Benutzereingabe\n",
    "\n",
    "In diesem Beispiel wird eine `while`-Schleife verwendet, um den Benutzer so lange nach einer Eingabe zu fragen, bis er eine bestimmte Antwort gibt (in diesem Fall \"ja\")."
   ]
  },
  {
   "cell_type": "code",
   "execution_count": null,
   "id": "2d336ce143b86ee7",
   "metadata": {},
   "outputs": [],
   "source": [
    "# Wiederhole das Programm, bis der Benutzer \"nein\" eingibt\n",
    "\n",
    "antwort = \"\"\n",
    "while antwort != \"nein\":\n",
    "    antwort = input(\"Möchtest du weitermachen? (ja/nein): \")\n",
    "print(\"Du hast 'nein' eingegeben. Das Programm endet.\")"
   ]
  },
  {
   "cell_type": "markdown",
   "id": "13513740",
   "metadata": {},
   "source": [
    "KONTEXT: Für unser Hangman-Spiel ist das auch nützlich, wenn wir überprüfen wollen, dass die Spielerin nur einen einzelnen Buchstaben eingibt (sonst würde es an anderen Stellen zu Problemen im Programm kommen).\n",
    "\n",
    "Dafür fragen wir solange nach einer Eingabe, bis wir wirklich nur einen Buchstaben bekommen."
   ]
  },
  {
   "cell_type": "markdown",
   "id": "7c5ddd25",
   "metadata": {},
   "source": [
    "Weiterhin müssen wir prüfen, ob ein der nun eingegebene Buchstabe im Wort enthalten ist. Das funktioniert folgendermaßen: Wir definieren uns zunächst ein Wort, was wir als Variable speichern:"
   ]
  },
  {
   "cell_type": "code",
   "execution_count": 2,
   "id": "c5ff35ae",
   "metadata": {},
   "outputs": [],
   "source": [
    "wort = 'Hase'"
   ]
  },
  {
   "cell_type": "markdown",
   "id": "c5402504",
   "metadata": {},
   "source": [
    "Wenn wir nun prüfen wollen, ob ein Buchstabe in unserem Wort enthalten ist, geben wir folgendes ein:"
   ]
  },
  {
   "cell_type": "code",
   "execution_count": 3,
   "id": "aa4d3a4b",
   "metadata": {},
   "outputs": [
    {
     "data": {
      "text/plain": [
       "True"
      ]
     },
     "execution_count": 3,
     "metadata": {},
     "output_type": "execute_result"
    }
   ],
   "source": [
    "# Wenn du diese Zelle abspielst sollte Python eine Boolean (True oder False, siehe oben) zurückgeben.\n",
    "'a' in wort"
   ]
  },
  {
   "cell_type": "markdown",
   "id": "80d9d10f",
   "metadata": {},
   "source": [
    "Wir sehen, dass uns der Wert `True`, also wahr zurückgegeben wird. Das sollte ja auch so sein. Wenn wir nun"
   ]
  },
  {
   "cell_type": "code",
   "execution_count": 4,
   "id": "0343133f",
   "metadata": {},
   "outputs": [
    {
     "data": {
      "text/plain": [
       "False"
      ]
     },
     "execution_count": 4,
     "metadata": {},
     "output_type": "execute_result"
    }
   ],
   "source": [
    "'p' in wort"
   ]
  },
  {
   "cell_type": "markdown",
   "id": "3ca4acb1",
   "metadata": {},
   "source": [
    "ausprobieren, wird wie erwartet False, also falsch zurückgegeben. Probiere einmal selbst aus, was passiert, wenn du ein paar Buchstaben testest. Spiele insbesondere mal mit Groß- und Kleinschreibung herum."
   ]
  },
  {
   "cell_type": "code",
   "execution_count": null,
   "id": "707c0f30",
   "metadata": {},
   "outputs": [],
   "source": [
    "# TODO Probiere hier aus, was bei Groß- und Kleinschreibung funktioniert."
   ]
  },
  {
   "cell_type": "markdown",
   "id": "0ca7d076",
   "metadata": {},
   "source": [
    "Du wirst feststellen, dass Python den Buchstaben 'w' nicht im Wort wiederfindet, sondern nur 'W'. Ebenso wird für 'A' False zurückgegeben, für 'a' allerdings True. Dies soll in unserem Hangman Spiel kein Problem darstellen. Um dies also zu umgehen wollen wir alle Wörter und Buchstaben mit denen wir hantieren groß schreiben oder alle klein schreiben. Dazu gibt es die folgenden Befehle:"
   ]
  },
  {
   "cell_type": "code",
   "execution_count": 6,
   "id": "66c14e3f",
   "metadata": {},
   "outputs": [
    {
     "name": "stdout",
     "output_type": "stream",
     "text": [
      "Hase HASE hase\n"
     ]
    }
   ],
   "source": [
    "# Wir nehmen uns wieder unser Wort von oben \n",
    "wort = 'Hase'\n",
    "\n",
    "# Mit dem folgenden Befehl können wir das gesamte Word großschreiben:\n",
    "wort_upper=wort.upper()\n",
    "\n",
    "# Und mit diesem Befehl wird das ganze Wort kleingeschrieben:\n",
    "wort_lower=wort.lower()\n",
    "\n",
    "# Wir geben uns die neuen Varianten der Variable wort einmal aus, um zu sehen, was genau passiert ist\n",
    "print(wort, wort_upper, wort_lower)"
   ]
  },
  {
   "cell_type": "markdown",
   "id": "e8455a5c",
   "metadata": {},
   "source": [
    "\n",
    "***Aufgabe:*** Vervollständige `erhalte_Großbuchstaben()`. Prüfe darin, ob das eingegebene wirklich nur **ein** Zeichen ist und ob es wirlich aus dem Alphabet kommt (dafür kannst du `eingabebuchstabe.isalpha()` nutzen, das gibt `True` zurück, wenn alle Zeichen in `eingabebuchstabe` aus dem Alphabet kommen).\n",
    "Solange das nicht erfüllt ist, printe eine Nachricht und frag noch mal nach einer Eingabe.\n",
    "Die Funktion soll dann den eingebenen Buchstaben als Großbuchstaben zurückgeben.\n"
   ]
  },
  {
   "cell_type": "code",
   "execution_count": 12,
   "id": "0dc90fe0",
   "metadata": {},
   "outputs": [],
   "source": [
    "def erhalte_Großbuchstaben(): \n",
    "    eingabebuchstabe = input(\"Gib einen einzelnen Buchstaben ein: \")\n",
    "    # TODO: solange wie die Länge der Eingabe nicht 1 ist \n",
    "    # und das eingegebene nicht aus dem Alphabet kommt\n",
    "    # schreib: \"Das war kein einzelner Buchstabe: \" \n",
    "    # und frag noch mal nach der Eingabe eines Buchstabens\n",
    "\n",
    "\n",
    "    # gib den eingegebenen Buchstaben als Großbuchstaben zurück\n",
    "\n",
    "\n",
    "# Lösung (brauchen wir später)\n",
    "def erhalte_Großbuchstaben():   \n",
    "    eingabebuchstabe = input(\"Gib einen Großbuchstaben ein: \")\n",
    "    while (not (len(eingabebuchstabe) == 1 and eingabebuchstabe.isalpha())):\n",
    "        print(\"Das war kein einzelner Buchstabe: \")\n",
    "        eingabebuchstabe = input(\"Gib einen Großbuchstaben ein: \")\n",
    "\n",
    "    return eingabebuchstabe.upper()"
   ]
  },
  {
   "cell_type": "code",
   "execution_count": null,
   "id": "5c6d071581d31924",
   "metadata": {},
   "outputs": [
    {
     "data": {
      "image/png": "[encoded data removed]",
      "text/plain": [
       "<Figure size 640x480 with 1 Axes>"
      ]
     },
     "metadata": {},
     "output_type": "display_data"
    }
   ],
   "source": [
    "from hangman_Minh_Anh import starte_hangmanspiel\n",
    "\n",
    "starte_hangmanspiel(['moin'])"
   ]
  }
 ],
 "metadata": {
  "kernelspec": {
   "display_name": "Python 3 (ipykernel)",
   "language": "python",
   "name": "python3"
  },
  "language_info": {
   "codemirror_mode": {
    "name": "ipython",
    "version": 3
   },
   "file_extension": ".py",
   "mimetype": "text/x-python",
   "name": "python",
   "nbconvert_exporter": "python",
   "pygments_lexer": "ipython3",
   "version": "3.13.1"
  }
 },
 "nbformat": 4,
 "nbformat_minor": 5
}
