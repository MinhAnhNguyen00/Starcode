{
 "cells": [
  {
   "cell_type": "markdown",
   "id": "8c21302bfd284b07",
   "metadata": {},
   "source": [
    "# starcode<sup>*</sup> WiSe 24/25"
   ]
  },
  {
   "cell_type": "markdown",
   "id": "672ff63a",
   "metadata": {},
   "source": [
    "# DEV STUFF\n",
    "\n",
    "THIS IS ONLY USED DURING DEV CYCLE! THESE COMMANDS LOAD THE JUPYTER EXETENSION FOR HOT-RELOADING PROJECT SOURCES!"
   ]
  },
  {
   "cell_type": "code",
   "execution_count": 1,
   "id": "3bb5a446",
   "metadata": {},
   "outputs": [],
   "source": [
    "%load_ext autoreload\n",
    "%autoreload 2"
   ]
  },
  {
   "cell_type": "markdown",
   "id": "553352d9",
   "metadata": {},
   "source": [
    "## 0. Vorbereitungen\n",
    "\n",
    "Um den Kurs dieses Notebooks nutzen zu können, müssen wir das Notebook zu nächst einrichten. \n",
    "\n",
    "Dafür wähle bitte die nachfolgende Zelle aus und drücke **SHIFT + ENTER** (⇧ + ↵ )."
   ]
  },
  {
   "cell_type": "code",
   "execution_count": 13,
   "id": "68cdc830",
   "metadata": {},
   "outputs": [
    {
     "name": "stdout",
     "output_type": "stream",
     "text": [
      "Einrichtung erfolgreich!\n"
     ]
    }
   ],
   "source": [
    "from lib.scripts.setup_env import create_venv, install_requirements\n",
    "\n",
    "create_venv()\n",
    "install_requirements()"
   ]
  },
  {
   "cell_type": "markdown",
   "id": "3a63c99f",
   "metadata": {},
   "source": [
    "## 1. Grundlagen \n",
    "Im Folgenden werdet ihr alle Grundlagen lernen, um mit dem Programmieren anfangen zu können.\n",
    "Falls es das erste Mal für dich ist, dass du mit einem **Jupyter Notebook**, dieser Art von Dokument, arbeitest, dann würde ich es dir empfehlen, es als **interaktives Dokument** zu betrachten, von **oben nach unten** zu lesen und bei den **interaktiven Code-Schnipseln mitzuarbeiten**. "
   ]
  },
  {
   "cell_type": "markdown",
   "id": "2e14c923d559aaf3",
   "metadata": {},
   "source": [
    "### 1.1 Programm\n",
    "**Ein Programm ist eine Menge von hintereinander ausgeführten Anweisungen.**\\\n",
    "Das mag sich jetzt etwas abstrakt anhören, aber tatsächlich kennt ihr Programme schon aus eurem Alltag.\\\n",
    "**Anleitungen zum Aufbauen von Möbelstücken**, **Kochrezepte** oder **Installationsguides** kann man sich als Programme vorstellen.\n",
    "\n",
    "<img src=\"msc/img/Bauanleitung_Vogelhaus.jpg\" style=\"width:200px; margin: 20px\"/>\n",
    "<img src=\"msc/img/Kochrezept.jpg\" style=\"width:200px; margin: 20px\"/>\n",
    "<img src=\"\" style=\"width:200px; margin: 20px\" alt=\"Bild für ein Installationsguide fehlt noch\"/>\n",
    "\n",
    "Im Unterschied dazu beihalten Programme in Computern **Code-Anweisungen**, die **vom Computer ausgeführt werden**. \n",
    "Ein sehr bekanntes Programm für Einsteiger ist das **HelloWorld-Programm**. \n",
    "```python \n",
    "    print(\"Hello World!\")\n",
    "```\n",
    "\n",
    "Du kannst das Programm gerne zum **Ausführen bringen**, um zu sehen, was es macht. \n",
    "Klick dafür auf die folgende Zelle mit dem Code und tippe dann gleichzeitig **SHIFT + ENTER** (⇧ + ↵ ).\\\n",
    "<img src=\"msc/img/Tastatur_Farbig.jpg\" style=\"width:200px; margin: 20px\"/>\n"
   ]
  },
  {
   "cell_type": "code",
   "execution_count": 1,
   "id": "d4970143",
   "metadata": {},
   "outputs": [
    {
     "name": "stdout",
     "output_type": "stream",
     "text": [
      "Hello World!\n"
     ]
    }
   ],
   "source": [
    "print(\"Hello World!\")"
   ]
  },
  {
   "cell_type": "markdown",
   "id": "89e7bc9b",
   "metadata": {},
   "source": [
    "Du solltest **unter der Zelle** den folgenden Ausdruck gesehen haben:\n",
    "```python\n",
    "    Hello World!\n",
    "```\n",
    "Es kam zu einer **Ausgabe** auf der **Konsole**, dem Bereich unter der Code-Zelle.\n",
    "\n",
    "Die **Anweisung `print`** hat den **String** `\"Hello World!\"` auf der Konsole ausgegeben. Kein Sorge, **Strings** werden im weiteren Verlauf erklärt werden. Dies diente nur dem Vorgeschmack."
   ]
  },
  {
   "cell_type": "markdown",
   "id": "3e270868",
   "metadata": {},
   "source": [
    "### 1.2 Variablen \n",
    "**Eine Variable ist ein Behältnis für ein Gegenstand.**\\\n",
    "Du kennst höchstwahrscheinlich schon Variablen aus der Mathematik oder Physik, die Zahlen beinhalten. Das gilt auch bei Programmen. In Programmen stellt die **Zuweisung einer Zahl zu einer Variablen** eine **Zuweisungs-Anweisung** dar.\\\n",
    "Zusätzlich können Programme abgesehen von Zahlen noch andere Arten von Gegenstände (**Datentypen**) beinhalten. Dazu gehören Zeichenketten (**Strings**) und Wahrheitswerte (**Boolean**).\n",
    "```python \n",
    "    number = 7\n",
    "    string = 'Text'\n",
    "    b = True\n",
    "```\n",
    "\n",
    "Probiere es doch selber mal aus eine Variable zu belegen."
   ]
  },
  {
   "cell_type": "code",
   "execution_count": null,
   "id": "51d5fee8",
   "metadata": {},
   "outputs": [
    {
     "name": "stdout",
     "output_type": "stream",
     "text": [
      "DEIN FEEDBACK\n"
     ]
    }
   ],
   "source": [
    "# TODO Ersetze DEIN FEEDBACK mit deinem Zwischen-Feedback zum bisherigen Kurs\n",
    "feedback = 'DEIN FEEDBACK'         # Zuweisungs-Anweisung\n",
    "\n",
    "print(feedback)                    # Konsolenausgabe-Anweisung"
   ]
  },
  {
   "cell_type": "markdown",
   "id": "5fe5ef59",
   "metadata": {},
   "source": [
    "#### Datentypen\n",
    "Die folgende Tabelle gibt einen Einsteiger-Überblick zu Datentypen. \n",
    "\n",
    "| Datentyp | Wertebereich | Beispiel |\n",
    "|----------|----------|----------|\n",
    "| `int` | Ganze Zahlen | `11` |\n",
    "| `float` | Reelle Zahlen | `3.14` |\n",
    "| `str` | Zeichenfolgen | `\"Katze\"`, `\"starcode*\"` |\n",
    "| `boolean` | `True`, `False` | `True` |\n",
    "\n",
    "Tatsächlich gibt es zwei Unterarten von Zahlen und zwar `int` und `float`. Dies kann für gewisse Operationen, wie die Division, wichtig sein. (Darauf werden wir hier nicht eingehen.)"
   ]
  },
  {
   "cell_type": "markdown",
   "id": "ef7a2ffd",
   "metadata": {},
   "source": [
    "### 1.3 Kommentare\n",
    "Sicherlich sind dir im vorherigen Code-Schnipsel die **grünen Ausdrücke mit vorangegangenen `#`** aufgefallen.\\\n",
    "Dabei handelt es sich um **Kommentare**, die **nicht vom Computer als Anweisung interpretiert** werden, also vom Computer ignoriert werden, und dem **Leser als ergänzende Info** dienen.\n",
    "\n",
    "Kommentare werden oftmals von Anfängern als unwichtig angesehen, weil man selber ja weiß, was man schreibt. \\\n",
    "Problem ist, dass man beim **späteren Anschauen** des Programms meist keine Ahnung mehr hat, was die Idee dahinter war. Auch sollen Programme **von den Nicht-Autoren verstanden** werden. Denn wirklich **leistungsfähige Programme sind das Ergebnis von Kollaboration vieler Programmierer**.\n",
    "\n",
    "Deswegen sind Kommentare sehr wichtig. Zu Beginn wird es schwierig sein abzuwägen, wie ausführlich die Kommentare sein müssen. Aber mit der Zeit kriegt man Gefühl dafür. "
   ]
  },
  {
   "cell_type": "markdown",
   "id": "9c4a323b",
   "metadata": {},
   "source": [
    "## Kontrollfluss in Programmen\n",
    "\n",
    "Wie im echten Leben treffen wir auch in Programmen Entscheidungen basierend auf bestimmten Bedingungen oder Beobachtungen. \n",
    "\n",
    "In Python verwenden wir die Schlüsselwörter `if` und `else`, um solche Entscheidungen umzusetzen. Dabei prüfen wir eine Bedingung und führen abhängig von ihrem Ergebnis unterschiedliche Aktionen aus.\n",
    "\n",
    "Wir können uns das Konzept in natürlicher Sprache so vorstellen:\n",
    "\n",
    "- **Wenn es regnet**, dann nehme ich einen Regenschirm.\n",
    "- **Wenn es nicht regnet**, dann brauche ich keinen Regenschirm.\n",
    "\n",
    "Das folgende Beispiel zeigt, wie wir diese Logik in Python umsetzen können:"
   ]
  },
  {
   "cell_type": "code",
   "execution_count": null,
   "id": "8367ee5d",
   "metadata": {},
   "outputs": [
    {
     "name": "stdout",
     "output_type": "stream",
     "text": [
      "Es regnet heute, du brauchst einen Regenschirm!\n"
     ]
    }
   ],
   "source": [
    "# Wir nehmen an, dass es heute regnet. Du kannst die Variable auch auf \"False\" setzen, um zu testen, wie das Programm auf trockenes Wetter reagiert.\n",
    "regen = True\n",
    "\n",
    "# Mit IF und ELSE prüfen wir die Bedingung:\n",
    "# \"Wenn es regnet, tue das ...\" \"Sonst tue etwas anderes ...\"\n",
    "if regen:\n",
    "    print(\"Es regnet heute, du brauchst einen Regenschirm!\")\n",
    "else:\n",
    "    print(\"Heute ist es trocken, du brauchst keinen Regenschirm!\")"
   ]
  },
  {
   "cell_type": "markdown",
   "id": "efef856d",
   "metadata": {},
   "source": [
    "### Vergleichsoperatoren und Bedingungen\n",
    "\n",
    "Bisher haben wir `if` und `else` verwendet, um einfache Bedingungen zu prüfen, z. B. ob eine Variable `True` oder `False` ist. Oft müssen wir jedoch **Vergleiche** zwischen Werten anstellen, um Entscheidungen zu treffen.\n",
    "\n",
    "Mit **Vergleichsoperatoren** kannst du überprüfen, wie zwei Werte zueinander stehen. Die häufigsten Vergleichsoperatoren in Python sind:\n",
    "\n",
    "- `>` (größer als)\n",
    "- `<` (kleiner als)\n",
    "- `>=` (größer oder gleich)\n",
    "- `<=` (kleiner oder gleich)\n",
    "- `==` (gleich)\n",
    "- `!=` (ungleich)\n",
    "\n",
    "#### Beispiel:\n",
    "Stell dir vor, wir möchten prüfen, ob es draußen so kalt ist, dass eine Jacke notwendig ist:\n",
    "- **Frage:** Ist die Temperatur unter 15 Grad?\n",
    "- **Antwort:** Das wird mit dem Vergleich `temperatur < 15` geprüft.\n",
    "\n",
    "#### Aufgabe:\n",
    "Schreibe ein Programm, das die Nutzer:in fragt, wie viel Grad es draußen hat, und eine passende Nachricht ausgibt:\n",
    "\n",
    "1. Wenn die Temperatur unter 15 Grad liegt, soll das Programm ausgeben: `\"Es ist kalt, zieh eine Jacke an!\"`.\n",
    "2. Andernfalls soll es ausgeben: `\"Es ist warm genug, du brauchst keine Jacke.\"`.\n",
    "\n",
    "#### Bonus:\n",
    "Füge eine Eingabeaufforderung hinzu, damit die Nutzer:in selbst die Temperatur eingeben kann.\n",
    "\n",
    "#### Beispiel für die Ausgabe:\n",
    "```plaintext\n",
    "Wie viel Grad hat es draußen? 10\n",
    "Es ist kalt, zieh eine Jacke an!\n"
   ]
  },
  {
   "cell_type": "code",
   "execution_count": null,
   "id": "7a4070ab",
   "metadata": {},
   "outputs": [],
   "source": [
    "# TODO: Zunächst müssen wir eine Variable definieren, um dem Programm mitzuteilen, wie warm es gerade draußen ist.\n",
    "# Tipp: Du kannst die Temperatur direkt setzen oder die Nutzer:in fragen, sie einzugeben.\n",
    "\n",
    "# TODO: Als nächstes müssen wir anhand der Temperatur entscheiden, ob eine Jacke benötigt wird. \n",
    "# Ersetze dazu \"_\" mit der entsprechenden Bedingung.\n",
    "\n",
    "if _:  # Ersetze \"_\" mit der richtigen Bedingung, z. B. \"temperatur < 15\"\n",
    "    print(\"Bitte trage hier eine Nachricht an den Nutzer ein...\")  # Passe die Nachricht an\n",
    "else:\n",
    "    print(\"Bitte trage hier eine Nachricht an den Nutzer ein...\")  # Passe die Nachricht an\n"
   ]
  },
  {
   "cell_type": "markdown",
   "id": "90ed9bc29ead71b4",
   "metadata": {},
   "source": [
    "### Schleifen\n",
    "\n",
    "In Python verwenden wir **Schleifen**, um Code mehrfach auszuführen. Die beiden wichtigsten Arten von Schleifen sind:\n",
    "\n",
    "- **`for`-Schleifen**: Diese werden verwendet, wenn die Anzahl der Wiederholungen bekannt ist oder wenn wir über eine Sequenz (z. B. eine Liste, ein oder einen String) iterieren möchten.\n",
    "\n",
    "- **`while`-Schleifen**: Diese sind flexibler und werden eingesetzt, wenn die Anzahl der Wiederholungen nicht vorab festgelegt ist. Stattdessen werden sie so lange ausgeführt, wie eine Bedingung erfüllt ist.\n",
    "\n",
    "\n",
    "\n",
    "Ein Beispiel aus dem Alltag:\n",
    "- **`for`-Schleife:** Ich möchte alle 10 Bücher im Regal durchgehen und die Titel notieren.\n",
    "- **`while`-Schleife:** Ich möchte Bücher durchgehen, bis ich eines finde, das ich lesen möchte (und ich weiß nicht vorher, wie viele ich durchsehen muss).\n",
    "\n",
    "#### Beispiel: Zahlen von 1 bis 5 ausgeben\n",
    "Eine Aufgabe wie \"Gib die Zahlen von 1 bis 5 aus\" eignet sich hervorragend für eine `for`-Schleife, da wir die Anzahl der Wiederholungen bereits kennen:"
   ]
  },
  {
   "metadata": {},
   "cell_type": "code",
   "outputs": [],
   "execution_count": null,
   "source": [
    "# Zahlen von 1 bis 5 ausgeben\n",
    "\n",
    "zahlen = [1, 2, 3, 4, 5]\n",
    "\n",
    "for i in zahlen:\n",
    "    print(\"Zahl: \" + i)"
   ],
   "id": "d9e23d4e21885407"
  },
  {
   "metadata": {},
   "cell_type": "markdown",
   "source": [
    "#### Szenario: Dynamische Wiederholungen\n",
    "\n",
    "Was aber, wenn wir **nicht wissen, wie oft wir etwas wiederholen müssen**? Stellen wir uns folgende Situationen vor:\n",
    "\n",
    "- **Wir spielen ein Spiel**, das so lange läuft, bis wir gewinnen oder verlieren.\n",
    "- **Wir suchen nach einer bestimmten Bedingung**, die erfüllt werden muss, bevor die Schleife endet (z. B. ein Passwort wird korrekt eingegeben).\n",
    "\n",
    "In solchen Fällen stoßen **`for`-Schleifen** an ihre Grenzen, da sie eine feste Anzahl von Iterationen erwarten. Stattdessen benötigen wir eine **`while`-Schleife**, die basierend auf einer Bedingung gesteuert wird.\n",
    "\n",
    "#### Beispiel: Wiederholung basierend auf Benutzereingabe\n",
    "\n",
    "In diesem Beispiel wird eine `while`-Schleife verwendet, um den Benutzer so lange nach einer Eingabe zu fragen, bis er eine bestimmte Antwort gibt (in diesem Fall \"ja\")."
   ],
   "id": "75a992efdf4de25b"
  },
  {
   "metadata": {},
   "cell_type": "code",
   "outputs": [],
   "execution_count": null,
   "source": [
    "# Wiederhole das Programm, bis der Benutzer \"nein\" eingibt\n",
    "\n",
    "antwort = \"\"\n",
    "while antwort != \"nein\":\n",
    "    antwort = input(\"Möchtest du weitermachen? (ja/nein): \")\n",
    "print(\"Du hast 'nein' eingegeben. Das Programm endet.\")"
   ],
   "id": "2d336ce143b86ee7"
  },
  {
   "metadata": {},
   "cell_type": "markdown",
   "source": [
    "#### Verwendung von `break` und `continue`\n",
    "\n",
    "In Python sind die Schlüsselwörter **`break`** und **`continue`** nützlich, um den Ablauf einer Schleife zu beeinflussen:\n",
    "\n",
    "- **`break`**: Beendet die Schleife sofort, unabhängig von der Bedingung. Es wird häufig verwendet, wenn eine bestimmte Situation eintritt, die das Ende der Schleife erfordert.\n",
    "\n",
    "- **`continue`**: Überspringt den aktuellen Schleifendurchlauf und fährt mit dem nächsten Durchlauf fort. Es wird verwendet, um eine Bedingung zu überprüfen und nur dann weiterzumachen, wenn diese erfüllt ist.\n",
    "\n",
    "\n",
    "#### Beispiel: Nur ungerade Zahlen ausgeben mit `continue`\n",
    "\n",
    "In diesem Beispiel wollen wir nur die ungeraden Zahlen in einer Liste ausgeben. Wenn die Zahl gerade ist, überspringen wir den aktuellen Schleifendurchlauf mit `continue`."
   ],
   "id": "ba7bc5385708c5e2"
  },
  {
   "metadata": {},
   "cell_type": "code",
   "outputs": [],
   "execution_count": null,
   "source": [
    "# Nur ungerade Zahlen ausgeben\n",
    "\n",
    "zahlen = [1, 2, 3, 4, 5, 6, 7, 8, 9, 10]\n",
    "\n",
    "for zahl in zahlen:\n",
    "    if zahl % 2 == 0:\n",
    "        continue  # Überspringe den Rest des Schleifendurchlaufs\n",
    "    print(zahl)"
   ],
   "id": "8e8d182542fb4367"
  },
  {
   "cell_type": "markdown",
   "id": "6f376cf6af3eeacd",
   "metadata": {},
   "source": [
    "#### Beispiel: Nur das erste Vorkommen eines Buchstabens finden mit `break`\n",
    "\n",
    "In diesem Beispiel wollen wir das erste Vorkommen des Buchstabens \"e\" in einem Wort finden, das zwei \"e\"s enthält. Sobald wir den ersten Buchstaben \"e\" gefunden haben, beenden wir die Schleife mit `break`."
   ]
  },
  {
   "metadata": {},
   "cell_type": "code",
   "outputs": [],
   "execution_count": null,
   "source": [
    "# Erster Buchstabe \"e\" im Wort finden\n",
    "\n",
    "wort = \"Beispiel\"\n",
    "index = 0\n",
    "\n",
    "for buchstabe in wort:\n",
    "    if buchstabe == \"e\":\n",
    "        print(\"Der erste Buchstabe 'e' wurde an der Position\" + index + \"gefunden.\")\n",
    "        break  # Schleife sofort beenden\n",
    "    index += 1"
   ],
   "id": "531ff84cc0a6f54e"
  }
 ],
 "metadata": {
  "kernelspec": {
   "display_name": "intro-mi",
   "language": "python",
   "name": "python3"
  },
  "language_info": {
   "codemirror_mode": {
    "name": "ipython",
    "version": 3
   },
   "file_extension": ".py",
   "mimetype": "text/x-python",
   "name": "python",
   "nbconvert_exporter": "python",
   "pygments_lexer": "ipython3",
   "version": "3.9.7"
  }
 },
 "nbformat": 4,
 "nbformat_minor": 5
}
