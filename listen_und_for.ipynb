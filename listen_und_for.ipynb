{
 "cells": [
  {
   "cell_type": "markdown",
   "id": "8c21302bfd284b07",
   "metadata": {},
   "source": [
    "# starcode<sup>*</sup> WiSe 24/25"
   ]
  },
  {
   "cell_type": "code",
   "execution_count": null,
   "id": "initial_id",
   "metadata": {
    "ExecuteTime": {
     "end_time": "2024-11-20T17:45:30.463033Z",
     "start_time": "2024-11-20T17:45:03.183479Z"
    }
   },
   "outputs": [
    {
     "name": "stdout",
     "output_type": "stream",
     "text": [
      "Welcome to Hangman!\n",
      "Please Enter your name:\n"
     ]
    }
   ],
   "source": [
    "from ipywidgets import interact\n",
    "\n",
    "from lib.hangman import hangman\n",
    "\n",
    "hangman(vs_cpu=True)"
   ]
  },
  {
   "cell_type": "markdown",
   "id": "9c4a323b",
   "metadata": {},
   "source": [
    "## Kontrollfluss in Programmen\n",
    "\n",
    "Wie im echten Leben treffen wir auch in Programmen Entscheidungen basierend auf bestimmten Bedingungen oder Beobachtungen. \n",
    "\n",
    "In Python verwenden wir die Schlüsselwörter `if` und `else`, um solche Entscheidungen umzusetzen. Dabei prüfen wir eine Bedingung und führen abhängig von ihrem Ergebnis unterschiedliche Aktionen aus.\n",
    "\n",
    "Wir können uns das Konzept in natürlicher Sprache so vorstellen:\n",
    "\n",
    "- **Wenn es regnet**, dann nehme ich einen Regenschirm.\n",
    "- **Wenn es nicht regnet**, dann brauche ich keinen Regenschirm.\n",
    "\n",
    "Das folgende Beispiel zeigt, wie wir diese Logik in Python umsetzen können:"
   ]
  },
  {
   "cell_type": "code",
   "execution_count": null,
   "id": "8367ee5d",
   "metadata": {},
   "outputs": [
    {
     "name": "stdout",
     "output_type": "stream",
     "text": [
      "Es regnet heute, du brauchst einen Regenschirm!\n"
     ]
    }
   ],
   "source": [
    "# Wir nehmen an, dass es heute regnet. Du kannst die Variable auch auf \"False\" setzen, um zu testen, wie das Programm auf trockenes Wetter reagiert.\n",
    "regen = True\n",
    "\n",
    "# Mit IF und ELSE prüfen wir die Bedingung:\n",
    "# \"Wenn es regnet, tue das ...\" \"Sonst tue etwas anderes ...\"\n",
    "if regen:\n",
    "    print(\"Es regnet heute, du brauchst einen Regenschirm!\")\n",
    "else:\n",
    "    print(\"Heute ist es trocken, du brauchst keinen Regenschirm!\")"
   ]
  },
  {
   "cell_type": "markdown",
   "id": "efef856d",
   "metadata": {},
   "source": [
    "### Vergleichsoperatoren und Bedingungen\n",
    "\n",
    "Bisher haben wir `if` und `else` verwendet, um einfache Bedingungen zu prüfen, z. B. ob eine Variable `True` oder `False` ist. Oft müssen wir jedoch **Vergleiche** zwischen Werten anstellen, um Entscheidungen zu treffen.\n",
    "\n",
    "Mit **Vergleichsoperatoren** kannst du überprüfen, wie zwei Werte zueinander stehen. Die häufigsten Vergleichsoperatoren in Python sind:\n",
    "\n",
    "- `>` (größer als)\n",
    "- `<` (kleiner als)\n",
    "- `>=` (größer oder gleich)\n",
    "- `<=` (kleiner oder gleich)\n",
    "- `==` (gleich)\n",
    "- `!=` (ungleich)\n",
    "\n",
    "#### Beispiel:\n",
    "Stell dir vor, wir möchten prüfen, ob es draußen so kalt ist, dass eine Jacke notwendig ist:\n",
    "- **Frage:** Ist die Temperatur unter 15 Grad?\n",
    "- **Antwort:** Das wird mit dem Vergleich `temperatur < 15` geprüft.\n",
    "\n",
    "#### Aufgabe:\n",
    "Schreibe ein Programm, das die Nutzer:in fragt, wie viel Grad es draußen hat, und eine passende Nachricht ausgibt:\n",
    "\n",
    "1. Wenn die Temperatur unter 15 Grad liegt, soll das Programm ausgeben: `\"Es ist kalt, zieh eine Jacke an!\"`.\n",
    "2. Andernfalls soll es ausgeben: `\"Es ist warm genug, du brauchst keine Jacke.\"`.\n",
    "\n",
    "#### Bonus:\n",
    "Füge eine Eingabeaufforderung hinzu, damit die Nutzer:in selbst die Temperatur eingeben kann.\n",
    "\n",
    "#### Beispiel für die Ausgabe:\n",
    "```plaintext\n",
    "Wie viel Grad hat es draußen? 10\n",
    "Es ist kalt, zieh eine Jacke an!\n"
   ]
  },
  {
   "cell_type": "code",
   "execution_count": null,
   "id": "d7303ecc-05e6-40b0-8a66-d37d6a156d51",
   "metadata": {},
   "outputs": [],
   "source": [
    "# TODO: Zunächst müssen wir eine Variable definieren, um dem Programm mitzuteilen, wie warm es gerade draußen ist.\n",
    "# Tipp: Du kannst die Temperatur direkt setzen oder die Nutzer:in fragen, sie einzugeben.\n",
    "\n",
    "# TODO: Als nächstes müssen wir anhand der Temperatur entscheiden, ob eine Jacke benötigt wird. \n",
    "# Ersetze dazu \"_\" mit der entsprechenden Bedingung.\n",
    "\n",
    "if _:  # Ersetze \"_\" mit der richtigen Bedingung, z. B. \"temperatur < 15\"\n",
    "    print(\"Bitte trage hier eine Nachricht an den Nutzer ein...\")  # Passe die Nachricht an\n",
    "else:\n",
    "    print(\"Bitte trage hier eine Nachricht an den Nutzer ein...\")  # Passe die Nachricht an\n"
   ]
  },
  {
   "cell_type": "markdown",
   "id": "94172e0a-52ab-4038-bbef-bec2384e795f",
   "metadata": {},
   "source": [
    "## Listen\n",
    "Wenn wir etwas speichern wollten, haben wir dafür bisher Variablen genutzt, in denen ein einzelner Wert steht. Was ist aber, wenn wir uns mehrere Werte merken wollen, die vielleicht auch in einem bestimmten Verhältnis zueinander stehen? \n",
    "Wie würdest du zum Beispiel mehrere Buchstaben speichern, die in der richtigen Reihenfolge ein Wort ergeben?\n",
    "[ist das gut, den Hangman-Bezug hier schon diffus herzustellen?]\n",
    "\n",
    "Man kann natürlich für jeden Buchstaben eine neue Variable nutzen, aber wie merkt man sich dann die Reihenfolge? Und was macht man, wenn sich die Länge des Wortes ändert? Dann müsste man noch mehr Variablen einführen...\n",
    "Das wird sehr schnell unübersichtlich, deswegen gibt es in Python **Listen**. \n",
    "Listen schreibt man in Python mit eckigen Klammern. Zum Beispiel ist `buchstaben = [\"a\", \"h\", \"o\", \"l\", \"b\"]` eine Liste, die \"buchstaben\" heißt und die Buchstaben a, h, o, l und b enthält.\n",
    "\n",
    "Das, was man in die Liste gepackt hat, kann man sich auch wieder einzeln anschauen. Dafür schreibt man den Namen der Liste und danch in eckigen Klammern die Position in der Liste, die man haben möchte, also zum Beispiel `buchstaben[0]`.\n",
    "\n",
    "***ACHTUNG:*** Python fängt bei `0`an zu zählen! \n",
    "\n",
    "Probier es einfach mal selbst aus:"
   ]
  },
  {
   "cell_type": "code",
   "execution_count": 28,
   "id": "d05b4571-8803-4ce0-8ac6-695ea22fd376",
   "metadata": {},
   "outputs": [
    {
     "name": "stdout",
     "output_type": "stream",
     "text": [
      "a\n"
     ]
    }
   ],
   "source": [
    "# wir erstellen hier die Liste mit Buchstaben drin\n",
    "buchstaben = [\"a\", \"h\", \"o\", \"l\"]\n",
    "\n",
    "# wir lassen uns den \"nullten\" (also ersten) Buchstaben aus der Liste ausgeben\n",
    "# TODO: verändere die Zahl und schau, was passiert. Was passiert, wenn man eine Zahl eingibt, die länger ist als die Liste?\n",
    "print(buchstaben[0])\n",
    "\n",
    "#TODO: lass das Wort \"hallo\" printen, indem du Buchstaben aus der Liste benutzt\n"
   ]
  },
  {
   "cell_type": "markdown",
   "id": "aac1d488-f9b2-4fcd-bbf4-9a074069e7c8",
   "metadata": {},
   "source": [
    "Wir können die Liste auch verändern. Dafür schreiben wir wie beim Anschauen der Elemente den Namen der Liste, dahinter in eckigen Klammern die Position, die man verändern möchte und dann ein `=` mit dem Wert dahinter, durch den wir das Element ersetzen wollen. "
   ]
  },
  {
   "cell_type": "code",
   "execution_count": 29,
   "id": "ee27aa27-f36a-4d9c-891c-359e7e051f97",
   "metadata": {},
   "outputs": [
    {
     "name": "stdout",
     "output_type": "stream",
     "text": [
      "['b', 'h', 'o', 'l']\n"
     ]
    }
   ],
   "source": [
    "# wir ändern den ersten Buchstaben in der Liste \"buchstaben\" zu einem \"b\"\n",
    "buchstaben[0] = \"b\"\n",
    "print(buchstaben)\n",
    "\n",
    "# TODO: versuche die Liste so zu verändern, dass du damit deinen eigenen Namen schreiben kannst "
   ]
  },
  {
   "cell_type": "markdown",
   "id": "9f6628ed-0a44-43dd-a827-5503e2cd4e37",
   "metadata": {},
   "source": [
    "Vielleicht hast du gerade bemerkt, dass du in die Liste \"buchstaben\" gerade nicht mehr als vier verschiedene Buchstaben bekommst. \n",
    "Wenn wir die Liste länger machen wollen, müssten wir Python direkt sagen, dass neue Elemente an die Liste angehängt werden sollen.\n",
    "Dafür nutzen wir `.append()` (Englisch für anhängen) [Bezug zur Erklärung von Funktionen davor herstellen]. "
   ]
  },
  {
   "cell_type": "code",
   "execution_count": 30,
   "id": "142b26d3-e61e-49e4-8867-9e20216ea8cc",
   "metadata": {},
   "outputs": [
    {
     "name": "stdout",
     "output_type": "stream",
     "text": [
      "['b', 'h', 'o', 'l', 'g']\n"
     ]
    }
   ],
   "source": [
    "# wir hängen den Buchstaben g an die Liste \"buchstaben\"\n",
    "buchstaben.append(\"g\")\n",
    "print(buchstaben)\n",
    "\n",
    "# TODO: falls es davor nicht ging, versuche jetzt nochmal deinen Namen mit den Buchstaben aus der Liste zu schreiben"
   ]
  },
  {
   "cell_type": "markdown",
   "id": "0a531ce3-5160-4ae1-8579-55f6ec64e3fb",
   "metadata": {},
   "source": [
    "Wir können also die Länge von Listen ändern, indem wir einfach neue Elemente anhängen. Manchmal wollen wir auch wissen, wie lang eine Liste gerade ist. Dafür können wir `len(name_der_liste)`nutzen. [oder das davor und dann die Veränderung in der Länge der Liste durch append sehen lassen?]"
   ]
  },
  {
   "cell_type": "code",
   "execution_count": 28,
   "id": "e8ccf09d-f04d-4533-b938-a35bc4709faf",
   "metadata": {},
   "outputs": [
    {
     "name": "stdout",
     "output_type": "stream",
     "text": [
      "4\n"
     ]
    }
   ],
   "source": [
    "# wir lassen uns die Länge der Liste \"buchstaben\" ausgeben\n",
    "print(len(buchstaben))"
   ]
  },
  {
   "cell_type": "markdown",
   "id": "eb37762a-a2ff-433f-a6b0-0f03a798f182",
   "metadata": {},
   "source": [
    "Wir können außerdem nicht nur Buchstaben in Listen packen, sondern alles mögliche (z.B. Zahlen) und sogar andere Listen. [dazu könnte man Zusatzaufgabe machen]"
   ]
  },
  {
   "cell_type": "code",
   "execution_count": 15,
   "id": "a74665d7-8acf-4bc1-9675-09c18be6bd9a",
   "metadata": {},
   "outputs": [
    {
     "name": "stdout",
     "output_type": "stream",
     "text": [
      "[2, 5, 6, 12, 14]\n",
      "2\n"
     ]
    }
   ],
   "source": [
    "zahlenliste = [2,5,6,12,14]\n",
    "listenliste = [[0,2,3], [4,2,16]]\n",
    "print(zahlenliste)\n",
    "print(listenliste[0][1])"
   ]
  },
  {
   "cell_type": "markdown",
   "id": "7f780ec0-c74b-43f7-9af1-9982fbba90a9",
   "metadata": {},
   "source": [
    "## `for`-Schleifen\n",
    "\n",
    "Wenn wir durch eine Liste gehen und mit jedem der Elemente immer wieder etwas gleiches tun wollen, bietet es sich an, eine Schleife zu nutzen. Wir haben ja schon `while`-Schleifen kennengelernt, probieren wir es also hiermit."
   ]
  },
  {
   "cell_type": "code",
   "execution_count": 19,
   "id": "5be0ffd0-82cf-4dfa-84cc-5813cdde4020",
   "metadata": {},
   "outputs": [
    {
     "name": "stdout",
     "output_type": "stream",
     "text": [
      "Wie\n",
      "geht\n",
      "es\n",
      "dir\n"
     ]
    }
   ],
   "source": [
    "# wir erstellen eine Liste mit Wörtern\n",
    "wörter = [\"Wie\", \"geht\", \"es\", \"dir\"]\n",
    "\n",
    "# wir schaffen uns einen Counter, der bei 0 beginnt\n",
    "counter = 0\n",
    "\n",
    "# wir speichern uns die Länge der Liste \"wörter\", also die Anzahl an Elementen in der Liste\n",
    "länge = len(wörter)\n",
    "\n",
    "while counter < länge:\n",
    "    print(wörter[counter]) # schreib das Element, das an der Stelle in der Liste steht, wo der Counter gerade ist\n",
    "    counter = counter +1 # erhöhe den Counter um 1"
   ]
  },
  {
   "cell_type": "markdown",
   "id": "ea54043c-02f2-4e9f-bdb7-77bdaa003cd5",
   "metadata": {},
   "source": [
    "Da das etwas ist, was man beim Programmieren sehr häufig tut, hat man sich noch eine leichtere Version überlegt: \n"
   ]
  },
  {
   "cell_type": "code",
   "execution_count": 10,
   "id": "15a47ffb-caf7-418d-bb27-c0fb4accaad2",
   "metadata": {},
   "outputs": [
    {
     "name": "stdout",
     "output_type": "stream",
     "text": [
      "Wie\n",
      "geht\n",
      "es\n",
      "dir\n"
     ]
    }
   ],
   "source": [
    "for counter in range(länge):\n",
    "    print(wörter[counter])"
   ]
  },
  {
   "cell_type": "markdown",
   "id": "3101c912-2dc7-4eff-b51f-e6c0d5eb92ce",
   "metadata": {},
   "source": [
    "Man nennt dies eine `for`-Schleife. Wir müssen nun nicht mehr selbst vor der Schleife einen Counter setzen und diesen in jedem Durchlauf der Schleife erhöhen, weil das durch das Nutzen von `for`automatisch passiert. [ist range schon eingeführt?]\n",
    "\n",
    "Für Listen geht das sogar noch einfacher:"
   ]
  },
  {
   "cell_type": "code",
   "execution_count": 13,
   "id": "41db4a68-6d9f-46ac-962a-bb933d1a4ba4",
   "metadata": {},
   "outputs": [
    {
     "name": "stdout",
     "output_type": "stream",
     "text": [
      "Wie\n",
      "geht\n",
      "es\n",
      "dir\n"
     ]
    }
   ],
   "source": [
    "for wort in wörter:\n",
    "    print(wort)"
   ]
  },
  {
   "cell_type": "markdown",
   "id": "6808c7b5-fdd5-49aa-9acf-38365547729d",
   "metadata": {},
   "source": [
    "Wir gehen hier einmal durch die Liste \"wörter\" durch und dabei werden die Einträge der Liste in dem Durchlauf der Schleife zeitweise in der Variablen \"wort\" gespeichert [die Erklärung mag ich nicht, wie geht das einfacher?]\n",
    "\n",
    "Wir können das sogar nicht nur mit Listen machen, sondern auch mit anderen Dingen, die mehrere Elemente enthalten. [Formulierung mag ich nicht] Zum Beipiel geht das auch mit Strings [oder nennen wir das anders?]"
   ]
  },
  {
   "cell_type": "code",
   "execution_count": 26,
   "id": "731cc61c-1376-4b7a-ad39-a25825c85a6a",
   "metadata": {},
   "outputs": [
    {
     "name": "stdout",
     "output_type": "stream",
     "text": [
      "h\n",
      "a\n",
      "l\n",
      "l\n",
      "o\n"
     ]
    }
   ],
   "source": [
    "wort = \"hallo\"\n",
    "\n",
    "for buchstabe in wort:\n",
    "    print(buchstabe)"
   ]
  },
  {
   "cell_type": "markdown",
   "id": "bc58da41-da83-4a67-ad41-589a9b27eac6",
   "metadata": {},
   "source": [
    "Bisher haben wir immer nur ein `print()`in der Schleife gehabt. Natürlich kann man auch andere Dinge tun. \n",
    "\n",
    "**Aufgabe:** Zähle, wie viele Vokale in dem String \"Ich lerne programmieren\" vorkommen. Nutze dafür eine `for`-Schleife."
   ]
  },
  {
   "cell_type": "code",
   "execution_count": 22,
   "id": "87c640be-b9c2-4c73-b396-d384e832f43a",
   "metadata": {},
   "outputs": [],
   "source": [
    "satz = \"Ich lerne programmieren\"\n",
    "\n",
    "# TODO: schreib hier deine for-Schleife, um die Vokale zu zählen"
   ]
  },
  {
   "cell_type": "markdown",
   "id": "13c36d02-f028-4c1a-b8b1-544806f8ca91",
   "metadata": {},
   "source": [
    "Wir können den String auch in einer Schleife verändern.\n",
    "\n",
    "**Aufgabe:** Ersetze alle in dem String `satz` vorkommenden Vokal durch ein \"a\". Nutze hierfür auch wieder eine `for`-Schleife."
   ]
  },
  {
   "cell_type": "code",
   "execution_count": 23,
   "id": "d0fe2b90-e131-49ae-820b-5ed7c1326c36",
   "metadata": {},
   "outputs": [],
   "source": [
    "# TODO: schreib hier deine for-Schleife, um alle Vokale zu \"a\" zu machen"
   ]
  }
 ],
 "metadata": {
  "kernelspec": {
   "display_name": "Python 3 (ipykernel)",
   "language": "python",
   "name": "python3"
  },
  "language_info": {
   "codemirror_mode": {
    "name": "ipython",
    "version": 3
   },
   "file_extension": ".py",
   "mimetype": "text/x-python",
   "name": "python",
   "nbconvert_exporter": "python",
   "pygments_lexer": "ipython3",
   "version": "3.10.12"
  }
 },
 "nbformat": 4,
 "nbformat_minor": 5
}
